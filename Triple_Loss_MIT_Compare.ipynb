{
  "nbformat": 4,
  "nbformat_minor": 0,
  "metadata": {
    "colab": {
      "name": "Triple_Loss_MIT_Compare.ipynb",
      "provenance": [],
      "machine_shape": "hm",
      "authorship_tag": "ABX9TyNwetnLNCJ5I9r1KfLsUDzC",
      "include_colab_link": true
    },
    "kernelspec": {
      "name": "python3",
      "display_name": "Python 3"
    },
    "accelerator": "GPU"
  },
  "cells": [
    {
      "cell_type": "markdown",
      "metadata": {
        "id": "view-in-github",
        "colab_type": "text"
      },
      "source": [
        "<a href=\"https://colab.research.google.com/github/Aditi1203/CMPE-295/blob/master/Triple_Loss_MIT_Compare.ipynb\" target=\"_parent\"><img src=\"https://colab.research.google.com/assets/colab-badge.svg\" alt=\"Open In Colab\"/></a>"
      ]
    },
    {
      "cell_type": "code",
      "metadata": {
        "id": "9G8dGFzo2lrq",
        "colab_type": "code",
        "colab": {
          "base_uri": "https://localhost:8080/",
          "height": 153
        },
        "outputId": "9b63ce8d-b39b-4a85-ebc4-1565736345c4"
      },
      "source": [
        "!git clone https://github.com/Aditi1203/CMPE-295.git"
      ],
      "execution_count": 1,
      "outputs": [
        {
          "output_type": "stream",
          "text": [
            "Cloning into 'CMPE-295'...\n",
            "remote: Enumerating objects: 10, done.\u001b[K\n",
            "remote: Counting objects: 100% (10/10), done.\u001b[K\n",
            "remote: Compressing objects: 100% (10/10), done.\u001b[K\n",
            "remote: Total 1114395 (delta 1), reused 5 (delta 0), pack-reused 1114385\u001b[K\n",
            "Receiving objects: 100% (1114395/1114395), 3.02 GiB | 29.31 MiB/s, done.\n",
            "Resolving deltas: 100% (220392/220392), done.\n",
            "Checking out files: 100% (778066/778066), done.\n"
          ],
          "name": "stdout"
        }
      ]
    },
    {
      "cell_type": "code",
      "metadata": {
        "id": "diASFTQZ2vni",
        "colab_type": "code",
        "colab": {
          "base_uri": "https://localhost:8080/",
          "height": 34
        },
        "outputId": "0291da38-752c-4d25-89c3-f1b3c2b4541c"
      },
      "source": [
        "cd CMPE-295/anand_sandbox/"
      ],
      "execution_count": 1,
      "outputs": [
        {
          "output_type": "stream",
          "text": [
            "/content/CMPE-295/anand_sandbox\n"
          ],
          "name": "stdout"
        }
      ]
    },
    {
      "cell_type": "code",
      "metadata": {
        "id": "Xy1P93BJ21Op",
        "colab_type": "code",
        "colab": {
          "base_uri": "https://localhost:8080/",
          "height": 34
        },
        "outputId": "5979d31a-f88d-47d0-ebea-bd508f47575f"
      },
      "source": [
        "import pandas as pd\n",
        "import numpy as np\n",
        "import cv2\n",
        "import os\n",
        "import imutils\n",
        "import random\n",
        "from keras.applications import VGG19, VGG16\n",
        "from keras.applications.vgg19 import preprocess_input\n",
        "from keras.applications.vgg16 import preprocess_input\n",
        "from itertools import permutations\n",
        "from keras.optimizers import SGD,Adam\n",
        "from PIL import Image\n",
        "import keras\n",
        "from keras import backend as K\n",
        "from keras import Sequential, losses, optimizers, Input, optimizers\n",
        "from keras.layers import Input, Conv2D, Lambda, Dense, Flatten,MaxPooling2D, concatenate\n",
        "from keras.models import Model, Sequential\n",
        "from keras.layers import Input, Flatten, Lambda, Dense, Conv2D, MaxPool2D, MaxPooling2D, concatenate, Average, Flatten, Dropout, Activation\n",
        "from keras.utils import to_categorical, plot_model,vis_utils\n",
        "from sklearn.preprocessing import LabelEncoder\n",
        "from sklearn.model_selection import train_test_split\n",
        "from keras.callbacks import TensorBoard, EarlyStopping\n",
        "from keras.preprocessing.image import img_to_array\n",
        "from skimage import io\n",
        "import imutils\n",
        "import matplotlib.pyplot as plt\n",
        "import matplotlib.image as mpimg\n",
        "import glob\n",
        "import pywt\n",
        "from scipy import signal"
      ],
      "execution_count": 2,
      "outputs": [
        {
          "output_type": "stream",
          "text": [
            "Using TensorFlow backend.\n"
          ],
          "name": "stderr"
        }
      ]
    },
    {
      "cell_type": "code",
      "metadata": {
        "id": "SSkm6Jt522AY",
        "colab_type": "code",
        "colab": {}
      },
      "source": [
        "def load_data(number_of_items=3):\n",
        "    \"\"\"\n",
        "        number_of_items -> Number of items to return\n",
        "        returns the data in a dictionary of images and labels.\n",
        "    \"\"\"\n",
        "    path = \"scalogram_module/Scalogram\"\n",
        "    path1= \"scalogram_module/Scalogram/Cropped\"\n",
        "    data = [] \n",
        "    curated_data = {\"label\":[], \"scalogram\":[]}\n",
        "    for subject_name in os.listdir(path)[:number_of_items]:\n",
        "        if subject_name == \".DS_Store\":\n",
        "            number_of_items=number_of_items+1\n",
        "            continue\n",
        "        if subject_name  ==\".ipynb_checkpoints\":\n",
        "            number_of_items=number_of_items+1\n",
        "            continue\n",
        "        print (\"Going through subject:\" + subject_name)\n",
        "        base=os.path.basename(path+\"/\"+subject_name)\n",
        "        labelData=os.path.splitext(base)[0]\n",
        "        print(labelData)\n",
        "        i=0\n",
        "        for items in os.listdir(path+\"/\"+subject_name):\n",
        "            if items == \".DS_Store\":\n",
        "                continue\n",
        "            if items.endswith(\".png\"):\n",
        "                try:\n",
        "                    im2 = cv2.imread(path+\"/\"+subject_name+\"/\"+items)\n",
        "                    crop_img = im2[30:20+235, 50:50+342]\n",
        "                    im = cv2.resize(crop_img, (224,224)) # Changing into 80x80X3\n",
        "                    im = cv2.cvtColor(im, cv2.COLOR_BGR2GRAY)\n",
        "                    curated_data['scalogram'].append(im)\n",
        "                    curated_data['label'].append(labelData)\n",
        "                except:\n",
        "                      df = None  \n",
        "\n",
        "    return curated_data"
      ],
      "execution_count": 0,
      "outputs": []
    },
    {
      "cell_type": "code",
      "metadata": {
        "id": "TjoM5DRj25G1",
        "colab_type": "code",
        "colab": {
          "base_uri": "https://localhost:8080/",
          "height": 187
        },
        "outputId": "34843590-220c-4905-8024-1955680d3090"
      },
      "source": [
        "data = load_data(number_of_items=6)"
      ],
      "execution_count": 4,
      "outputs": [
        {
          "output_type": "stream",
          "text": [
            "Going through subject:person_103\n",
            "person_103\n",
            "Going through subject:person_214\n",
            "person_214\n",
            "Going through subject:person_213\n",
            "person_213\n",
            "Going through subject:person_228\n",
            "person_228\n",
            "Going through subject:person_101\n",
            "person_101\n"
          ],
          "name": "stdout"
        }
      ]
    },
    {
      "cell_type": "code",
      "metadata": {
        "id": "hF2Fl5pi29PY",
        "colab_type": "code",
        "colab": {
          "base_uri": "https://localhost:8080/",
          "height": 51
        },
        "outputId": "48605d64-c071-4be7-dbb3-e14939ae1045"
      },
      "source": [
        "print(data['scalogram'][0].shape)\n",
        "print(len(data['scalogram']))"
      ],
      "execution_count": 5,
      "outputs": [
        {
          "output_type": "stream",
          "text": [
            "(224, 224)\n",
            "5394\n"
          ],
          "name": "stdout"
        }
      ]
    },
    {
      "cell_type": "code",
      "metadata": {
        "id": "EWWXBq1J3AK5",
        "colab_type": "code",
        "colab": {
          "base_uri": "https://localhost:8080/",
          "height": 34
        },
        "outputId": "1f4eba36-6cf6-4169-87ae-6ff36c4e3f0b"
      },
      "source": [
        "len(data['label'])"
      ],
      "execution_count": 6,
      "outputs": [
        {
          "output_type": "execute_result",
          "data": {
            "text/plain": [
              "5394"
            ]
          },
          "metadata": {
            "tags": []
          },
          "execution_count": 6
        }
      ]
    },
    {
      "cell_type": "code",
      "metadata": {
        "id": "ZFtdIiZY3Cmo",
        "colab_type": "code",
        "colab": {
          "base_uri": "https://localhost:8080/",
          "height": 51
        },
        "outputId": "53e0abfd-6442-4727-c5c6-ec8dd7bd4d22"
      },
      "source": [
        "data_array=np.array(data['scalogram'])\n",
        "labels=np.array(data['label'])\n",
        "print(\"Data shape:{}\".format(data_array.shape))\n",
        "print(\"Labels shape:{}\".format(labels.shape))"
      ],
      "execution_count": 7,
      "outputs": [
        {
          "output_type": "stream",
          "text": [
            "Data shape:(5394, 224, 224)\n",
            "Labels shape:(5394,)\n"
          ],
          "name": "stdout"
        }
      ]
    },
    {
      "cell_type": "code",
      "metadata": {
        "id": "n9V0QUvh3DTK",
        "colab_type": "code",
        "colab": {}
      },
      "source": [
        "data_array = data_array / 255.0"
      ],
      "execution_count": 0,
      "outputs": []
    },
    {
      "cell_type": "code",
      "metadata": {
        "id": "NxhUwRFC3Gkb",
        "colab_type": "code",
        "colab": {
          "base_uri": "https://localhost:8080/",
          "height": 34
        },
        "outputId": "b3fdd38b-414c-4074-e4f6-08bfdd2d270c"
      },
      "source": [
        "encoder = LabelEncoder()\n",
        "encoder.fit(labels)\n",
        "labels = encoder.transform(labels)\n",
        "print(\"Encoded Labels shape:{} value:{}\".format(labels.shape,labels))"
      ],
      "execution_count": 9,
      "outputs": [
        {
          "output_type": "stream",
          "text": [
            "Encoded Labels shape:(5394,) value:[1 1 1 ... 0 0 0]\n"
          ],
          "name": "stdout"
        }
      ]
    },
    {
      "cell_type": "code",
      "metadata": {
        "id": "E_2nAKl63HIL",
        "colab_type": "code",
        "colab": {
          "base_uri": "https://localhost:8080/",
          "height": 102
        },
        "outputId": "59a98bd0-a648-4cec-f884-bf660472448a"
      },
      "source": [
        "x_train, x_test, y_train,  y_test=train_test_split(data_array, labels, test_size=0.2, random_state=2)\n",
        "print(\"Shapes:\")\n",
        "print(\"Train Data:{}\".format(x_train.shape))\n",
        "print(\"Train Label:{}\".format(y_train.shape))\n",
        "print(\"Test Data:{}\".format(x_test.shape))\n",
        "print(\"Test Label:{}\".format(y_test.shape))"
      ],
      "execution_count": 10,
      "outputs": [
        {
          "output_type": "stream",
          "text": [
            "Shapes:\n",
            "Train Data:(4315, 224, 224)\n",
            "Train Label:(4315,)\n",
            "Test Data:(1079, 224, 224)\n",
            "Test Label:(1079,)\n"
          ],
          "name": "stdout"
        }
      ]
    },
    {
      "cell_type": "code",
      "metadata": {
        "id": "BE-Z5Uv_3Jes",
        "colab_type": "code",
        "colab": {
          "base_uri": "https://localhost:8080/",
          "height": 34
        },
        "outputId": "725ab685-6f45-43ab-8b87-e5aa80e1b5d8"
      },
      "source": [
        "x_train_master = np.expand_dims(x_train, 3)\n",
        "x_test_master = np.expand_dims(x_test, 3)\n",
        "print(x_train.shape, x_test.shape)"
      ],
      "execution_count": 11,
      "outputs": [
        {
          "output_type": "stream",
          "text": [
            "(4315, 224, 224) (1079, 224, 224)\n"
          ],
          "name": "stdout"
        }
      ]
    },
    {
      "cell_type": "code",
      "metadata": {
        "id": "XmVu_lK53LuS",
        "colab_type": "code",
        "colab": {
          "base_uri": "https://localhost:8080/",
          "height": 34
        },
        "outputId": "928c18a3-a277-4f93-bd11-098908c552e2"
      },
      "source": [
        "y_train_master = y_train.flatten()\n",
        "y_test_master = y_test.flatten()\n",
        "print(y_train_master.shape,y_test_master.shape)"
      ],
      "execution_count": 12,
      "outputs": [
        {
          "output_type": "stream",
          "text": [
            "(4315,) (1079,)\n"
          ],
          "name": "stdout"
        }
      ]
    },
    {
      "cell_type": "code",
      "metadata": {
        "id": "YAU_bFmo3Npx",
        "colab_type": "code",
        "colab": {
          "base_uri": "https://localhost:8080/",
          "height": 34
        },
        "outputId": "30824e48-efd7-4537-cd2d-0c999e0dc66f"
      },
      "source": [
        "shape=x_train.shape\n",
        "dim_x = shape[1]\n",
        "dim_y = shape[2]\n",
        "print(\"Dimension of Scalogram Image: {}*{}\".format(dim_x,dim_y ))"
      ],
      "execution_count": 13,
      "outputs": [
        {
          "output_type": "stream",
          "text": [
            "Dimension of Scalogram Image: 224*224\n"
          ],
          "name": "stdout"
        }
      ]
    },
    {
      "cell_type": "code",
      "metadata": {
        "id": "pPbNN2rK3RUR",
        "colab_type": "code",
        "colab": {}
      },
      "source": [
        "num_train_per_class = 1\n",
        "n_epochs = 10"
      ],
      "execution_count": 0,
      "outputs": []
    },
    {
      "cell_type": "code",
      "metadata": {
        "id": "U41q7j-9Nc-S",
        "colab_type": "code",
        "colab": {}
      },
      "source": [
        "def generate_triplets(dataset, label, sample_per_class=20):\n",
        "    x, y = None, None\n",
        "    for i in set(label):\n",
        "        pos_indices = np.argwhere(label == i)[:,0]\n",
        "        print(len(pos_indices))\n",
        "        neg_indices = np.argwhere(label != i)[:,0]\n",
        "\n",
        "        # print(\"pos indices: {}, neg_indices: {}\".format(pos_indices.shape, neg_indices.shape))\n",
        "        choice_anchor = np.random.choice(pos_indices.shape[0], sample_per_class, replace=True)\n",
        "        choice_anchor = pos_indices[choice_anchor]\n",
        "\n",
        "        choice_pos = np.random.choice(pos_indices.shape[0], sample_per_class, replace=True)\n",
        "        choice_pos = pos_indices[choice_pos]\n",
        "\n",
        "        choice_neg = np.random.choice(neg_indices.shape[0], sample_per_class, replace=True)\n",
        "        choice_neg = neg_indices[choice_neg]\n",
        "\n",
        "        sub_x_anc = dataset[choice_anchor]\n",
        "\n",
        "        sub_x_pos = dataset[choice_pos]\n",
        "\n",
        "        sub_x_neg = dataset[choice_neg]\n",
        "\n",
        "\n",
        "        if(x is None):\n",
        "            x = [(sub_x_anc), (sub_x_pos), (sub_x_neg)]\n",
        "            y = [label[choice_anchor], label[choice_pos], label[choice_neg]]\n",
        "        else:\n",
        "            x[0] = np.vstack((x[0], (sub_x_anc)))\n",
        "            x[1] = np.vstack((x[1], (sub_x_pos)))\n",
        "            x[2] = np.vstack((x[2], (sub_x_neg)))\n",
        "\n",
        "            y[0] = np.hstack((y[0].flatten(), label[choice_anchor].flatten()))\n",
        "            y[1] = np.hstack((y[1].flatten(), label[choice_pos].flatten()))\n",
        "            y[2] = np.hstack((y[2].flatten(), label[choice_neg].flatten()))\n",
        "            # y[0] = np.vstack((y[0].flatten(), label[choice_anchor].flatten()))\n",
        "            # y[1] = np.vstack((y[1].flatten(), label[choice_pos].flatten()))\n",
        "            # y[2] = np.vstack((y[2].flatten(), label[choice_neg].flatten()))\n",
        "\n",
        "    return x, y"
      ],
      "execution_count": 0,
      "outputs": []
    },
    {
      "cell_type": "code",
      "metadata": {
        "id": "5vndu4-c3Rd2",
        "colab_type": "code",
        "colab": {}
      },
      "source": [
        "# def generate_triplets(dataset, label, sample_per_class=10):\n",
        "#     x, y = None, None\n",
        "#     for i in set(label):\n",
        "#         print(\"Label: \",i)\n",
        "#         pos_indices = np.argwhere(label == i)[:,0]\n",
        "#         print(\"Length of positive indices: \",len(pos_indices))\n",
        "#         #print(\"Positive indices: \",pos_indices)\n",
        "#         neg_indices = np.argwhere(label != i)[:,0]\n",
        "#         print(\"Length of negative indices\",len(neg_indices))\n",
        "#         #print(\"Negative indices: \",neg_indices)\n",
        "#         print()\n",
        "\n",
        "#         #print(\"Pos_indices.shape[0]: \", pos_indices.shape[0])\n",
        "#         #pos_indices.shape[0] = Total number of positive indices for the label\n",
        "#         choice_anchor = np.random.choice(pos_indices.shape[0], sample_per_class, replace=True)\n",
        "#         choice_anchor = pos_indices[choice_anchor]\n",
        "#         #print(\"choice anchor: \",choice_anchor)\n",
        "\n",
        "#         choice_pos = np.random.choice(pos_indices.shape[0], sample_per_class, replace=True)\n",
        "#         choice_pos = pos_indices[choice_pos]\n",
        "\n",
        "#         choice_neg = np.random.choice(neg_indices.shape[0], sample_per_class, replace=True)\n",
        "#         choice_neg = neg_indices[choice_neg]\n",
        "\n",
        "#         #dataset=features_train[choice anchor] : For all the indices selected for the positive move, add the training data to subject's anchor dataset\n",
        "#         #Ek label ki sarri images stored index wise eg: all images for label 1 will be stored in sub_x_anc[1]\n",
        "#         sub_x_anc = dataset[choice_anchor]\n",
        "#         #print(\"sub_x_anc: \",sub_x_anc)\n",
        "#         sub_x_pos = dataset[choice_pos]\n",
        "\n",
        "#         sub_x_neg = dataset[choice_neg]\n",
        "\n",
        "\n",
        "#         if(x is None):\n",
        "#             #x in the subject wise image triplet\n",
        "#             #y is the label triplet\n",
        "#             x = [(sub_x_anc), (sub_x_pos), (sub_x_neg)]\n",
        "#             y = [label[choice_anchor], label[choice_pos], label[choice_neg]]\n",
        "#             #print(\"Triplet Label for subject: \",i,\" \",len(y))\n",
        "#             #print(\"Triplet Image for subject: \",i,\" \",len(x))\n",
        "#         else:\n",
        "#             x[0] = np.vstack((x[0], (sub_x_anc)))\n",
        "#             x[1] = np.vstack((x[1], (sub_x_pos)))\n",
        "#             x[2] = np.vstack((x[2], (sub_x_neg)))\n",
        "\n",
        "#             y[0] = np.hstack((y[0].flatten(), label[choice_anchor].flatten()))\n",
        "#             y[1] = np.hstack((y[1].flatten(), label[choice_pos].flatten()))\n",
        "#             y[2] = np.hstack((y[2].flatten(), label[choice_neg].flatten()))\n",
        "#             #print(\"Label for subject: \",i,\" \",len(y))\n",
        "#             #print(\"Triplet Image for subject: \",i,\" \",len(x))\n",
        "\n",
        "#     return x, y"
      ],
      "execution_count": 0,
      "outputs": []
    },
    {
      "cell_type": "code",
      "metadata": {
        "id": "7QD1cTVW3Rjl",
        "colab_type": "code",
        "colab": {
          "base_uri": "https://localhost:8080/",
          "height": 102
        },
        "outputId": "eddaa409-97fd-4382-c9a0-fe42b0ff6171"
      },
      "source": [
        "train_x, train_y = generate_triplets(x_train_master, y_train_master)"
      ],
      "execution_count": 16,
      "outputs": [
        {
          "output_type": "stream",
          "text": [
            "708\n",
            "765\n",
            "1228\n",
            "830\n",
            "784\n"
          ],
          "name": "stdout"
        }
      ]
    },
    {
      "cell_type": "code",
      "metadata": {
        "id": "ZF3zhSEp3Ron",
        "colab_type": "code",
        "colab": {
          "base_uri": "https://localhost:8080/",
          "height": 34
        },
        "outputId": "5e54f194-308b-44e1-9efd-9cd94d2b24f2"
      },
      "source": [
        "print(y_train_master)"
      ],
      "execution_count": 17,
      "outputs": [
        {
          "output_type": "stream",
          "text": [
            "[4 3 1 ... 2 4 2]\n"
          ],
          "name": "stdout"
        }
      ]
    },
    {
      "cell_type": "code",
      "metadata": {
        "id": "KNy5q9MB3RSB",
        "colab_type": "code",
        "colab": {
          "base_uri": "https://localhost:8080/",
          "height": 187
        },
        "outputId": "c5cd2742-8ee3-410b-a134-945caed974b5"
      },
      "source": [
        "print(len(train_x),train_x[0].shape, len(train_y))\n",
        "      \n",
        "print(\"Anchor labels:{}\".format(train_y[0]))\n",
        "print(\"Positive labels:{}\".format(train_y[1]))\n",
        "print(\"Negative labels:{}\".format(train_y[2]))"
      ],
      "execution_count": 18,
      "outputs": [
        {
          "output_type": "stream",
          "text": [
            "3 (100, 224, 224, 1) 3\n",
            "Anchor labels:[0 0 0 0 0 0 0 0 0 0 0 0 0 0 0 0 0 0 0 0 1 1 1 1 1 1 1 1 1 1 1 1 1 1 1 1 1\n",
            " 1 1 1 2 2 2 2 2 2 2 2 2 2 2 2 2 2 2 2 2 2 2 2 3 3 3 3 3 3 3 3 3 3 3 3 3 3\n",
            " 3 3 3 3 3 3 4 4 4 4 4 4 4 4 4 4 4 4 4 4 4 4 4 4 4 4]\n",
            "Positive labels:[0 0 0 0 0 0 0 0 0 0 0 0 0 0 0 0 0 0 0 0 1 1 1 1 1 1 1 1 1 1 1 1 1 1 1 1 1\n",
            " 1 1 1 2 2 2 2 2 2 2 2 2 2 2 2 2 2 2 2 2 2 2 2 3 3 3 3 3 3 3 3 3 3 3 3 3 3\n",
            " 3 3 3 3 3 3 4 4 4 4 4 4 4 4 4 4 4 4 4 4 4 4 4 4 4 4]\n",
            "Negative labels:[2 3 2 1 1 2 3 3 1 1 1 1 2 2 2 2 3 1 2 3 2 0 2 0 2 3 2 0 2 0 0 4 2 2 3 3 2\n",
            " 2 3 2 4 4 0 1 3 1 0 4 1 3 3 4 3 3 4 3 0 0 1 3 1 2 4 2 2 2 2 1 1 1 2 1 2 2\n",
            " 2 4 4 1 1 2 2 1 2 0 1 1 3 2 2 0 3 0 3 2 0 2 1 2 0 2]\n"
          ],
          "name": "stdout"
        }
      ]
    },
    {
      "cell_type": "code",
      "metadata": {
        "id": "X6A4Gmh66VsH",
        "colab_type": "code",
        "colab": {}
      },
      "source": [
        "def visualize_data(data, n):\n",
        "    n = min(len(data[0]), n)\n",
        "    random_choices = np.random.choice(len(data[0]),n, replace=False)\n",
        "    fig, ax = plt.subplots(n, 3,figsize=(10,40))\n",
        "    anc, pos, neg = data\n",
        "    for i,ch in enumerate(random_choices):\n",
        "        ax[i, 0].imshow(np.squeeze(anc[ch] ))\n",
        "        ax[i, 1].imshow(np.squeeze(pos[ch] ))\n",
        "        ax[i, 2].imshow(np.squeeze(neg[ch] ))\n",
        "\n",
        "\n",
        "        ax[i, 0].set_axis_off()\n",
        "        ax[i, 1].set_axis_off()\n",
        "        ax[i, 2].set_axis_off()"
      ],
      "execution_count": 0,
      "outputs": []
    },
    {
      "cell_type": "code",
      "metadata": {
        "id": "uRg8PBJM6Yr7",
        "colab_type": "code",
        "colab": {
          "base_uri": "https://localhost:8080/",
          "height": 1000
        },
        "outputId": "61bebbcf-bce4-4508-acc3-9346c91710d7"
      },
      "source": [
        "visualize_data(train_x, 10)"
      ],
      "execution_count": 20,
      "outputs": [
        {
          "output_type": "display_data",
          "data": {
            "image/png": "[encoded data removed]",
            "text/plain": [
              "<Figure size 720x2880 with 30 Axes>"
            ]
          },
          "metadata": {
            "tags": [],
            "needs_background": "light"
          }
        }
      ]
    },
    {
      "cell_type": "code",
      "metadata": {
        "id": "97loSLvR9On2",
        "colab_type": "code",
        "colab": {
          "base_uri": "https://localhost:8080/",
          "height": 102
        },
        "outputId": "128620b3-23ce-41f0-d057-ebe11e4aa115"
      },
      "source": [
        "num_train_per_class=1000\n",
        "num_test_per_class=30\n",
        "train_x, train_y = generate_triplets(x_train_master, y_train_master, num_train_per_class)\n"
      ],
      "execution_count": 21,
      "outputs": [
        {
          "output_type": "stream",
          "text": [
            "708\n",
            "765\n",
            "1228\n",
            "830\n",
            "784\n"
          ],
          "name": "stdout"
        }
      ]
    },
    {
      "cell_type": "code",
      "metadata": {
        "id": "hehMlPMVhhPY",
        "colab_type": "code",
        "colab": {
          "base_uri": "https://localhost:8080/",
          "height": 102
        },
        "outputId": "56640927-15d6-4910-ff51-5de8a9eba774"
      },
      "source": [
        "test_x, test_y = generate_triplets(x_test_master, y_test_master,num_test_per_class)"
      ],
      "execution_count": 22,
      "outputs": [
        {
          "output_type": "stream",
          "text": [
            "172\n",
            "210\n",
            "294\n",
            "215\n",
            "188\n"
          ],
          "name": "stdout"
        }
      ]
    },
    {
      "cell_type": "code",
      "metadata": {
        "id": "dorTbE219Ow5",
        "colab_type": "code",
        "colab": {
          "base_uri": "https://localhost:8080/",
          "height": 85
        },
        "outputId": "f731fe1d-2b03-4d4d-e665-6b8c2b451187"
      },
      "source": [
        "print(\"Length of generated triplet for Train Data:{},{}\".format(len(train_x),train_x[0].shape))\n",
        "print(\"Length of generated triplet for Test Data:\", len(test_x),test_x[0].shape)\n",
        "print(\"Length of generated triplet for Train Label:{},{}\".format(len(train_y),train_y[0].shape))\n",
        "print(\"Length of generated triplet for Test Label:\", len(test_y),test_y[0].shape)"
      ],
      "execution_count": 23,
      "outputs": [
        {
          "output_type": "stream",
          "text": [
            "Length of generated triplet for Train Data:3,(5000, 224, 224, 1)\n",
            "Length of generated triplet for Test Data: 3 (150, 224, 224, 1)\n",
            "Length of generated triplet for Train Label:3,(5000,)\n",
            "Length of generated triplet for Test Label: 3 (150,)\n"
          ],
          "name": "stdout"
        }
      ]
    },
    {
      "cell_type": "code",
      "metadata": {
        "id": "PiLx0K9c9O26",
        "colab_type": "code",
        "colab": {}
      },
      "source": [
        "def triplet_loss(inputs, dist='euclidean', margin='maxplus'):\n",
        "    print(\"loss calculation\")\n",
        "    alpha=0.4\n",
        "    anchor, positive, negative = inputs\n",
        "    positive_distance = K.square(anchor - positive)\n",
        "    negative_distance = K.square(anchor - negative)\n",
        "    if dist == 'euclidean':\n",
        "        positive_distance = K.sqrt(K.sum(positive_distance, axis=-1, keepdims=True))\n",
        "        negative_distance = K.sqrt(K.sum(negative_distance, axis=-1, keepdims=True))\n",
        "    elif dist == 'sqeuclidean':\n",
        "        positive_distance = K.sum(positive_distance, axis=-1, keepdims=True)\n",
        "        negative_distance = K.sum(negative_distance, axis=-1, keepdims=True)\n",
        "    loss = positive_distance - negative_distance\n",
        "    if margin == 'maxplus':\n",
        "        loss = K.maximum(0.0, alpha + loss)\n",
        "    elif margin == 'softplus':\n",
        "        loss = K.log(1 + K.exp(loss))\n",
        "    return K.mean(loss)"
      ],
      "execution_count": 0,
      "outputs": []
    },
    {
      "cell_type": "code",
      "metadata": {
        "id": "q8skMzVs6oWu",
        "colab_type": "code",
        "colab": {}
      },
      "source": [
        "def our_model(in_dims):\n",
        "   model = Sequential()\n",
        "   model.add(Conv2D(64, kernel_size=5, input_shape=(in_dims[0],in_dims[1],in_dims[2],), activation=\"relu\"))\n",
        "   model.add(MaxPool2D(pool_size=(2, 2)))\n",
        "  #  model.add(Dropout(0.25))\n",
        "   model.add(Conv2D(64, kernel_size=5, activation=\"relu\"))\n",
        "   model.add(MaxPool2D(pool_size=(2, 2)))\n",
        "  #  model.add(Conv2D(128, kernel_size=5, activation=\"relu\"))\n",
        "  #  model.add(MaxPool2D(pool_size=(2, 2)))\n",
        "   model.add(Dropout(0.25)) \n",
        "   return model"
      ],
      "execution_count": 0,
      "outputs": []
    },
    {
      "cell_type": "code",
      "metadata": {
        "id": "z7k1yCkO6o8P",
        "colab_type": "code",
        "colab": {}
      },
      "source": [
        "from keras.models import load_model\n",
        "\n",
        "def create_base_network(in_dims, embedding_dim):\n",
        "\n",
        "    _input = Input(shape=in_dims)\n",
        "    our_model_object=our_model(in_dims)\n",
        "    output_ourModel = our_model_object(_input)\n",
        "\n",
        "    x = Flatten()(output_ourModel)\n",
        "    x = Dense(embedding_dim * 4,activation=\"relu\")(x)\n",
        "    x = Dense(embedding_dim * 2, activation='relu')(x)\n",
        "    x = Dense(embedding_dim)(x)\n",
        "    \n",
        "    return Model(_input, x)"
      ],
      "execution_count": 0,
      "outputs": []
    },
    {
      "cell_type": "code",
      "metadata": {
        "id": "jHLTtCns6uc7",
        "colab_type": "code",
        "colab": {}
      },
      "source": [
        "def network_model(input_shape, triplet_margin=.3, embedding_dim=50):\n",
        "\n",
        "  anchor_input = Input((dim_x,dim_y,1, ), name='anchor_input')\n",
        "  positive_input = Input((dim_x,dim_y,1, ), name='positive_input')\n",
        "  negative_input = Input((dim_x,dim_y,1, ), name='negative_input')\n",
        "\n",
        "  Shared_DNN=create_base_network(input_shape, embedding_dim)\n",
        "  \n",
        "  encoded_anchor = Shared_DNN(anchor_input)\n",
        "  encoded_positive = Shared_DNN(positive_input)\n",
        "  encoded_negative = Shared_DNN(negative_input)\n",
        "\n",
        "  inputs=[anchor_input, positive_input, negative_input]\n",
        "  outputs=[encoded_anchor, encoded_positive, encoded_negative]\n",
        "\n",
        "  triplet=Model(inputs=inputs, outputs=outputs)\n",
        "  triplet.add_loss((triplet_loss(outputs, dist='euclidean', margin='maxplus'))) \n",
        "\n",
        "  return Shared_DNN, triplet\n",
        "\n"
      ],
      "execution_count": 0,
      "outputs": []
    },
    {
      "cell_type": "code",
      "metadata": {
        "id": "0sGfHTdI7A31",
        "colab_type": "code",
        "colab": {
          "base_uri": "https://localhost:8080/",
          "height": 34
        },
        "outputId": "754a689f-ec3a-46bd-ef35-416645bd1136"
      },
      "source": [
        "#print(dim_x)\n",
        "Shared_DNN, triplet= network_model((dim_x,dim_y,1), triplet_margin=.3, embedding_dim=150)"
      ],
      "execution_count": 28,
      "outputs": [
        {
          "output_type": "stream",
          "text": [
            "loss calculation\n"
          ],
          "name": "stdout"
        }
      ]
    },
    {
      "cell_type": "code",
      "metadata": {
        "id": "4iCaMgDI7DLU",
        "colab_type": "code",
        "colab": {
          "base_uri": "https://localhost:8080/",
          "height": 377
        },
        "outputId": "c89c7e74-c454-4191-ca12-9fefb20d6659"
      },
      "source": [
        "#model.compile(loss=keras.losses.categorical_crossentropy, optimizer=optimizers.RMSprop(),metrics=['accuracy'])\n",
        "triplet.compile(loss=None, optimizer=optimizers.RMSprop(lr=0.0001))\n",
        "triplet.summary()\n",
        "# Adam(0.0001)"
      ],
      "execution_count": 29,
      "outputs": [
        {
          "output_type": "stream",
          "text": [
            "Model: \"model_2\"\n",
            "__________________________________________________________________________________________________\n",
            "Layer (type)                    Output Shape         Param #     Connected to                     \n",
            "==================================================================================================\n",
            "anchor_input (InputLayer)       (None, 224, 224, 1)  0                                            \n",
            "__________________________________________________________________________________________________\n",
            "positive_input (InputLayer)     (None, 224, 224, 1)  0                                            \n",
            "__________________________________________________________________________________________________\n",
            "negative_input (InputLayer)     (None, 224, 224, 1)  0                                            \n",
            "__________________________________________________________________________________________________\n",
            "model_1 (Model)                 (None, 150)          108195778   anchor_input[0][0]               \n",
            "                                                                 positive_input[0][0]             \n",
            "                                                                 negative_input[0][0]             \n",
            "==================================================================================================\n",
            "Total params: 108,195,778\n",
            "Trainable params: 108,195,778\n",
            "Non-trainable params: 0\n",
            "__________________________________________________________________________________________________\n"
          ],
          "name": "stdout"
        },
        {
          "output_type": "stream",
          "text": [
            "/usr/local/lib/python3.6/dist-packages/keras/engine/training_utils.py:819: UserWarning: Output model_1 missing from loss dictionary. We assume this was done on purpose. The fit and evaluate APIs will not be expecting any data to be passed to model_1.\n",
            "  'be expecting any data to be passed to {0}.'.format(name))\n"
          ],
          "name": "stderr"
        }
      ]
    },
    {
      "cell_type": "code",
      "metadata": {
        "id": "DgpTiuCv6YVT",
        "colab_type": "code",
        "colab": {
          "base_uri": "https://localhost:8080/",
          "height": 374
        },
        "outputId": "2379ab49-a9b6-47e8-c2f0-930efd235ce3"
      },
      "source": [
        "## Training\n",
        "n_epochs=10\n",
        "#my_model.fit(features_train, labels_train, epochs=100, batch_size=16, callbacks=[tensorboard,earlystopping], validation_data=(features_test, labels_test))\n",
        "history = triplet.fit(train_x, shuffle=True, batch_size=32, validation_split=.1, epochs=n_epochs)"
      ],
      "execution_count": 30,
      "outputs": [
        {
          "output_type": "stream",
          "text": [
            "Train on 4500 samples, validate on 500 samples\n",
            "Epoch 1/10\n",
            "4500/4500 [==============================] - 30s 7ms/step - loss: 0.0874 - val_loss: 0.1559\n",
            "Epoch 2/10\n",
            "4500/4500 [==============================] - 24s 5ms/step - loss: 0.0427 - val_loss: 0.1594\n",
            "Epoch 3/10\n",
            "4500/4500 [==============================] - 24s 5ms/step - loss: 0.0298 - val_loss: 0.1124\n",
            "Epoch 4/10\n",
            "4500/4500 [==============================] - 24s 5ms/step - loss: 0.0272 - val_loss: 0.1093\n",
            "Epoch 5/10\n",
            "4500/4500 [==============================] - 24s 5ms/step - loss: 0.0221 - val_loss: 0.0878\n",
            "Epoch 6/10\n",
            "4500/4500 [==============================] - 24s 5ms/step - loss: 0.0172 - val_loss: 0.1197\n",
            "Epoch 7/10\n",
            "4500/4500 [==============================] - 24s 5ms/step - loss: 0.0170 - val_loss: 0.0899\n",
            "Epoch 8/10\n",
            "4500/4500 [==============================] - 24s 5ms/step - loss: 0.0147 - val_loss: 0.0888\n",
            "Epoch 9/10\n",
            "4500/4500 [==============================] - 24s 5ms/step - loss: 0.0138 - val_loss: 0.1847\n",
            "Epoch 10/10\n",
            "4500/4500 [==============================] - 24s 5ms/step - loss: 0.0125 - val_loss: 0.0887\n"
          ],
          "name": "stdout"
        }
      ]
    },
    {
      "cell_type": "code",
      "metadata": {
        "id": "9y5pM1SH6ay8",
        "colab_type": "code",
        "colab": {}
      },
      "source": [
        "# from matplotlib import pyplot as plt\n",
        "# plt.plot(history.history['loss'])\n",
        "# plt.plot(history.history['val_loss'])\n",
        "# plt.title('model loss')\n",
        "# plt.ylabel('loss')\n",
        "# plt.xlabel('epoch')\n",
        "# plt.legend(['train', 'test'], loc='upper right')\n",
        "# plt.show()"
      ],
      "execution_count": 0,
      "outputs": []
    },
    {
      "cell_type": "code",
      "metadata": {
        "id": "5yZlFsBg7FPo",
        "colab_type": "code",
        "colab": {
          "base_uri": "https://localhost:8080/",
          "height": 544
        },
        "outputId": "4e460c28-f1b6-4cb2-acbc-5b59cee0c169"
      },
      "source": [
        "## Training\n",
        "n_epochs=15\n",
        "#my_model.fit(features_train, labels_train, epochs=100, batch_size=16, callbacks=[tensorboard,earlystopping], validation_data=(features_test, labels_test))\n",
        "history = triplet.fit(train_x, shuffle=True, batch_size=32, validation_split=.1, epochs=n_epochs)"
      ],
      "execution_count": 42,
      "outputs": [
        {
          "output_type": "stream",
          "text": [
            "Train on 90 samples, validate on 10 samples\n",
            "Epoch 1/15\n",
            "90/90 [==============================] - 1s 6ms/step - loss: 0.0628 - val_loss: 0.4744\n",
            "Epoch 2/15\n",
            "90/90 [==============================] - 1s 6ms/step - loss: 0.0638 - val_loss: 0.4964\n",
            "Epoch 3/15\n",
            "90/90 [==============================] - 1s 6ms/step - loss: 0.0671 - val_loss: 0.4949\n",
            "Epoch 4/15\n",
            "90/90 [==============================] - 1s 6ms/step - loss: 0.0543 - val_loss: 0.5853\n",
            "Epoch 5/15\n",
            "90/90 [==============================] - 1s 6ms/step - loss: 0.0521 - val_loss: 0.4958\n",
            "Epoch 6/15\n",
            "90/90 [==============================] - 1s 6ms/step - loss: 0.0629 - val_loss: 0.4896\n",
            "Epoch 7/15\n",
            "90/90 [==============================] - 1s 6ms/step - loss: 0.0539 - val_loss: 0.5771\n",
            "Epoch 8/15\n",
            "90/90 [==============================] - 1s 6ms/step - loss: 0.0742 - val_loss: 0.5234\n",
            "Epoch 9/15\n",
            "90/90 [==============================] - 1s 6ms/step - loss: 0.0467 - val_loss: 0.5228\n",
            "Epoch 10/15\n",
            "90/90 [==============================] - 1s 6ms/step - loss: 0.0365 - val_loss: 0.5084\n",
            "Epoch 11/15\n",
            "90/90 [==============================] - 1s 6ms/step - loss: 0.0328 - val_loss: 0.5190\n",
            "Epoch 12/15\n",
            "90/90 [==============================] - 1s 6ms/step - loss: 0.0381 - val_loss: 0.5539\n",
            "Epoch 13/15\n",
            "90/90 [==============================] - 1s 6ms/step - loss: 0.0146 - val_loss: 0.5442\n",
            "Epoch 14/15\n",
            "90/90 [==============================] - 1s 6ms/step - loss: 0.0335 - val_loss: 0.5379\n",
            "Epoch 15/15\n",
            "90/90 [==============================] - 1s 6ms/step - loss: 0.0092 - val_loss: 0.5476\n"
          ],
          "name": "stdout"
        }
      ]
    },
    {
      "cell_type": "code",
      "metadata": {
        "id": "LYPrpCw_7w-o",
        "colab_type": "code",
        "colab": {
          "base_uri": "https://localhost:8080/",
          "height": 34
        },
        "outputId": "58e9d9c0-b889-437b-c760-d56c262d7b1d"
      },
      "source": [
        "print(len(train_x), train_x[0].shape)"
      ],
      "execution_count": 34,
      "outputs": [
        {
          "output_type": "stream",
          "text": [
            "3 (7500, 224, 224, 1)\n"
          ],
          "name": "stdout"
        }
      ]
    },
    {
      "cell_type": "code",
      "metadata": {
        "id": "mx64UJizFWzz",
        "colab_type": "code",
        "colab": {
          "base_uri": "https://localhost:8080/",
          "height": 295
        },
        "outputId": "15df8894-9fb5-477e-aadf-90d911112808"
      },
      "source": [
        "from matplotlib import pyplot as plt\n",
        "plt.plot(history.history['loss'])\n",
        "plt.plot(history.history['val_loss'])\n",
        "plt.title('model loss')\n",
        "plt.ylabel('loss')\n",
        "plt.xlabel('epoch')\n",
        "plt.legend(['train', 'test'], loc='upper right')\n",
        "plt.show()"
      ],
      "execution_count": 35,
      "outputs": [
        {
          "output_type": "display_data",
          "data": {
            "image/png": "[encoded data removed]",
            "text/plain": [
              "<Figure size 432x288 with 1 Axes>"
            ]
          },
          "metadata": {
            "tags": [],
            "needs_background": "light"
          }
        }
      ]
    },
    {
      "cell_type": "code",
      "metadata": {
        "id": "fMZTv4pBV2zB",
        "colab_type": "code",
        "colab": {}
      },
      "source": [
        "==============================Case-2========================="
      ],
      "execution_count": 0,
      "outputs": []
    },
    {
      "cell_type": "code",
      "metadata": {
        "id": "Gucnz95NV8-R",
        "colab_type": "code",
        "colab": {}
      },
      "source": [
        "# ## Training\n",
        "# n_epochs=20\n",
        "# #my_model.fit(features_train, labels_train, epochs=100, batch_size=16, callbacks=[tensorboard,earlystopping], validation_data=(features_test, labels_test))\n",
        "# history = triplet.fit(train_x, shuffle=True, batch_size=32, validation_split=.1, epochs=n_epochs)"
      ],
      "execution_count": 0,
      "outputs": []
    },
    {
      "cell_type": "code",
      "metadata": {
        "id": "545ug9XFYUxt",
        "colab_type": "code",
        "colab": {}
      },
      "source": [
        "# Get the embeddings of the images\n",
        "def get_image_embedding(test_model, input):\n",
        "  train_data_v_stack=np.vstack((input[0], input[1], input[2]))\n",
        "  train_embeds = test_model.predict(train_data_v_stack)\n",
        "  return train_embeds\n"
      ],
      "execution_count": 0,
      "outputs": []
    },
    {
      "cell_type": "code",
      "metadata": {
        "id": "m0eqvf4_5zH-",
        "colab_type": "code",
        "colab": {}
      },
      "source": [
        "train_data_v_stack=np.vstack((train_x[0], train_x[1], train_x[2]))\n",
        "train_embeds = Shared_DNN.predict(train_data_v_stack)\n",
        "# print(train_data_v_stack.shape)\n"
      ],
      "execution_count": 0,
      "outputs": []
    },
    {
      "cell_type": "code",
      "metadata": {
        "id": "Odqh5GV3ZM_T",
        "colab_type": "code",
        "colab": {
          "base_uri": "https://localhost:8080/",
          "height": 887
        },
        "outputId": "fb1d13f9-3a21-4b94-89e5-1e7d3029d3e3"
      },
      "source": [
        "# train_embeds=get_image_embedding(Shared_DNN, train_x)\n",
        "\n",
        "print(\"Train Embeddings shape:{}\".format(train_embeds.shape))\n",
        "print(train_embeds[0], train_embeds[1])"
      ],
      "execution_count": 33,
      "outputs": [
        {
          "output_type": "stream",
          "text": [
            "Train Embeddings shape:(15000, 150)\n",
            "[ 1.3253859   0.6607114  -0.60364133  0.97524095 -1.0446159  -2.655918\n",
            "  1.2132497  -2.1330109  -1.8383998  -0.33836132  0.99486256  1.7019386\n",
            "  1.2906231  -1.0643237  -1.8109257   1.4849695  -0.43877628 -0.10240667\n",
            "  0.6993357  -0.0066659   0.7429271   0.9616509   0.2251841  -1.6972002\n",
            " -0.3729576  -2.0318115   1.6058207  -0.38750076  0.31574762  0.7544483\n",
            "  0.5739843  -2.5856767   1.1409411  -0.34345293 -0.01376814  0.15983112\n",
            "  0.9056606   0.02847091  0.3884877  -1.0721431   1.6934364  -0.9927038\n",
            "  0.11645361  0.512742    0.81783134  1.2252449   1.2437171  -0.04812191\n",
            "  1.9979511   1.6165901   0.34633094 -0.08560491  0.38214234 -0.70408374\n",
            "  0.23098995  0.40318072 -0.5609559  -1.7770058  -1.4743985  -0.6275107\n",
            " -0.13941856  2.115455   -0.68101144 -0.9537798  -1.0207341  -1.2891129\n",
            "  1.5003619   1.5857236  -1.1207564  -1.9894515   0.33647072 -2.8455787\n",
            " -0.18578532 -1.5223182   0.1210601   0.4194057  -2.611651   -0.83553934\n",
            "  1.3011692  -3.250386   -0.38679892 -0.363819    0.06512541  1.2445575\n",
            "  0.6598374  -1.9463748  -0.16186371 -0.5364226   0.33991787  0.911368\n",
            " -1.0036211   1.4934082   0.9918817   1.0460776  -1.5922499  -1.3943858\n",
            " -0.19124998  0.9078719   0.90296626  0.05990806 -0.4760229  -1.3179647\n",
            " -1.4418324   0.59406453  1.0182087   1.2778239  -0.25620553 -0.6367887\n",
            " -2.2706542   0.6069655  -1.6646621  -0.56224823 -1.4369318   1.6382023\n",
            " -0.9348488  -1.0471364  -1.5909915   0.24965239  0.15171315 -2.112276\n",
            "  0.07007888 -0.4249512  -2.2946136   1.431098   -0.61041546  0.26608187\n",
            " -0.5822841   0.1625067  -2.8103418   1.1011876  -0.19983359  1.3854834\n",
            "  0.57292426 -1.616274   -0.0480652  -0.52945465  0.18391179  1.5995407\n",
            "  1.6717317   0.1435998   0.30656624 -0.66524845  0.63977605  1.2076769\n",
            "  0.42203635 -0.23271993 -0.71941143 -0.56629276 -0.47503325 -0.743128  ] [ 1.3483464   0.68566    -0.59248525  0.97226214 -1.0091879  -2.6870077\n",
            "  1.1931783  -2.195764   -1.8630469  -0.40073913  1.0062811   1.7083806\n",
            "  1.343202   -1.0482651  -1.8237965   1.5322484  -0.44690803 -0.07361632\n",
            "  0.7323533   0.01951452  0.72278696  0.9841215   0.24864668 -1.6832298\n",
            " -0.35386404 -2.069601    1.6164932  -0.42516926  0.31396216  0.7612689\n",
            "  0.58799404 -2.642692    1.1013116  -0.2719887  -0.03595487  0.19947432\n",
            "  0.9031373   0.05938841  0.35323375 -1.1034887   1.6700733  -0.983986\n",
            "  0.18606126  0.4842526   0.8863705   1.2334253   1.2239677  -0.03336076\n",
            "  1.9863595   1.6212118   0.33170328 -0.07473768  0.4016737  -0.7428015\n",
            "  0.2762529   0.4428217  -0.54702616 -1.7828466  -1.5178401  -0.66247994\n",
            " -0.16282557  2.183011   -0.6807327  -0.9646766  -1.0105197  -1.2862163\n",
            "  1.5176235   1.6361088  -1.1819627  -2.0419056   0.32278565 -2.8664384\n",
            " -0.19578037 -1.5797359   0.09971698  0.4104165  -2.6789129  -0.77057236\n",
            "  1.2957894  -3.2808776  -0.32321844 -0.33868802  0.05311825  1.2308148\n",
            "  0.6699859  -1.9576442  -0.16093524 -0.61713535  0.3640089   0.89628977\n",
            " -0.95625204  1.5040276   0.9677254   1.0685643  -1.5989466  -1.4207524\n",
            " -0.18832523  0.92520165  0.85842466  0.0275878  -0.4779972  -1.3213797\n",
            " -1.4438868   0.5759124   0.9480668   1.3162814  -0.2608144  -0.6504395\n",
            " -2.2980928   0.6404779  -1.6906589  -0.5532801  -1.4523841   1.6023886\n",
            " -0.97034216 -0.9963763  -1.5527259   0.23784497  0.15270735 -2.1238651\n",
            "  0.03465167 -0.3871656  -2.349932    1.4348046  -0.5869427   0.2863921\n",
            " -0.62116927  0.19118157 -2.8276994   1.1307888  -0.19619481  1.4161428\n",
            "  0.6021715  -1.6082162  -0.02672453 -0.5823542   0.22397242  1.5522711\n",
            "  1.651211    0.14445105  0.37440324 -0.65453255  0.65031075  1.2444239\n",
            "  0.417638   -0.19404748 -0.7273131  -0.5920927  -0.47977495 -0.7184845 ]\n"
          ],
          "name": "stdout"
        }
      ]
    },
    {
      "cell_type": "code",
      "metadata": {
        "id": "AlArkQTUayAB",
        "colab_type": "code",
        "colab": {
          "base_uri": "https://localhost:8080/",
          "height": 68
        },
        "outputId": "3e7c8483-ad97-4807-fbe5-764745738c30"
      },
      "source": [
        "train_data_v_stack = np.vstack((train_x[0], train_x[1], train_x[2]))\n",
        "train_label_v_stack = np.vstack((train_y[0], train_y[1], train_y[2]))\n",
        "print(\"Shape of vertical_stacked train data: {}\".format(train_data_v_stack.shape))\n",
        "print(\"Shape of vertical_stacked train label in form of [[],[],[]]: {}\".format(train_label_v_stack.shape))\n",
        "print(\"Labels of Anchor Image:{}\".format(train_label_v_stack[0]))"
      ],
      "execution_count": 34,
      "outputs": [
        {
          "output_type": "stream",
          "text": [
            "Shape of vertical_stacked train data: (15000, 224, 224, 1)\n",
            "Shape of vertical_stacked train label in form of [[],[],[]]: (3, 5000)\n",
            "Labels of Anchor Image:[0 0 0 ... 4 4 4]\n"
          ],
          "name": "stdout"
        }
      ]
    },
    {
      "cell_type": "code",
      "metadata": {
        "id": "odFTs8sx700l",
        "colab_type": "code",
        "colab": {
          "base_uri": "https://localhost:8080/",
          "height": 68
        },
        "outputId": "495c35dc-9a16-4f87-cd1e-e140be425abc"
      },
      "source": [
        "print(\"What is your claimed identity?\")\n",
        "claimed_label=input()\n",
        "print(claimed_label)"
      ],
      "execution_count": 92,
      "outputs": [
        {
          "output_type": "stream",
          "text": [
            "What is your claimed identity?\n",
            "3\n",
            "3\n"
          ],
          "name": "stdout"
        }
      ]
    },
    {
      "cell_type": "code",
      "metadata": {
        "id": "NtnPL0UD1wnO",
        "colab_type": "code",
        "colab": {}
      },
      "source": [
        "from itertools import chain \n",
        "def get_k_template_values(label):\n",
        "  label=int(label)\n",
        "  target_label=np.argwhere(train_label_v_stack[0]==label)\n",
        "  # List of list format.So need to change into single list using chain\n",
        "  target_label = list(chain.from_iterable(target_label)) \n",
        "  print(target_label)\n",
        "\n",
        "  k_template_value=[]\n",
        "  for value in target_label:\n",
        "    k_template_value.append(train_embeds[value])\n",
        "  print(\"K templates, Value of k:{}, template shape:{}\".format(len(k_template_value), len(k_template_value[0])))\n",
        "  return k_template_value"
      ],
      "execution_count": 0,
      "outputs": []
    },
    {
      "cell_type": "code",
      "metadata": {
        "id": "qcN4ILx310Xb",
        "colab_type": "code",
        "colab": {
          "base_uri": "https://localhost:8080/",
          "height": 71
        },
        "outputId": "75165dbb-1967-4f6b-cc45-1d296e80de53"
      },
      "source": [
        "k_template_value=get_k_template_values(claimed_label)"
      ],
      "execution_count": 94,
      "outputs": [
        {
          "output_type": "stream",
          "text": [
            "[3000, 3001, 3002, 3003, 3004, 3005, 3006, 3007, 3008, 3009, 3010, 3011, 3012, 3013, 3014, 3015, 3016, 3017, 3018, 3019, 3020, 3021, 3022, 3023, 3024, 3025, 3026, 3027, 3028, 3029, 3030, 3031, 3032, 3033, 3034, 3035, 3036, 3037, 3038, 3039, 3040, 3041, 3042, 3043, 3044, 3045, 3046, 3047, 3048, 3049, 3050, 3051, 3052, 3053, 3054, 3055, 3056, 3057, 3058, 3059, 3060, 3061, 3062, 3063, 3064, 3065, 3066, 3067, 3068, 3069, 3070, 3071, 3072, 3073, 3074, 3075, 3076, 3077, 3078, 3079, 3080, 3081, 3082, 3083, 3084, 3085, 3086, 3087, 3088, 3089, 3090, 3091, 3092, 3093, 3094, 3095, 3096, 3097, 3098, 3099, 3100, 3101, 3102, 3103, 3104, 3105, 3106, 3107, 3108, 3109, 3110, 3111, 3112, 3113, 3114, 3115, 3116, 3117, 3118, 3119, 3120, 3121, 3122, 3123, 3124, 3125, 3126, 3127, 3128, 3129, 3130, 3131, 3132, 3133, 3134, 3135, 3136, 3137, 3138, 3139, 3140, 3141, 3142, 3143, 3144, 3145, 3146, 3147, 3148, 3149, 3150, 3151, 3152, 3153, 3154, 3155, 3156, 3157, 3158, 3159, 3160, 3161, 3162, 3163, 3164, 3165, 3166, 3167, 3168, 3169, 3170, 3171, 3172, 3173, 3174, 3175, 3176, 3177, 3178, 3179, 3180, 3181, 3182, 3183, 3184, 3185, 3186, 3187, 3188, 3189, 3190, 3191, 3192, 3193, 3194, 3195, 3196, 3197, 3198, 3199, 3200, 3201, 3202, 3203, 3204, 3205, 3206, 3207, 3208, 3209, 3210, 3211, 3212, 3213, 3214, 3215, 3216, 3217, 3218, 3219, 3220, 3221, 3222, 3223, 3224, 3225, 3226, 3227, 3228, 3229, 3230, 3231, 3232, 3233, 3234, 3235, 3236, 3237, 3238, 3239, 3240, 3241, 3242, 3243, 3244, 3245, 3246, 3247, 3248, 3249, 3250, 3251, 3252, 3253, 3254, 3255, 3256, 3257, 3258, 3259, 3260, 3261, 3262, 3263, 3264, 3265, 3266, 3267, 3268, 3269, 3270, 3271, 3272, 3273, 3274, 3275, 3276, 3277, 3278, 3279, 3280, 3281, 3282, 3283, 3284, 3285, 3286, 3287, 3288, 3289, 3290, 3291, 3292, 3293, 3294, 3295, 3296, 3297, 3298, 3299, 3300, 3301, 3302, 3303, 3304, 3305, 3306, 3307, 3308, 3309, 3310, 3311, 3312, 3313, 3314, 3315, 3316, 3317, 3318, 3319, 3320, 3321, 3322, 3323, 3324, 3325, 3326, 3327, 3328, 3329, 3330, 3331, 3332, 3333, 3334, 3335, 3336, 3337, 3338, 3339, 3340, 3341, 3342, 3343, 3344, 3345, 3346, 3347, 3348, 3349, 3350, 3351, 3352, 3353, 3354, 3355, 3356, 3357, 3358, 3359, 3360, 3361, 3362, 3363, 3364, 3365, 3366, 3367, 3368, 3369, 3370, 3371, 3372, 3373, 3374, 3375, 3376, 3377, 3378, 3379, 3380, 3381, 3382, 3383, 3384, 3385, 3386, 3387, 3388, 3389, 3390, 3391, 3392, 3393, 3394, 3395, 3396, 3397, 3398, 3399, 3400, 3401, 3402, 3403, 3404, 3405, 3406, 3407, 3408, 3409, 3410, 3411, 3412, 3413, 3414, 3415, 3416, 3417, 3418, 3419, 3420, 3421, 3422, 3423, 3424, 3425, 3426, 3427, 3428, 3429, 3430, 3431, 3432, 3433, 3434, 3435, 3436, 3437, 3438, 3439, 3440, 3441, 3442, 3443, 3444, 3445, 3446, 3447, 3448, 3449, 3450, 3451, 3452, 3453, 3454, 3455, 3456, 3457, 3458, 3459, 3460, 3461, 3462, 3463, 3464, 3465, 3466, 3467, 3468, 3469, 3470, 3471, 3472, 3473, 3474, 3475, 3476, 3477, 3478, 3479, 3480, 3481, 3482, 3483, 3484, 3485, 3486, 3487, 3488, 3489, 3490, 3491, 3492, 3493, 3494, 3495, 3496, 3497, 3498, 3499, 3500, 3501, 3502, 3503, 3504, 3505, 3506, 3507, 3508, 3509, 3510, 3511, 3512, 3513, 3514, 3515, 3516, 3517, 3518, 3519, 3520, 3521, 3522, 3523, 3524, 3525, 3526, 3527, 3528, 3529, 3530, 3531, 3532, 3533, 3534, 3535, 3536, 3537, 3538, 3539, 3540, 3541, 3542, 3543, 3544, 3545, 3546, 3547, 3548, 3549, 3550, 3551, 3552, 3553, 3554, 3555, 3556, 3557, 3558, 3559, 3560, 3561, 3562, 3563, 3564, 3565, 3566, 3567, 3568, 3569, 3570, 3571, 3572, 3573, 3574, 3575, 3576, 3577, 3578, 3579, 3580, 3581, 3582, 3583, 3584, 3585, 3586, 3587, 3588, 3589, 3590, 3591, 3592, 3593, 3594, 3595, 3596, 3597, 3598, 3599, 3600, 3601, 3602, 3603, 3604, 3605, 3606, 3607, 3608, 3609, 3610, 3611, 3612, 3613, 3614, 3615, 3616, 3617, 3618, 3619, 3620, 3621, 3622, 3623, 3624, 3625, 3626, 3627, 3628, 3629, 3630, 3631, 3632, 3633, 3634, 3635, 3636, 3637, 3638, 3639, 3640, 3641, 3642, 3643, 3644, 3645, 3646, 3647, 3648, 3649, 3650, 3651, 3652, 3653, 3654, 3655, 3656, 3657, 3658, 3659, 3660, 3661, 3662, 3663, 3664, 3665, 3666, 3667, 3668, 3669, 3670, 3671, 3672, 3673, 3674, 3675, 3676, 3677, 3678, 3679, 3680, 3681, 3682, 3683, 3684, 3685, 3686, 3687, 3688, 3689, 3690, 3691, 3692, 3693, 3694, 3695, 3696, 3697, 3698, 3699, 3700, 3701, 3702, 3703, 3704, 3705, 3706, 3707, 3708, 3709, 3710, 3711, 3712, 3713, 3714, 3715, 3716, 3717, 3718, 3719, 3720, 3721, 3722, 3723, 3724, 3725, 3726, 3727, 3728, 3729, 3730, 3731, 3732, 3733, 3734, 3735, 3736, 3737, 3738, 3739, 3740, 3741, 3742, 3743, 3744, 3745, 3746, 3747, 3748, 3749, 3750, 3751, 3752, 3753, 3754, 3755, 3756, 3757, 3758, 3759, 3760, 3761, 3762, 3763, 3764, 3765, 3766, 3767, 3768, 3769, 3770, 3771, 3772, 3773, 3774, 3775, 3776, 3777, 3778, 3779, 3780, 3781, 3782, 3783, 3784, 3785, 3786, 3787, 3788, 3789, 3790, 3791, 3792, 3793, 3794, 3795, 3796, 3797, 3798, 3799, 3800, 3801, 3802, 3803, 3804, 3805, 3806, 3807, 3808, 3809, 3810, 3811, 3812, 3813, 3814, 3815, 3816, 3817, 3818, 3819, 3820, 3821, 3822, 3823, 3824, 3825, 3826, 3827, 3828, 3829, 3830, 3831, 3832, 3833, 3834, 3835, 3836, 3837, 3838, 3839, 3840, 3841, 3842, 3843, 3844, 3845, 3846, 3847, 3848, 3849, 3850, 3851, 3852, 3853, 3854, 3855, 3856, 3857, 3858, 3859, 3860, 3861, 3862, 3863, 3864, 3865, 3866, 3867, 3868, 3869, 3870, 3871, 3872, 3873, 3874, 3875, 3876, 3877, 3878, 3879, 3880, 3881, 3882, 3883, 3884, 3885, 3886, 3887, 3888, 3889, 3890, 3891, 3892, 3893, 3894, 3895, 3896, 3897, 3898, 3899, 3900, 3901, 3902, 3903, 3904, 3905, 3906, 3907, 3908, 3909, 3910, 3911, 3912, 3913, 3914, 3915, 3916, 3917, 3918, 3919, 3920, 3921, 3922, 3923, 3924, 3925, 3926, 3927, 3928, 3929, 3930, 3931, 3932, 3933, 3934, 3935, 3936, 3937, 3938, 3939, 3940, 3941, 3942, 3943, 3944, 3945, 3946, 3947, 3948, 3949, 3950, 3951, 3952, 3953, 3954, 3955, 3956, 3957, 3958, 3959, 3960, 3961, 3962, 3963, 3964, 3965, 3966, 3967, 3968, 3969, 3970, 3971, 3972, 3973, 3974, 3975, 3976, 3977, 3978, 3979, 3980, 3981, 3982, 3983, 3984, 3985, 3986, 3987, 3988, 3989, 3990, 3991, 3992, 3993, 3994, 3995, 3996, 3997, 3998, 3999]\n",
            "K templates, Value of k:1000, template shape:150\n"
          ],
          "name": "stdout"
        }
      ]
    },
    {
      "cell_type": "code",
      "metadata": {
        "id": "4qFAmW7_11JQ",
        "colab_type": "code",
        "colab": {
          "base_uri": "https://localhost:8080/",
          "height": 136
        },
        "outputId": "0bd41c11-98fe-44b5-f78c-87428b0c5145"
      },
      "source": [
        "test_data_v_stack=np.vstack((test_x[0], test_x[1], test_x[2]))\n",
        "test_label_v_stack=np.vstack((test_y[0], test_y[1], test_y[2]))\n",
        "print(\"Shape of vertical_stacked test data: {}\".format(test_data_v_stack.shape))\n",
        "print(\"Shape of vertical_stacked test label in form of [[],[],[]]: {}\".format(test_label_v_stack.shape))\n",
        "print(\"Labels of Image to test:{}\".format(test_label_v_stack[0]))"
      ],
      "execution_count": 95,
      "outputs": [
        {
          "output_type": "stream",
          "text": [
            "Shape of vertical_stacked test data: (450, 224, 224, 1)\n",
            "Shape of vertical_stacked test label in form of [[],[],[]]: (3, 150)\n",
            "Labels of Image to test:[0 0 0 0 0 0 0 0 0 0 0 0 0 0 0 0 0 0 0 0 0 0 0 0 0 0 0 0 0 0 1 1 1 1 1 1 1\n",
            " 1 1 1 1 1 1 1 1 1 1 1 1 1 1 1 1 1 1 1 1 1 1 1 2 2 2 2 2 2 2 2 2 2 2 2 2 2\n",
            " 2 2 2 2 2 2 2 2 2 2 2 2 2 2 2 2 3 3 3 3 3 3 3 3 3 3 3 3 3 3 3 3 3 3 3 3 3\n",
            " 3 3 3 3 3 3 3 3 3 4 4 4 4 4 4 4 4 4 4 4 4 4 4 4 4 4 4 4 4 4 4 4 4 4 4 4 4\n",
            " 4 4]\n"
          ],
          "name": "stdout"
        }
      ]
    },
    {
      "cell_type": "code",
      "metadata": {
        "id": "AfKFynJK70xv",
        "colab_type": "code",
        "colab": {
          "base_uri": "https://localhost:8080/",
          "height": 85
        },
        "outputId": "8b3bdefb-6a26-4ca3-a850-5e9799f7a3c2"
      },
      "source": [
        "print(\"Select any label!\")\n",
        "print(set(test_label_v_stack[0]))\n",
        "real_identity = input()\n",
        "print(\"Input Value:\", real_identity)\n",
        "\n",
        "\n",
        "# claimed_identity = 2"
      ],
      "execution_count": 96,
      "outputs": [
        {
          "output_type": "stream",
          "text": [
            "Select any label!\n",
            "{0, 1, 2, 3, 4}\n",
            "3\n",
            "Input Value: 3\n"
          ],
          "name": "stdout"
        }
      ]
    },
    {
      "cell_type": "code",
      "metadata": {
        "id": "V04LxvpV153P",
        "colab_type": "code",
        "colab": {
          "base_uri": "https://localhost:8080/",
          "height": 54
        },
        "outputId": "b4399983-f64d-43e6-b540-4b863da29e9d"
      },
      "source": [
        "# test_label=np.argwhere(test_label_v_stack[0]==2)\n",
        "test_label=np.argwhere(test_label_v_stack[0]==int(real_identity))\n",
        "test_label = list(chain.from_iterable(test_label)) \n",
        "# Multiple values of the same label in test_data, so we will select any random one\n",
        "print(test_label)\n",
        "# print(random_test_label)"
      ],
      "execution_count": 97,
      "outputs": [
        {
          "output_type": "stream",
          "text": [
            "[90, 91, 92, 93, 94, 95, 96, 97, 98, 99, 100, 101, 102, 103, 104, 105, 106, 107, 108, 109, 110, 111, 112, 113, 114, 115, 116, 117, 118, 119]\n"
          ],
          "name": "stdout"
        }
      ]
    },
    {
      "cell_type": "code",
      "metadata": {
        "id": "Gl5I6bfP170g",
        "colab_type": "code",
        "colab": {
          "base_uri": "https://localhost:8080/",
          "height": 51
        },
        "outputId": "89fc7165-7b9c-43f8-e4a8-aa0d5be0adc4"
      },
      "source": [
        "# test_segment=None\n",
        "random_test_label=test_label[5]\n",
        "random_test_data=(test_data_v_stack[random_test_label]).reshape(1,224,224,1)\n",
        "print(\"Corresponding image shape:\", random_test_data.shape)\n",
        "test_embeds = Shared_DNN.predict(random_test_data)\n",
        "print(\"Shape of test template:{}\".format(test_embeds.shape))\n",
        "test_segment=test_embeds"
      ],
      "execution_count": 102,
      "outputs": [
        {
          "output_type": "stream",
          "text": [
            "Corresponding image shape: (1, 224, 224, 1)\n",
            "Shape of test template:(1, 150)\n"
          ],
          "name": "stdout"
        }
      ]
    },
    {
      "cell_type": "code",
      "metadata": {
        "id": "O_Kw2j6p197S",
        "colab_type": "code",
        "colab": {}
      },
      "source": [
        "def dissimilar_score(test_template, stored_templates):\n",
        "  minimum=None\n",
        "  test_template=np.array(test_template)\n",
        "  # print(type(test_template))\n",
        "  for template in stored_templates:\n",
        "    # print(np.var(template-test_template),2*(np.var(template)+np.var(test_template)))\n",
        "    distance=(np.var(template-test_template))/2*(np.var(template)+np.var(test_template))\n",
        "    if minimum==None:\n",
        "      minimum=distance\n",
        "    else:\n",
        "      minimum=min(distance, minimum)\n",
        "  return minimum"
      ],
      "execution_count": 0,
      "outputs": []
    },
    {
      "cell_type": "code",
      "metadata": {
        "id": "cP-EW0Rt2AC6",
        "colab_type": "code",
        "colab": {
          "base_uri": "https://localhost:8080/",
          "height": 34
        },
        "outputId": "56831d85-648c-4f67-a95e-01742543ec30"
      },
      "source": [
        "score=dissimilar_score(test_segment, k_template_value)\n",
        "# For 0 and 1\n",
        "print(score)"
      ],
      "execution_count": 64,
      "outputs": [
        {
          "output_type": "stream",
          "text": [
            "0.048087816208793654\n"
          ],
          "name": "stdout"
        }
      ]
    },
    {
      "cell_type": "code",
      "metadata": {
        "id": "KlttuiMmnIFC",
        "colab_type": "code",
        "colab": {
          "base_uri": "https://localhost:8080/",
          "height": 34
        },
        "outputId": "30533730-e310-42f0-d3f1-d755a90c1ca3"
      },
      "source": [
        "score=dissimilar_score(test_segment, k_template_value)\n",
        "# For 0 and 0\n",
        "print(score)"
      ],
      "execution_count": 73,
      "outputs": [
        {
          "output_type": "stream",
          "text": [
            "1.727172717620371e-05\n"
          ],
          "name": "stdout"
        }
      ]
    },
    {
      "cell_type": "code",
      "metadata": {
        "id": "2rBzUBsFnjCp",
        "colab_type": "code",
        "colab": {
          "base_uri": "https://localhost:8080/",
          "height": 34
        },
        "outputId": "983e3967-81c3-4e04-ef26-f994246d12b0"
      },
      "source": [
        "score=dissimilar_score(test_segment, k_template_value)\n",
        "# For 1 and 1\n",
        "print(score)"
      ],
      "execution_count": 82,
      "outputs": [
        {
          "output_type": "stream",
          "text": [
            "3.3846209703078823e-06\n"
          ],
          "name": "stdout"
        }
      ]
    },
    {
      "cell_type": "code",
      "metadata": {
        "id": "VFYu5ZUcoBNR",
        "colab_type": "code",
        "colab": {
          "base_uri": "https://localhost:8080/",
          "height": 34
        },
        "outputId": "b4522a0c-cb2a-4e54-9552-fd714c2a51f4"
      },
      "source": [
        "score=dissimilar_score(test_segment, k_template_value)\n",
        "# For 1 and 3\n",
        "print(score)"
      ],
      "execution_count": 91,
      "outputs": [
        {
          "output_type": "stream",
          "text": [
            "0.01717345528496772\n"
          ],
          "name": "stdout"
        }
      ]
    },
    {
      "cell_type": "code",
      "metadata": {
        "id": "YTTngt3zo4G4",
        "colab_type": "code",
        "colab": {
          "base_uri": "https://localhost:8080/",
          "height": 34
        },
        "outputId": "5de3fe48-37c6-48b2-d7cf-f9d9b5597544"
      },
      "source": [
        "score=dissimilar_score(test_segment, k_template_value)\n",
        "# For 3 and 3\n",
        "print(score)"
      ],
      "execution_count": 100,
      "outputs": [
        {
          "output_type": "stream",
          "text": [
            "6.5523821763469395e-06\n"
          ],
          "name": "stdout"
        }
      ]
    },
    {
      "cell_type": "code",
      "metadata": {
        "id": "zTmY7wQspeJK",
        "colab_type": "code",
        "colab": {
          "base_uri": "https://localhost:8080/",
          "height": 34
        },
        "outputId": "8e34e99b-916a-4210-dc59-a869ab80c04d"
      },
      "source": [
        "score=dissimilar_score(test_segment, k_template_value)\n",
        "# For 3 and 3\n",
        "print(score)"
      ],
      "execution_count": 104,
      "outputs": [
        {
          "output_type": "stream",
          "text": [
            "7.022786779368952e-06\n"
          ],
          "name": "stdout"
        }
      ]
    },
    {
      "cell_type": "code",
      "metadata": {
        "id": "70MwQx-12B47",
        "colab_type": "code",
        "colab": {}
      },
      "source": [
        "# threshold=0.030\n",
        "# if score>threshold:\n",
        "#   print(\"You are not authenticated with dissimarity score:{}\".format(score))\n",
        "# else:\n",
        "#   print(\"Authentication Successful! with dissimarity score:{}\".format(score))\n",
        "    "
      ],
      "execution_count": 0,
      "outputs": []
    }
  ]
}