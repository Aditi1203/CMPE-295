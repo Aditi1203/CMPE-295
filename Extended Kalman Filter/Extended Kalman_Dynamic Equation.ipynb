{
 "cells": [
  {
   "cell_type": "code",
   "execution_count": 91,
   "metadata": {},
   "outputs": [],
   "source": [
    "import numpy as np\n",
    "%matplotlib inline\n",
    "import matplotlib.dates as mdates\n",
    "import matplotlib.pyplot as plt\n",
    "from scipy.stats import norm\n",
    "from sympy import Symbol, symbols, Matrix, sqrt, diff, Sum, exp\n",
    "from sympy import init_printing\n",
    "init_printing(use_latex=True)"
   ]
  },
  {
   "cell_type": "code",
   "execution_count": 40,
   "metadata": {},
   "outputs": [],
   "source": [
    "states=3"
   ]
  },
  {
   "cell_type": "markdown",
   "metadata": {},
   "source": [
    "### Dynamic Equations"
   ]
  },
  {
   "cell_type": "markdown",
   "metadata": {},
   "source": [
    "<img src=\"5.png\" alt=\"Drawing\" style=\"width: 400px;\"/>"
   ]
  },
  {
   "cell_type": "markdown",
   "metadata": {},
   "source": [
    "#### Developing the math behind dynamic model"
   ]
  },
  {
   "cell_type": "code",
   "execution_count": 84,
   "metadata": {},
   "outputs": [],
   "source": [
    "from sympy.abc import alpha, x, y, v, w, R, theta\n",
    "import math\n",
    "\n",
    "dts, xs, ys, zs, lats, lons = symbols('T x y z lat lon')\n",
    "\n",
    "gs = Matrix([[alpha*xs-w*ys],\n",
    "             [alpha*ys+w*xs],\n",
    "             [1],\n",
    "            ])\n",
    "state = Matrix([xs,ys,zs])"
   ]
  },
  {
   "cell_type": "code",
   "execution_count": 53,
   "metadata": {},
   "outputs": [
    {
     "data": {
      "text/latex": [
       "$$\\left[\\begin{matrix}\\alpha x - w y\\\\\\alpha y + w x\\\\1\\end{matrix}\\right]$$"
      ],
      "text/plain": [
       "⎡α⋅x - w⋅y⎤\n",
       "⎢         ⎥\n",
       "⎢α⋅y + w⋅x⎥\n",
       "⎢         ⎥\n",
       "⎣    1    ⎦"
      ]
     },
     "execution_count": 53,
     "metadata": {},
     "output_type": "execute_result"
    }
   ],
   "source": [
    "gs"
   ]
  },
  {
   "cell_type": "code",
   "execution_count": 92,
   "metadata": {},
   "outputs": [
    {
     "data": {
      "image/png": "[encoded data removed]",
      "text/latex": [
       "$$\\sum_{x=1}^{10} \\frac{1}{2 x + e^{x^{2}}}$$"
      ],
      "text/plain": [
       "  10             \n",
       "_____            \n",
       "╲                \n",
       " ╲         1     \n",
       "  ╲   ───────────\n",
       "   ╲         ⎛ 2⎞\n",
       "   ╱         ⎝x ⎠\n",
       "  ╱   2⋅x + ℯ    \n",
       " ╱               \n",
       "╱                \n",
       "‾‾‾‾‾            \n",
       "x = 1            "
      ]
     },
     "execution_count": 92,
     "metadata": {},
     "output_type": "execute_result"
    }
   ],
   "source": [
    "expr=Sum(1/(exp(x**2)+2*x),(x,1,10))\n",
    "expr"
   ]
  },
  {
   "cell_type": "code",
   "execution_count": 57,
   "metadata": {},
   "outputs": [
    {
     "data": {
      "text/latex": [
       "$$\\left[\\begin{matrix}- w y + x \\left(- \\sqrt{x^{2} + y^{2}} + 1\\right)\\\\w x + y \\left(- \\sqrt{x^{2} + y^{2}} + 1\\right)\\\\1\\end{matrix}\\right]$$"
      ],
      "text/plain": [
       "⎡         ⎛     _________    ⎞⎤\n",
       "⎢         ⎜    ╱  2    2     ⎟⎥\n",
       "⎢-w⋅y + x⋅⎝- ╲╱  x  + y   + 1⎠⎥\n",
       "⎢                             ⎥\n",
       "⎢        ⎛     _________    ⎞ ⎥\n",
       "⎢        ⎜    ╱  2    2     ⎟ ⎥\n",
       "⎢w⋅x + y⋅⎝- ╲╱  x  + y   + 1⎠ ⎥\n",
       "⎢                             ⎥\n",
       "⎣              1              ⎦"
      ]
     },
     "execution_count": 57,
     "metadata": {},
     "output_type": "execute_result"
    }
   ],
   "source": [
    "alpha=1-(sqrt((xs)**2+ys**2))\n",
    "gs = Matrix([[alpha*xs-w*ys],\n",
    "             [alpha*ys+w*xs],\n",
    "             [1],\n",
    "            ])\n",
    "gs"
   ]
  },
  {
   "cell_type": "code",
   "execution_count": 58,
   "metadata": {},
   "outputs": [
    {
     "data": {
      "text/latex": [
       "$$\\left[\\begin{matrix}x\\\\y\\\\z\\end{matrix}\\right]$$"
      ],
      "text/plain": [
       "⎡x⎤\n",
       "⎢ ⎥\n",
       "⎢y⎥\n",
       "⎢ ⎥\n",
       "⎣z⎦"
      ]
     },
     "execution_count": 58,
     "metadata": {},
     "output_type": "execute_result"
    }
   ],
   "source": [
    "state"
   ]
  },
  {
   "cell_type": "code",
   "execution_count": 59,
   "metadata": {},
   "outputs": [
    {
     "data": {
      "text/latex": [
       "$$\\left[\\begin{matrix}- \\frac{x^{2}}{\\sqrt{x^{2} + y^{2}}} - \\sqrt{x^{2} + y^{2}} + 1 & - w - \\frac{x y}{\\sqrt{x^{2} + y^{2}}} & 0\\\\w - \\frac{x y}{\\sqrt{x^{2} + y^{2}}} & - \\frac{y^{2}}{\\sqrt{x^{2} + y^{2}}} - \\sqrt{x^{2} + y^{2}} + 1 & 0\\\\0 & 0 & 0\\end{matrix}\\right]$$"
      ],
      "text/plain": [
       "⎡        2           _________                                          ⎤\n",
       "⎢       x           ╱  2    2                        x⋅y                ⎥\n",
       "⎢- ──────────── - ╲╱  x  + y   + 1          -w - ────────────          0⎥\n",
       "⎢     _________                                     _________           ⎥\n",
       "⎢    ╱  2    2                                     ╱  2    2            ⎥\n",
       "⎢  ╲╱  x  + y                                    ╲╱  x  + y             ⎥\n",
       "⎢                                                                       ⎥\n",
       "⎢                                           2           _________       ⎥\n",
       "⎢                x⋅y                       y           ╱  2    2        ⎥\n",
       "⎢        w - ────────────           - ──────────── - ╲╱  x  + y   + 1  0⎥\n",
       "⎢               _________                _________                      ⎥\n",
       "⎢              ╱  2    2                ╱  2    2                       ⎥\n",
       "⎢            ╲╱  x  + y               ╲╱  x  + y                        ⎥\n",
       "⎢                                                                       ⎥\n",
       "⎣                0                                  0                  0⎦"
      ]
     },
     "execution_count": 59,
     "metadata": {},
     "output_type": "execute_result"
    }
   ],
   "source": [
    "gs.jacobian(state)"
   ]
  },
  {
   "cell_type": "markdown",
   "metadata": {},
   "source": [
    "### Initial Equations"
   ]
  },
  {
   "cell_type": "markdown",
   "metadata": {},
   "source": [
    "<img src=\"1.png\" alt=\"Drawing\" style=\"width: 400px;\"/>"
   ]
  },
  {
   "cell_type": "markdown",
   "metadata": {},
   "source": [
    "### Values for Z"
   ]
  },
  {
   "cell_type": "markdown",
   "metadata": {},
   "source": [
    "<img src=\"2.png\" alt=\"Drawing\" style=\"width: 400px;\"/>"
   ]
  },
  {
   "cell_type": "markdown",
   "metadata": {},
   "source": [
    "### Dynamic Equations"
   ]
  },
  {
   "cell_type": "markdown",
   "metadata": {},
   "source": [
    "<img src=\"3.png\" alt=\"Drawing\" style=\"width: 400px;\"/>"
   ]
  },
  {
   "cell_type": "markdown",
   "metadata": {},
   "source": [
    " ### $A_k$"
   ]
  },
  {
   "cell_type": "code",
   "execution_count": 72,
   "metadata": {},
   "outputs": [
    {
     "data": {
      "image/png": "[encoded data removed]",
      "text/latex": [
       "$$- \\frac{x^{2}}{\\sqrt{x^{2} + y^{2}}} - \\sqrt{x^{2} + y^{2}} + 1$$"
      ],
      "text/plain": [
       "        2           _________    \n",
       "       x           ╱  2    2     \n",
       "- ──────────── - ╲╱  x  + y   + 1\n",
       "     _________                   \n",
       "    ╱  2    2                    \n",
       "  ╲╱  x  + y                     "
      ]
     },
     "execution_count": 72,
     "metadata": {},
     "output_type": "execute_result"
    }
   ],
   "source": [
    "A=diff(gs[0],x)\n",
    "A"
   ]
  },
  {
   "cell_type": "markdown",
   "metadata": {},
   "source": [
    " ### $F_k$"
   ]
  },
  {
   "cell_type": "code",
   "execution_count": 74,
   "metadata": {},
   "outputs": [
    {
     "data": {
      "image/png": "[encoded data removed]",
      "text/latex": [
       "$$- y$$"
      ],
      "text/plain": [
       "-y"
      ]
     },
     "execution_count": 74,
     "metadata": {},
     "output_type": "execute_result"
    }
   ],
   "source": [
    "F=diff(gs[0],w)\n",
    "F"
   ]
  },
  {
   "cell_type": "markdown",
   "metadata": {},
   "source": [
    " ### $C_k$"
   ]
  },
  {
   "cell_type": "code",
   "execution_count": 75,
   "metadata": {},
   "outputs": [
    {
     "data": {
      "image/png": "[encoded data removed]",
      "text/latex": [
       "$$x$$"
      ],
      "text/plain": [
       "x"
      ]
     },
     "execution_count": 75,
     "metadata": {},
     "output_type": "execute_result"
    }
   ],
   "source": [
    "C=diff(gs[1],w)\n",
    "C"
   ]
  },
  {
   "cell_type": "markdown",
   "metadata": {},
   "source": [
    " ### $G_k$"
   ]
  },
  {
   "cell_type": "code",
   "execution_count": 76,
   "metadata": {},
   "outputs": [
    {
     "data": {
      "image/png": "[encoded data removed]",
      "text/latex": [
       "$$0$$"
      ],
      "text/plain": [
       "0"
      ]
     },
     "execution_count": 76,
     "metadata": {},
     "output_type": "execute_result"
    }
   ],
   "source": [
    "G=diff(gs[1],v)\n",
    "G"
   ]
  },
  {
   "cell_type": "markdown",
   "metadata": {},
   "source": [
    "### Initial Uncertainty $P_0$"
   ]
  },
  {
   "cell_type": "code",
   "execution_count": 78,
   "metadata": {},
   "outputs": [
    {
     "name": "stdout",
     "output_type": "stream",
     "text": [
      "(array([[1000.,    0.,    0.],\n",
      "       [   0., 1000.,    0.],\n",
      "       [   0.,    0., 1000.]]), (3, 3))\n"
     ]
    }
   ],
   "source": [
    "P = np.diag([1000.0, 1000.0, 1000.0])\n",
    "print(P, P.shape)"
   ]
  },
  {
   "cell_type": "code",
   "execution_count": null,
   "metadata": {},
   "outputs": [],
   "source": []
  }
 ],
 "metadata": {
  "kernelspec": {
   "display_name": "Python 3",
   "language": "python",
   "name": "python3"
  },
  "language_info": {
   "codemirror_mode": {
    "name": "ipython",
    "version": 2
   },
   "file_extension": ".py",
   "mimetype": "text/x-python",
   "name": "python",
   "nbconvert_exporter": "python",
   "pygments_lexer": "ipython2",
   "version": "2.7.16"
  }
 },
 "nbformat": 4,
 "nbformat_minor": 2
}
