{
  "nbformat": 4,
  "nbformat_minor": 0,
  "metadata": {
    "colab": {
      "name": "Triple_loss_using_actual_y.ipynb",
      "provenance": [],
      "collapsed_sections": [],
      "machine_shape": "hm",
      "authorship_tag": "ABX9TyMeDHTnt8qsBEVHS+0LMrbz",
      "include_colab_link": true
    },
    "kernelspec": {
      "name": "python3",
      "display_name": "Python 3"
    },
    "accelerator": "TPU"
  },
  "cells": [
    {
      "cell_type": "markdown",
      "metadata": {
        "id": "view-in-github",
        "colab_type": "text"
      },
      "source": [
        "<a href=\"https://colab.research.google.com/github/Aditi1203/CMPE-295/blob/master/Triple_loss_using_actual_y.ipynb\" target=\"_parent\"><img src=\"https://colab.research.google.com/assets/colab-badge.svg\" alt=\"Open In Colab\"/></a>"
      ]
    },
    {
      "cell_type": "code",
      "metadata": {
        "id": "lthx8iosKQTz",
        "colab_type": "code",
        "colab": {
          "base_uri": "https://localhost:8080/",
          "height": 119
        },
        "outputId": "006e5035-635e-43c9-a384-8bb9b4bd0541"
      },
      "source": [
        "!git clone https://github.com/Aditi1203/CMPE-295.git"
      ],
      "execution_count": 1,
      "outputs": [
        {
          "output_type": "stream",
          "text": [
            "Cloning into 'CMPE-295'...\n",
            "remote: Enumerating objects: 1054256, done.\u001b[K\n",
            "remote: Total 1054256 (delta 0), reused 0 (delta 0), pack-reused 1054256\u001b[K\n",
            "Receiving objects: 100% (1054256/1054256), 2.53 GiB | 16.72 MiB/s, done.\n",
            "Resolving deltas: 100% (220384/220384), done.\n",
            "Checking out files: 100% (717979/717979), done.\n"
          ],
          "name": "stdout"
        }
      ]
    },
    {
      "cell_type": "code",
      "metadata": {
        "id": "tXCm3XaIMGXi",
        "colab_type": "code",
        "colab": {
          "base_uri": "https://localhost:8080/",
          "height": 51
        },
        "outputId": "7dced1bd-7058-4347-853c-e248e32d0381"
      },
      "source": [
        "cd CMPE-295/anand_sandbox/"
      ],
      "execution_count": 15,
      "outputs": [
        {
          "output_type": "stream",
          "text": [
            "[Errno 2] No such file or directory: 'CMPE-295/anand_sandbox/'\n",
            "/content/CMPE-295/anand_sandbox\n"
          ],
          "name": "stdout"
        }
      ]
    },
    {
      "cell_type": "code",
      "metadata": {
        "id": "KeoZ7t5AMG9b",
        "colab_type": "code",
        "colab": {}
      },
      "source": [
        "import pandas as pd\n",
        "import numpy as np\n",
        "import cv2\n",
        "import os\n",
        "import imutils\n",
        "import random\n",
        "from keras.applications import VGG19, VGG16\n",
        "from keras.applications.vgg19 import preprocess_input\n",
        "from keras.applications.vgg16 import preprocess_input\n",
        "from itertools import permutations\n",
        "from keras.optimizers import SGD,Adam\n",
        "from PIL import Image\n",
        "import keras\n",
        "from keras import backend as K\n",
        "from keras import Sequential, losses, optimizers, Input, optimizers\n",
        "from keras.layers import Input, Conv2D, Lambda, Dense, Flatten,MaxPooling2D, concatenate\n",
        "from keras.models import Model, Sequential\n",
        "from keras.layers import Input, Flatten, Lambda, Dense, Conv2D, MaxPool2D, MaxPooling2D, concatenate, Average, Flatten, Dropout, Activation\n",
        "from keras.utils import to_categorical, plot_model,vis_utils\n",
        "from sklearn.preprocessing import LabelEncoder\n",
        "from sklearn.model_selection import train_test_split\n",
        "from keras.callbacks import TensorBoard, EarlyStopping\n",
        "from keras.preprocessing.image import img_to_array\n",
        "from skimage import io\n",
        "import imutils\n",
        "import matplotlib.pyplot as plt\n",
        "import matplotlib.image as mpimg\n",
        "import glob\n",
        "import pywt\n",
        "from scipy import signal"
      ],
      "execution_count": 0,
      "outputs": []
    },
    {
      "cell_type": "code",
      "metadata": {
        "id": "CgYNn08CMJC8",
        "colab_type": "code",
        "colab": {}
      },
      "source": [
        "def load_data(number_of_items=3):\n",
        "    \"\"\"\n",
        "        number_of_items -> Number of items to return\n",
        "        returns the data in a dictionary of images and labels.\n",
        "    \"\"\"\n",
        "    path = \"scalogram_module/Scalogram\"\n",
        "    path1= \"scalogram_module/Scalogram/Cropped\"\n",
        "    data = [] \n",
        "    curated_data = {\"label\":[], \"scalogram\":[]}\n",
        "    for subject_name in os.listdir(path)[:number_of_items]:\n",
        "        if subject_name == \".DS_Store\":\n",
        "            number_of_items=number_of_items+1\n",
        "            continue\n",
        "        if subject_name  ==\".ipynb_checkpoints\":\n",
        "            number_of_items=number_of_items+1\n",
        "            continue\n",
        "        print (\"Going through subject:\" + subject_name)\n",
        "        base=os.path.basename(path+\"/\"+subject_name)\n",
        "        labelData=os.path.splitext(base)[0]\n",
        "        print(labelData)\n",
        "        i=0\n",
        "        for items in os.listdir(path+\"/\"+subject_name):\n",
        "            if items == \".DS_Store\":\n",
        "                continue\n",
        "            if items.endswith(\".png\"):\n",
        "                try:\n",
        "                    im2 = cv2.imread(path+\"/\"+subject_name+\"/\"+items)\n",
        "                    crop_img = im2[30:20+235, 50:50+342]\n",
        "                    im = cv2.resize(crop_img, (224,224)) # Changing into 80x80X3\n",
        "                    im = cv2.cvtColor(im, cv2.COLOR_BGR2GRAY)\n",
        "                    curated_data['scalogram'].append(im)\n",
        "                    curated_data['label'].append(labelData)\n",
        "                except:\n",
        "                      df = None  \n",
        "\n",
        "    return curated_data"
      ],
      "execution_count": 0,
      "outputs": []
    },
    {
      "cell_type": "code",
      "metadata": {
        "id": "cShrZvIiMMQg",
        "colab_type": "code",
        "colab": {
          "base_uri": "https://localhost:8080/",
          "height": 153
        },
        "outputId": "841322f4-71cd-4102-d81a-82595f22a445"
      },
      "source": [
        "data = load_data(number_of_items=4)"
      ],
      "execution_count": 18,
      "outputs": [
        {
          "output_type": "stream",
          "text": [
            "Going through subject:person_228\n",
            "person_228\n",
            "Going through subject:person_108\n",
            "person_108\n",
            "Going through subject:person_118\n",
            "person_118\n",
            "Going through subject:person_109\n",
            "person_109\n"
          ],
          "name": "stdout"
        }
      ]
    },
    {
      "cell_type": "code",
      "metadata": {
        "id": "-_AGBMaCMPuH",
        "colab_type": "code",
        "colab": {
          "base_uri": "https://localhost:8080/",
          "height": 51
        },
        "outputId": "fd0b7e04-440e-4872-b58a-f10c440a0a4b"
      },
      "source": [
        "print(data['scalogram'][0].shape)\n",
        "print(len(data['scalogram']))"
      ],
      "execution_count": 19,
      "outputs": [
        {
          "output_type": "stream",
          "text": [
            "(224, 224)\n",
            "4044\n"
          ],
          "name": "stdout"
        }
      ]
    },
    {
      "cell_type": "code",
      "metadata": {
        "id": "98BSat9PMSgh",
        "colab_type": "code",
        "colab": {
          "base_uri": "https://localhost:8080/",
          "height": 34
        },
        "outputId": "a4694393-987f-45c4-f09f-c159492c4cc0"
      },
      "source": [
        "len(data['label'])"
      ],
      "execution_count": 20,
      "outputs": [
        {
          "output_type": "execute_result",
          "data": {
            "text/plain": [
              "4044"
            ]
          },
          "metadata": {
            "tags": []
          },
          "execution_count": 20
        }
      ]
    },
    {
      "cell_type": "code",
      "metadata": {
        "id": "egT32L2FMXxn",
        "colab_type": "code",
        "colab": {
          "base_uri": "https://localhost:8080/",
          "height": 51
        },
        "outputId": "e74d4639-89ec-43c7-e9a1-f29e2d0d68e7"
      },
      "source": [
        "data_array=np.array(data['scalogram'])\n",
        "labels=np.array(data['label'])\n",
        "print(\"Data shape:{}\".format(data_array.shape))\n",
        "print(\"Labels shape:{}\".format(labels.shape))"
      ],
      "execution_count": 21,
      "outputs": [
        {
          "output_type": "stream",
          "text": [
            "Data shape:(4044, 224, 224)\n",
            "Labels shape:(4044,)\n"
          ],
          "name": "stdout"
        }
      ]
    },
    {
      "cell_type": "code",
      "metadata": {
        "id": "SlwRRkymMbhA",
        "colab_type": "code",
        "colab": {}
      },
      "source": [
        "data_array = data_array /  1/255"
      ],
      "execution_count": 0,
      "outputs": []
    },
    {
      "cell_type": "code",
      "metadata": {
        "id": "fZyUoK3PNkxU",
        "colab_type": "code",
        "colab": {
          "base_uri": "https://localhost:8080/",
          "height": 34
        },
        "outputId": "955eda40-c278-4b91-92d0-41b1f9d85e5f"
      },
      "source": [
        "encoder = LabelEncoder()\n",
        "encoder.fit(labels)\n",
        "labels = encoder.transform(labels)\n",
        "print(\"Encoded Labels shape:{} value:{}\".format(labels.shape,labels))"
      ],
      "execution_count": 23,
      "outputs": [
        {
          "output_type": "stream",
          "text": [
            "Encoded Labels shape:(4044,) value:[3 3 3 ... 1 1 1]\n"
          ],
          "name": "stdout"
        }
      ]
    },
    {
      "cell_type": "code",
      "metadata": {
        "id": "7O2Ze89bMgWs",
        "colab_type": "code",
        "colab": {
          "base_uri": "https://localhost:8080/",
          "height": 102
        },
        "outputId": "d4ea08bf-62a9-47a7-82a5-48efb8ea50b4"
      },
      "source": [
        "x_train, x_test, y_train,  y_test=train_test_split(data_array, labels, test_size=0.2, random_state=2)\n",
        "print(\"Shapes:\")\n",
        "print(\"Train Data:{}\".format(x_train.shape))\n",
        "print(\"Train Label:{}\".format(y_train.shape))\n",
        "print(\"Test Data:{}\".format(x_test.shape))\n",
        "print(\"Test Label:{}\".format(y_test.shape))"
      ],
      "execution_count": 24,
      "outputs": [
        {
          "output_type": "stream",
          "text": [
            "Shapes:\n",
            "Train Data:(3235, 224, 224)\n",
            "Train Label:(3235,)\n",
            "Test Data:(809, 224, 224)\n",
            "Test Label:(809,)\n"
          ],
          "name": "stdout"
        }
      ]
    },
    {
      "cell_type": "code",
      "metadata": {
        "id": "Qz0iWHtrN7WV",
        "colab_type": "code",
        "colab": {
          "base_uri": "https://localhost:8080/",
          "height": 34
        },
        "outputId": "6f4f4f29-95c8-4139-d1bb-22021e468ba0"
      },
      "source": [
        "x_train_master = np.expand_dims(x_train, 3)\n",
        "x_test_master = np.expand_dims(x_test, 3)\n",
        "print(x_train.shape, x_test.shape)"
      ],
      "execution_count": 25,
      "outputs": [
        {
          "output_type": "stream",
          "text": [
            "(3235, 224, 224) (809, 224, 224)\n"
          ],
          "name": "stdout"
        }
      ]
    },
    {
      "cell_type": "code",
      "metadata": {
        "id": "Isz3kop8Oddj",
        "colab_type": "code",
        "colab": {
          "base_uri": "https://localhost:8080/",
          "height": 34
        },
        "outputId": "3dd9081f-4732-4336-af0d-9711c4d6d6f2"
      },
      "source": [
        "y_train_master = y_train.flatten()\n",
        "y_test_master = y_test.flatten()\n",
        "print(y_train_master.shape,y_test_master.shape)"
      ],
      "execution_count": 26,
      "outputs": [
        {
          "output_type": "stream",
          "text": [
            "(3235,) (809,)\n"
          ],
          "name": "stdout"
        }
      ]
    },
    {
      "cell_type": "code",
      "metadata": {
        "id": "Z-hWEdYTMj7V",
        "colab_type": "code",
        "colab": {
          "base_uri": "https://localhost:8080/",
          "height": 34
        },
        "outputId": "a6cf3139-b22b-4c04-aeb7-b95dea0815d0"
      },
      "source": [
        "shape=x_train.shape\n",
        "dim_x = shape[1]\n",
        "dim_y = shape[2]\n",
        "print(\"Dimension of Scalogram Image: {}*{}\".format(dim_x,dim_y ))"
      ],
      "execution_count": 27,
      "outputs": [
        {
          "output_type": "stream",
          "text": [
            "Dimension of Scalogram Image: 224*224\n"
          ],
          "name": "stdout"
        }
      ]
    },
    {
      "cell_type": "code",
      "metadata": {
        "id": "As_2To-_MmMk",
        "colab_type": "code",
        "colab": {}
      },
      "source": [
        "num_train_per_class = 1\n",
        "n_epochs = 10"
      ],
      "execution_count": 0,
      "outputs": []
    },
    {
      "cell_type": "code",
      "metadata": {
        "id": "xllU-3j5OvuK",
        "colab_type": "code",
        "colab": {}
      },
      "source": [
        "def generate_triplets(dataset, label, sample_per_class=20):\n",
        "    x, y = None, None\n",
        "    for i in set(label):\n",
        "        pos_indices = np.argwhere(label == i)[:,0]\n",
        "        print(len(pos_indices))\n",
        "        neg_indices = np.argwhere(label != i)[:,0]\n",
        "\n",
        "        # print(\"pos indices: {}, neg_indices: {}\".format(pos_indices.shape, neg_indices.shape))\n",
        "        choice_anchor = np.random.choice(pos_indices.shape[0], sample_per_class, replace=True)\n",
        "        choice_anchor = pos_indices[choice_anchor]\n",
        "\n",
        "        choice_pos = np.random.choice(pos_indices.shape[0], sample_per_class, replace=True)\n",
        "        choice_pos = pos_indices[choice_pos]\n",
        "\n",
        "        choice_neg = np.random.choice(neg_indices.shape[0], sample_per_class, replace=True)\n",
        "        choice_neg = neg_indices[choice_neg]\n",
        "\n",
        "        sub_x_anc = dataset[choice_anchor]\n",
        "\n",
        "        sub_x_pos = dataset[choice_pos]\n",
        "\n",
        "        sub_x_neg = dataset[choice_neg]\n",
        "\n",
        "\n",
        "        if(x is None):\n",
        "            x = [(sub_x_anc), (sub_x_pos), (sub_x_neg)]\n",
        "            y = [label[choice_anchor], label[choice_pos], label[choice_neg]]\n",
        "        else:\n",
        "            x[0] = np.vstack((x[0], (sub_x_anc)))\n",
        "            x[1] = np.vstack((x[1], (sub_x_pos)))\n",
        "            x[2] = np.vstack((x[2], (sub_x_neg)))\n",
        "\n",
        "            y[0] = np.hstack((y[0].flatten(), label[choice_anchor].flatten()))\n",
        "            y[1] = np.hstack((y[1].flatten(), label[choice_pos].flatten()))\n",
        "            y[2] = np.hstack((y[2].flatten(), label[choice_neg].flatten()))\n",
        "            # y[0] = np.vstack((y[0].flatten(), label[choice_anchor].flatten()))\n",
        "            # y[1] = np.vstack((y[1].flatten(), label[choice_pos].flatten()))\n",
        "            # y[2] = np.vstack((y[2].flatten(), label[choice_neg].flatten()))\n",
        "\n",
        "    return x, y"
      ],
      "execution_count": 0,
      "outputs": []
    },
    {
      "cell_type": "code",
      "metadata": {
        "id": "FIzdsYvoOy_p",
        "colab_type": "code",
        "colab": {
          "base_uri": "https://localhost:8080/",
          "height": 85
        },
        "outputId": "961fa7bc-de59-4a0a-a676-a6d1bebb62ff"
      },
      "source": [
        "train_x, train_y = generate_triplets(x_train_master, y_train_master)"
      ],
      "execution_count": 30,
      "outputs": [
        {
          "output_type": "stream",
          "text": [
            "687\n",
            "931\n",
            "851\n",
            "766\n"
          ],
          "name": "stdout"
        }
      ]
    },
    {
      "cell_type": "code",
      "metadata": {
        "id": "c0tb213tPw2D",
        "colab_type": "code",
        "colab": {
          "base_uri": "https://localhost:8080/",
          "height": 34
        },
        "outputId": "07c1fe20-3d53-4808-c621-deaf5c17153f"
      },
      "source": [
        "print(y_train_master)"
      ],
      "execution_count": 31,
      "outputs": [
        {
          "output_type": "stream",
          "text": [
            "[1 2 3 ... 2 2 1]\n"
          ],
          "name": "stdout"
        }
      ]
    },
    {
      "cell_type": "code",
      "metadata": {
        "id": "XdN6JHt2Rwpe",
        "colab_type": "code",
        "colab": {
          "base_uri": "https://localhost:8080/",
          "height": 187
        },
        "outputId": "990c6bb9-d15b-4810-d9ef-e7139373b5dd"
      },
      "source": [
        "print(len(train_x),train_x[0].shape, len(train_y))\n",
        "      \n",
        "print(\"Anchor labels:{}\".format(train_y[0]))\n",
        "print(\"Positive labels:{}\".format(train_y[1]))\n",
        "print(\"Negative labels:{}\".format(train_y[2]))"
      ],
      "execution_count": 33,
      "outputs": [
        {
          "output_type": "stream",
          "text": [
            "3 (80, 224, 224, 1) 3\n",
            "Anchor labels:[0 0 0 0 0 0 0 0 0 0 0 0 0 0 0 0 0 0 0 0 1 1 1 1 1 1 1 1 1 1 1 1 1 1 1 1 1\n",
            " 1 1 1 2 2 2 2 2 2 2 2 2 2 2 2 2 2 2 2 2 2 2 2 3 3 3 3 3 3 3 3 3 3 3 3 3 3\n",
            " 3 3 3 3 3 3]\n",
            "Positive labels:[0 0 0 0 0 0 0 0 0 0 0 0 0 0 0 0 0 0 0 0 1 1 1 1 1 1 1 1 1 1 1 1 1 1 1 1 1\n",
            " 1 1 1 2 2 2 2 2 2 2 2 2 2 2 2 2 2 2 2 2 2 2 2 3 3 3 3 3 3 3 3 3 3 3 3 3 3\n",
            " 3 3 3 3 3 3]\n",
            "Negative labels:[2 3 1 1 1 3 1 3 1 2 2 2 2 3 3 1 2 1 3 1 3 0 0 2 2 3 2 2 2 2 2 2 2 2 3 0 0\n",
            " 3 3 0 3 3 0 3 0 1 0 1 1 1 3 3 1 3 0 0 1 3 3 0 0 0 2 1 0 1 1 2 2 2 0 1 2 0\n",
            " 2 1 1 2 0 2]\n"
          ],
          "name": "stdout"
        }
      ]
    },
    {
      "cell_type": "code",
      "metadata": {
        "id": "ts5b0ougSBMA",
        "colab_type": "code",
        "colab": {}
      },
      "source": [
        "def visualize_data(data, n):\n",
        "    n = min(len(data[0]), n)\n",
        "    random_choices = np.random.choice(len(data[0]),n, replace=True)\n",
        "    fig, ax = plt.subplots(n, 3,figsize=(10,40))\n",
        "    anc, pos, neg = data\n",
        "    for i,ch in enumerate(random_choices):\n",
        "        ax[i, 0].imshow(np.squeeze(anc[ch] ))\n",
        "        ax[i, 1].imshow(np.squeeze(pos[ch] ))\n",
        "        ax[i, 2].imshow(np.squeeze(neg[ch] ))\n",
        "\n",
        "\n",
        "        ax[i, 0].set_axis_off()\n",
        "        ax[i, 1].set_axis_off()\n",
        "        ax[i, 2].set_axis_off()"
      ],
      "execution_count": 0,
      "outputs": []
    },
    {
      "cell_type": "code",
      "metadata": {
        "id": "gFb0lN-ySIel",
        "colab_type": "code",
        "colab": {
          "base_uri": "https://localhost:8080/",
          "height": 1000
        },
        "outputId": "78c1d482-8919-4118-96fb-fb104b8b654b"
      },
      "source": [
        "visualize_data(train_x, 10)"
      ],
      "execution_count": 54,
      "outputs": [
        {
          "output_type": "display_data",
          "data": {
            "image/png": "[encoded data removed]",
            "text/plain": [
              "<Figure size 720x2880 with 30 Axes>"
            ]
          },
          "metadata": {
            "tags": [],
            "needs_background": "light"
          }
        }
      ]
    },
    {
      "cell_type": "code",
      "metadata": {
        "id": "_9QQaFwPST8t",
        "colab_type": "code",
        "colab": {}
      },
      "source": [
        "Case:2"
      ],
      "execution_count": 0,
      "outputs": []
    },
    {
      "cell_type": "code",
      "metadata": {
        "id": "qerTCbbvSbAQ",
        "colab_type": "code",
        "colab": {
          "base_uri": "https://localhost:8080/",
          "height": 153
        },
        "outputId": "ed5389e1-a800-4340-e834-c1b8e88031ce"
      },
      "source": [
        "num_train_per_class=100\n",
        "num_test_per_class=30\n",
        "train_x, train_y = generate_triplets(x_train_master, y_train_master, num_train_per_class)\n",
        "test_x, test_y = generate_triplets(x_test_master, y_test_master,num_test_per_class)"
      ],
      "execution_count": 36,
      "outputs": [
        {
          "output_type": "stream",
          "text": [
            "687\n",
            "931\n",
            "851\n",
            "766\n",
            "144\n",
            "247\n",
            "212\n",
            "206\n"
          ],
          "name": "stdout"
        }
      ]
    },
    {
      "cell_type": "code",
      "metadata": {
        "id": "DUY-s1J4Shws",
        "colab_type": "code",
        "colab": {
          "base_uri": "https://localhost:8080/",
          "height": 85
        },
        "outputId": "5a523ed6-ce51-4705-fdc2-1acae8aa1ed3"
      },
      "source": [
        "print(\"Length of generated triplet for Train Data:{},{}\".format(len(train_x),train_x[0].shape))\n",
        "print(\"Length of generated triplet for Test Data:\", len(test_x),test_x[0].shape)\n",
        "print(\"Length of generated triplet for Train Label:{},{}\".format(len(train_y),train_y[0].shape))\n",
        "print(\"Length of generated triplet for Test Label:\", len(test_y),test_y[0].shape)"
      ],
      "execution_count": 37,
      "outputs": [
        {
          "output_type": "stream",
          "text": [
            "Length of generated triplet for Train Data:3,(400, 224, 224, 1)\n",
            "Length of generated triplet for Test Data: 3 (120, 224, 224, 1)\n",
            "Length of generated triplet for Train Label:3,(400,)\n",
            "Length of generated triplet for Test Label: 3 (120,)\n"
          ],
          "name": "stdout"
        }
      ]
    },
    {
      "cell_type": "code",
      "metadata": {
        "id": "kMvlf8LESm3_",
        "colab_type": "code",
        "colab": {}
      },
      "source": [
        "def triplet_loss(inputs, dist='euclidean', margin='maxplus'):\n",
        "    print(\"loss calculation\")\n",
        "    alpha=0.4\n",
        "    anchor, positive, negative = inputs\n",
        "    positive_distance = K.square(anchor - positive)\n",
        "    negative_distance = K.square(anchor - negative)\n",
        "    \n",
        "    positive_distance = K.sqrt(K.sum(positive_distance, axis=-1, keepdims=True))\n",
        "    negative_distance = K.sqrt(K.sum(negative_distance, axis=-1, keepdims=True))\n",
        "    loss = positive_distance - negative_distance\n",
        "    \n",
        "    if margin == 'maxplus':\n",
        "        loss = K.maximum(0.0, alpha + loss)\n",
        "   \n",
        "    return loss"
      ],
      "execution_count": 0,
      "outputs": []
    },
    {
      "cell_type": "code",
      "metadata": {
        "id": "lLpu-2ZlrHe9",
        "colab_type": "code",
        "colab": {}
      },
      "source": [
        "def get_embedding_model(input_shape, embedding_dim):\n",
        "    _input = Input(shape=input_shape)\n",
        "    in_dims=input_shape\n",
        "    x = Flatten()(_input)\n",
        "    # x = Dense(embedding_dim * 4,activation=\"relu\")(x)\n",
        "    x = Dense(embedding_dim * 2, activation='relu')(x)\n",
        "    x = Dense(embedding_dim)(x)\n",
        "    return Model(_input, x)"
      ],
      "execution_count": 0,
      "outputs": []
    },
    {
      "cell_type": "code",
      "metadata": {
        "id": "PgThwrBBzsyi",
        "colab_type": "code",
        "colab": {}
      },
      "source": [
        "def network_model(input_shape, triplet_margin=.3, embedding_dim=50):\n",
        "    \"\"\"\n",
        "        Model architecture\n",
        "    \"\"\"\n",
        "    \n",
        "    # Defining tensors for the triplet of input images\n",
        "    anchor_input = Input(input_shape, name=\"anchor_input\")\n",
        "    positive_input = Input(input_shape, name=\"positive_input\")\n",
        "    negative_input = Input(input_shape, name=\"negative_input\")\n",
        "    \n",
        "    # Convolutional Neural Network (same from earlier)\n",
        "    embedding_model = get_embedding_model(input_shape, embedding_dim)\n",
        "    \n",
        "    # Generate the embedding outputs \n",
        "    encoded_anchor = embedding_model(anchor_input)\n",
        "    encoded_positive = embedding_model(positive_input)\n",
        "    encoded_negative = embedding_model(negative_input)\n",
        "    \n",
        "    inputs = [anchor_input, positive_input, negative_input]\n",
        "    outputs = [encoded_anchor, encoded_positive, encoded_negative]\n",
        "    \n",
        "    # Connect the inputs with the outputs\n",
        "    triplet = Model(inputs=inputs,outputs=outputs)\n",
        "    \n",
        "    triplet.add_loss((triplet_loss(outputs, dist='euclidean', margin='maxplus')))\n",
        "    \n",
        "    # return the model\n",
        "    return embedding_model, triplet"
      ],
      "execution_count": 0,
      "outputs": []
    },
    {
      "cell_type": "code",
      "metadata": {
        "id": "WV8-i03grHws",
        "colab_type": "code",
        "colab": {
          "base_uri": "https://localhost:8080/",
          "height": 105
        },
        "outputId": "5bc8af90-b22c-4c5e-a1e5-dcd4c491fdcb"
      },
      "source": [
        "embedding_model, triplet = network_model((224,224,1), triplet_margin=.3, embedding_dim=150)\n",
        "print(\"here\")\n",
        "triplet.compile(loss=None, optimizer=Adam(0.0001))"
      ],
      "execution_count": 41,
      "outputs": [
        {
          "output_type": "stream",
          "text": [
            "loss calculation\n",
            "here\n"
          ],
          "name": "stdout"
        },
        {
          "output_type": "stream",
          "text": [
            "/usr/local/lib/python3.6/dist-packages/keras/engine/training_utils.py:819: UserWarning: Output model_1 missing from loss dictionary. We assume this was done on purpose. The fit and evaluate APIs will not be expecting any data to be passed to model_1.\n",
            "  'be expecting any data to be passed to {0}.'.format(name))\n"
          ],
          "name": "stderr"
        }
      ]
    },
    {
      "cell_type": "code",
      "metadata": {
        "id": "KKOs9te2rH_e",
        "colab_type": "code",
        "colab": {
          "base_uri": "https://localhost:8080/",
          "height": 374
        },
        "outputId": "619974ba-0690-4bd4-fd76-f87f761473ff"
      },
      "source": [
        "n_epochs=10\n",
        "history = triplet.fit(train_x, shuffle=True, batch_size=32,\n",
        "                              validation_split=.1, epochs=n_epochs)"
      ],
      "execution_count": 44,
      "outputs": [
        {
          "output_type": "stream",
          "text": [
            "Train on 360 samples, validate on 40 samples\n",
            "Epoch 1/10\n",
            "360/360 [==============================] - 1s 2ms/step - loss: 0.0134 - val_loss: 0.5182\n",
            "Epoch 2/10\n",
            "360/360 [==============================] - 1s 2ms/step - loss: 0.0146 - val_loss: 0.6031\n",
            "Epoch 3/10\n",
            "360/360 [==============================] - 1s 2ms/step - loss: 0.0102 - val_loss: 0.5196\n",
            "Epoch 4/10\n",
            "360/360 [==============================] - 1s 2ms/step - loss: 0.0000e+00 - val_loss: 0.5690\n",
            "Epoch 5/10\n",
            "360/360 [==============================] - 1s 2ms/step - loss: 0.0018 - val_loss: 0.5688\n",
            "Epoch 6/10\n",
            "360/360 [==============================] - 1s 2ms/step - loss: 0.0016 - val_loss: 0.4420\n",
            "Epoch 7/10\n",
            "360/360 [==============================] - 1s 2ms/step - loss: 0.0034 - val_loss: 0.3933\n",
            "Epoch 8/10\n",
            "360/360 [==============================] - 1s 2ms/step - loss: 0.0011 - val_loss: 0.4229\n",
            "Epoch 9/10\n",
            "360/360 [==============================] - 1s 2ms/step - loss: 0.0015 - val_loss: 0.5862\n",
            "Epoch 10/10\n",
            "360/360 [==============================] - 1s 2ms/step - loss: 0.0687 - val_loss: 0.6746\n"
          ],
          "name": "stdout"
        }
      ]
    },
    {
      "cell_type": "code",
      "metadata": {
        "id": "wutvntZmvIdd",
        "colab_type": "code",
        "colab": {
          "base_uri": "https://localhost:8080/",
          "height": 34
        },
        "outputId": "2f6b4cbe-e8b1-48e8-bd52-69529e8ec637"
      },
      "source": [
        "print(len(train_x), train_x[0].shape)"
      ],
      "execution_count": 45,
      "outputs": [
        {
          "output_type": "stream",
          "text": [
            "3 (400, 224, 224, 1)\n"
          ],
          "name": "stdout"
        }
      ]
    },
    {
      "cell_type": "code",
      "metadata": {
        "id": "MOC1k8wZ-OMB",
        "colab_type": "code",
        "colab": {
          "base_uri": "https://localhost:8080/",
          "height": 295
        },
        "outputId": "f8703706-6e7b-4c5b-eb27-c0234a400780"
      },
      "source": [
        "from matplotlib import pyplot as plt\n",
        "plt.plot(history.history['loss'])\n",
        "plt.plot(history.history['val_loss'])\n",
        "plt.title('model loss')\n",
        "plt.ylabel('loss')\n",
        "plt.xlabel('epoch')\n",
        "plt.legend(['train', 'test'], loc='upper right')\n",
        "plt.show()"
      ],
      "execution_count": 46,
      "outputs": [
        {
          "output_type": "display_data",
          "data": {
            "image/png": "[encoded data removed]",
            "text/plain": [
              "<Figure size 432x288 with 1 Axes>"
            ]
          },
          "metadata": {
            "tags": [],
            "needs_background": "light"
          }
        }
      ]
    },
    {
      "cell_type": "code",
      "metadata": {
        "id": "Og7-LyTGwVXn",
        "colab_type": "code",
        "colab": {}
      },
      "source": [
        "# Expected predictions from model on train_data(that is stacked)\n",
        "train_embeds = embedding_model.predict(np.vstack((train_x[0], train_x[1], train_x[2])))"
      ],
      "execution_count": 0,
      "outputs": []
    },
    {
      "cell_type": "code",
      "metadata": {
        "id": "Ow4Jh_VJcGLP",
        "colab_type": "code",
        "colab": {}
      },
      "source": [
        "# Get the embeddings of the images\n",
        "def get_image_embedding(test_model, input):\n",
        "  train_data_v_stack=np.vstack((input[0], input[1], input[2]))\n",
        "  train_embeds = test_model.predict(train_data_v_stack)\n",
        "  return train_embeds\n"
      ],
      "execution_count": 0,
      "outputs": []
    },
    {
      "cell_type": "code",
      "metadata": {
        "id": "sRNyqgMPcKsJ",
        "colab_type": "code",
        "colab": {
          "base_uri": "https://localhost:8080/",
          "height": 51
        },
        "outputId": "61705805-2edd-46d2-e828-ea893053aa60"
      },
      "source": [
        "train_embeds=get_image_embedding(embedding_model, train_x)\n",
        "print(\"Train Embeddings shape:{}\".format(train_embeds.shape))\n",
        "print(train_embeds[0].shape, train_embeds.shape)"
      ],
      "execution_count": 53,
      "outputs": [
        {
          "output_type": "stream",
          "text": [
            "Train Embeddings shape:(1200, 150)\n",
            "(150,) (1200, 150)\n"
          ],
          "name": "stdout"
        }
      ]
    },
    {
      "cell_type": "code",
      "metadata": {
        "id": "7ZDJVLl9czAy",
        "colab_type": "code",
        "colab": {
          "base_uri": "https://localhost:8080/",
          "height": 238
        },
        "outputId": "5481fd55-b3b8-4a30-faab-11accfbc1ee9"
      },
      "source": [
        "train_data_v_stack = np.vstack((train_x[0], train_x[1], train_x[2]))\n",
        "train_label_v_stack = np.vstack((train_y[0], train_y[1], train_y[2]))\n",
        "print(\"Shape of vertical_stacked train data: {}\".format(train_data_v_stack.shape))\n",
        "print(\"Shape of vertical_stacked train label in form of [[],[],[]]: {}\".format(train_label_v_stack.shape))\n",
        "print(\"Labels of Anchor Image:{}\".format(train_label_v_stack[0]))"
      ],
      "execution_count": 60,
      "outputs": [
        {
          "output_type": "stream",
          "text": [
            "Shape of vertical_stacked train data: (1200, 224, 224, 1)\n",
            "Shape of vertical_stacked train label in form of [[],[],[]]: (3, 400)\n",
            "Labels of Anchor Image:[0 0 0 0 0 0 0 0 0 0 0 0 0 0 0 0 0 0 0 0 0 0 0 0 0 0 0 0 0 0 0 0 0 0 0 0 0\n",
            " 0 0 0 0 0 0 0 0 0 0 0 0 0 0 0 0 0 0 0 0 0 0 0 0 0 0 0 0 0 0 0 0 0 0 0 0 0\n",
            " 0 0 0 0 0 0 0 0 0 0 0 0 0 0 0 0 0 0 0 0 0 0 0 0 0 0 1 1 1 1 1 1 1 1 1 1 1\n",
            " 1 1 1 1 1 1 1 1 1 1 1 1 1 1 1 1 1 1 1 1 1 1 1 1 1 1 1 1 1 1 1 1 1 1 1 1 1\n",
            " 1 1 1 1 1 1 1 1 1 1 1 1 1 1 1 1 1 1 1 1 1 1 1 1 1 1 1 1 1 1 1 1 1 1 1 1 1\n",
            " 1 1 1 1 1 1 1 1 1 1 1 1 1 1 1 2 2 2 2 2 2 2 2 2 2 2 2 2 2 2 2 2 2 2 2 2 2\n",
            " 2 2 2 2 2 2 2 2 2 2 2 2 2 2 2 2 2 2 2 2 2 2 2 2 2 2 2 2 2 2 2 2 2 2 2 2 2\n",
            " 2 2 2 2 2 2 2 2 2 2 2 2 2 2 2 2 2 2 2 2 2 2 2 2 2 2 2 2 2 2 2 2 2 2 2 2 2\n",
            " 2 2 2 2 3 3 3 3 3 3 3 3 3 3 3 3 3 3 3 3 3 3 3 3 3 3 3 3 3 3 3 3 3 3 3 3 3\n",
            " 3 3 3 3 3 3 3 3 3 3 3 3 3 3 3 3 3 3 3 3 3 3 3 3 3 3 3 3 3 3 3 3 3 3 3 3 3\n",
            " 3 3 3 3 3 3 3 3 3 3 3 3 3 3 3 3 3 3 3 3 3 3 3 3 3 3 3 3 3 3]\n"
          ],
          "name": "stdout"
        }
      ]
    },
    {
      "cell_type": "code",
      "metadata": {
        "id": "n71TJcQqzer1",
        "colab_type": "code",
        "colab": {
          "base_uri": "https://localhost:8080/",
          "height": 119
        },
        "outputId": "8c9857b4-099a-4262-83dc-c8288f1dad73"
      },
      "source": [
        ""
      ],
      "execution_count": 344,
      "outputs": [
        {
          "output_type": "stream",
          "text": [
            "Shape of vertical_stacked test data: (360, 224, 224, 1)\n",
            "Shape of vertical_stacked test label in form of [[],[],[]]: (3, 120)\n",
            "Labels of Image to test:[0 0 0 0 0 0 0 0 0 0 0 0 0 0 0 0 0 0 0 0 0 0 0 0 0 0 0 0 0 0 1 1 1 1 1 1 1\n",
            " 1 1 1 1 1 1 1 1 1 1 1 1 1 1 1 1 1 1 1 1 1 1 1 2 2 2 2 2 2 2 2 2 2 2 2 2 2\n",
            " 2 2 2 2 2 2 2 2 2 2 2 2 2 2 2 2 3 3 3 3 3 3 3 3 3 3 3 3 3 3 3 3 3 3 3 3 3\n",
            " 3 3 3 3 3 3 3 3 3]\n"
          ],
          "name": "stdout"
        }
      ]
    },
    {
      "cell_type": "code",
      "metadata": {
        "id": "lhMjscmuxALQ",
        "colab_type": "code",
        "colab": {
          "base_uri": "https://localhost:8080/",
          "height": 68
        },
        "outputId": "b1e33001-c864-4a02-af99-69a9d350b806"
      },
      "source": [
        "print(\"What is your claimed identity?\")\n",
        "claimed_label=input()\n",
        "print(claimed_label)"
      ],
      "execution_count": 347,
      "outputs": [
        {
          "output_type": "stream",
          "text": [
            "What is your claimed identity?\n",
            "0\n",
            "0\n"
          ],
          "name": "stdout"
        }
      ]
    },
    {
      "cell_type": "code",
      "metadata": {
        "id": "HP_0CUw-x313",
        "colab_type": "code",
        "colab": {}
      },
      "source": [
        "from itertools import chain \n",
        "def get_k_template_values(label):\n",
        "  label=int(label)\n",
        "  target_label=np.argwhere(train_label_v_stack[0]==label)\n",
        "  # List of list format.So need to change into single list using chain\n",
        "  target_label = list(chain.from_iterable(target_label)) \n",
        "  print(target_label)\n",
        "\n",
        "  k_template_value=[]\n",
        "  for value in target_label:\n",
        "    k_template_value.append(train_embeds[value])\n",
        "  print(\"K templates, Value of k:{}, template shape:{}\".format(len(k_template_value), len(k_template_value[0])))\n",
        "  return k_template_value"
      ],
      "execution_count": 0,
      "outputs": []
    },
    {
      "cell_type": "code",
      "metadata": {
        "id": "rmVyLm7byJlB",
        "colab_type": "code",
        "colab": {
          "base_uri": "https://localhost:8080/",
          "height": 71
        },
        "outputId": "38ffa71c-d1c4-4ac0-f0f5-374a1a26a5a6"
      },
      "source": [
        "k_template_value=get_k_template_values(claimed_label)"
      ],
      "execution_count": 353,
      "outputs": [
        {
          "output_type": "stream",
          "text": [
            "[0, 1, 2, 3, 4, 5, 6, 7, 8, 9, 10, 11, 12, 13, 14, 15, 16, 17, 18, 19, 20, 21, 22, 23, 24, 25, 26, 27, 28, 29, 30, 31, 32, 33, 34, 35, 36, 37, 38, 39, 40, 41, 42, 43, 44, 45, 46, 47, 48, 49, 50, 51, 52, 53, 54, 55, 56, 57, 58, 59, 60, 61, 62, 63, 64, 65, 66, 67, 68, 69, 70, 71, 72, 73, 74, 75, 76, 77, 78, 79, 80, 81, 82, 83, 84, 85, 86, 87, 88, 89, 90, 91, 92, 93, 94, 95, 96, 97, 98, 99]\n",
            "K templates, Value of k:100, template shape:150\n"
          ],
          "name": "stdout"
        }
      ]
    },
    {
      "cell_type": "code",
      "metadata": {
        "id": "C1BwKQnZ0tnv",
        "colab_type": "code",
        "colab": {
          "base_uri": "https://localhost:8080/",
          "height": 119
        },
        "outputId": "2a782eae-cfa9-482d-c4aa-2f169d8ef897"
      },
      "source": [
        "test_data_v_stack=np.vstack((test_x[0], test_x[1], test_x[2]))\n",
        "test_label_v_stack=np.vstack((test_y[0], test_y[1], test_y[2]))\n",
        "print(\"Shape of vertical_stacked test data: {}\".format(test_data_v_stack.shape))\n",
        "print(\"Shape of vertical_stacked test label in form of [[],[],[]]: {}\".format(test_label_v_stack.shape))\n",
        "print(\"Labels of Image to test:{}\".format(test_label_v_stack[0]))"
      ],
      "execution_count": 354,
      "outputs": [
        {
          "output_type": "stream",
          "text": [
            "Shape of vertical_stacked test data: (360, 224, 224, 1)\n",
            "Shape of vertical_stacked test label in form of [[],[],[]]: (3, 120)\n",
            "Labels of Image to test:[0 0 0 0 0 0 0 0 0 0 0 0 0 0 0 0 0 0 0 0 0 0 0 0 0 0 0 0 0 0 1 1 1 1 1 1 1\n",
            " 1 1 1 1 1 1 1 1 1 1 1 1 1 1 1 1 1 1 1 1 1 1 1 2 2 2 2 2 2 2 2 2 2 2 2 2 2\n",
            " 2 2 2 2 2 2 2 2 2 2 2 2 2 2 2 2 3 3 3 3 3 3 3 3 3 3 3 3 3 3 3 3 3 3 3 3 3\n",
            " 3 3 3 3 3 3 3 3 3]\n"
          ],
          "name": "stdout"
        }
      ]
    },
    {
      "cell_type": "code",
      "metadata": {
        "id": "JlfYDCg7l2xN",
        "colab_type": "code",
        "colab": {
          "base_uri": "https://localhost:8080/",
          "height": 85
        },
        "outputId": "b2e6581f-abee-4782-e6fe-c5e25a8e79ad"
      },
      "source": [
        "print(\"Select any label!\")\n",
        "print(set(test_label_v_stack[0]))\n",
        "real_identity = input()\n",
        "print(\"Input Value:\", real_identity)\n",
        "\n",
        "\n",
        "# claimed_identity = 2"
      ],
      "execution_count": 361,
      "outputs": [
        {
          "output_type": "stream",
          "text": [
            "Select any label!\n",
            "{0, 1, 2, 3}\n",
            "0\n",
            "Input Value: 0\n"
          ],
          "name": "stdout"
        }
      ]
    },
    {
      "cell_type": "code",
      "metadata": {
        "id": "Z2w-etyPkn7J",
        "colab_type": "code",
        "colab": {
          "base_uri": "https://localhost:8080/",
          "height": 51
        },
        "outputId": "509dddb8-540d-4a68-efd4-179fc465d333"
      },
      "source": [
        "# test_label=np.argwhere(test_label_v_stack[0]==2)\n",
        "test_label=np.argwhere(test_label_v_stack[0]==int(real_identity))\n",
        "test_label = list(chain.from_iterable(test_label)) \n",
        "# Multiple values of the same label in test_data, so we will select any random one\n",
        "print(test_label)\n",
        "print(random_test_label)"
      ],
      "execution_count": 362,
      "outputs": [
        {
          "output_type": "stream",
          "text": [
            "[0, 1, 2, 3, 4, 5, 6, 7, 8, 9, 10, 11, 12, 13, 14, 15, 16, 17, 18, 19, 20, 21, 22, 23, 24, 25, 26, 27, 28, 29]\n",
            "30\n"
          ],
          "name": "stdout"
        }
      ]
    },
    {
      "cell_type": "code",
      "metadata": {
        "id": "UY4XaXsqllME",
        "colab_type": "code",
        "colab": {
          "base_uri": "https://localhost:8080/",
          "height": 51
        },
        "outputId": "2492497d-7bf1-426e-9ec8-3aebebd91f0a"
      },
      "source": [
        "# test_segment=None\n",
        "random_test_label=test_label[0]\n",
        "random_test_data=(test_data_v_stack[random_test_label]).reshape(1,224,224,1)\n",
        "print(\"Corresponding image shape:\", random_test_data.shape)\n",
        "test_embeds = embedding_model.predict(random_test_data)\n",
        "print(\"Shape of test template:{}\".format(test_embeds.shape))\n",
        "test_segment=test_embeds"
      ],
      "execution_count": 363,
      "outputs": [
        {
          "output_type": "stream",
          "text": [
            "Corresponding image shape: (1, 224, 224, 1)\n",
            "Shape of test template:(1, 150)\n"
          ],
          "name": "stdout"
        }
      ]
    },
    {
      "cell_type": "code",
      "metadata": {
        "id": "4xfrpidpqYQS",
        "colab_type": "code",
        "colab": {}
      },
      "source": [
        "def dissimilar_score(test_template, stored_templates):\n",
        "  minimum=None\n",
        "  test_template=np.array(test_template)\n",
        "  # print(type(test_template))\n",
        "  for template in stored_templates:\n",
        "    # print(np.var(template-test_template),2*(np.var(template)+np.var(test_template)))\n",
        "    distance=(np.var(template-test_template))/2*(np.var(template)+np.var(test_template))\n",
        "    if minimum==None:\n",
        "      minimum=distance\n",
        "    else:\n",
        "      minimum=min(distance, minimum)\n",
        "  return minimum"
      ],
      "execution_count": 0,
      "outputs": []
    },
    {
      "cell_type": "code",
      "metadata": {
        "id": "_4_Q60VHqcYs",
        "colab_type": "code",
        "colab": {}
      },
      "source": [
        "score=dissimilar_score(test_segment, k_template_value)"
      ],
      "execution_count": 0,
      "outputs": []
    },
    {
      "cell_type": "code",
      "metadata": {
        "id": "ackilWA8Efk0",
        "colab_type": "code",
        "colab": {
          "base_uri": "https://localhost:8080/",
          "height": 34
        },
        "outputId": "69eddce4-0ba5-400f-e7c8-b0b4cd97c349"
      },
      "source": [
        "threshold=5\n",
        "if score>threshold:\n",
        "  print(\"You are not authenticated with dissimarity score:{}\".format(score))\n",
        "else:\n",
        "  print(\"Authentication Successful! with dissimarity score:{}\".format(score))\n",
        "    "
      ],
      "execution_count": 367,
      "outputs": [
        {
          "output_type": "stream",
          "text": [
            "Authentication Successful! with dissimarity score:0.5607982885400133\n"
          ],
          "name": "stdout"
        }
      ]
    }
  ]
}