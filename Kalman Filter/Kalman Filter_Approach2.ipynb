{
 "cells": [
  {
   "cell_type": "code",
   "execution_count": 1,
   "metadata": {},
   "outputs": [],
   "source": [
    "import numpy as np\n",
    "%matplotlib inline\n",
    "import matplotlib.pyplot as plt\n",
    "from scipy.stats import norm"
   ]
  },
  {
   "cell_type": "markdown",
   "metadata": {},
   "source": [
    "##### Initial State: $x_0$"
   ]
  },
  {
   "cell_type": "code",
   "execution_count": 6,
   "metadata": {},
   "outputs": [
    {
     "name": "stdout",
     "output_type": "stream",
     "text": [
      "(matrix([[0.],\n",
      "        [0.],\n",
      "        [0.],\n",
      "        [0.]]), (4, 1))\n"
     ]
    }
   ],
   "source": [
    "x = np.matrix([[0.0, 0.0, 0.0, 0.0]]).T\n",
    "print(x, x.shape)"
   ]
  },
  {
   "cell_type": "markdown",
   "metadata": {},
   "source": [
    "#### Initial Uncertainty $P_0$"
   ]
  },
  {
   "cell_type": "code",
   "execution_count": 7,
   "metadata": {},
   "outputs": [
    {
     "name": "stdout",
     "output_type": "stream",
     "text": [
      "(array([[1000.,    0.,    0.,    0.],\n",
      "       [   0., 1000.,    0.,    0.],\n",
      "       [   0.,    0., 1000.,    0.],\n",
      "       [   0.,    0.,    0., 1000.]]), (4, 4))\n"
     ]
    }
   ],
   "source": [
    "P = np.diag([1000.0, 1000.0, 1000.0, 1000.0])\n",
    "print(P, P.shape)"
   ]
  },
  {
   "cell_type": "markdown",
   "metadata": {},
   "source": [
    "#### Dynamic Matrix $A$"
   ]
  },
  {
   "cell_type": "code",
   "execution_count": 8,
   "metadata": {},
   "outputs": [
    {
     "name": "stdout",
     "output_type": "stream",
     "text": [
      "(matrix([[1. , 0. , 0.1, 0. ],\n",
      "        [0. , 1. , 0. , 0.1],\n",
      "        [0. , 0. , 1. , 0. ],\n",
      "        [0. , 0. , 0. , 1. ]]), (4, 4))\n"
     ]
    }
   ],
   "source": [
    "dt = 0.1 # Time Step between Filter Steps\n",
    "\n",
    "A = np.matrix([[1.0, 0.0, dt, 0.0],\n",
    "              [0.0, 1.0, 0.0, dt],\n",
    "              [0.0, 0.0, 1.0, 0.0],\n",
    "              [0.0, 0.0, 0.0, 1.0]])\n",
    "print(A, A.shape)"
   ]
  },
  {
   "cell_type": "markdown",
   "metadata": {},
   "source": [
    "#### Measurement Matrix $H$"
   ]
  },
  {
   "cell_type": "code",
   "execution_count": 9,
   "metadata": {},
   "outputs": [
    {
     "name": "stdout",
     "output_type": "stream",
     "text": [
      "(matrix([[0., 0., 1., 0.],\n",
      "        [0., 0., 0., 1.]]), (2, 4))\n"
     ]
    }
   ],
   "source": [
    "H = np.matrix([[0.0, 0.0, 1.0, 0.0],\n",
    "              [0.0, 0.0, 0.0, 1.0]])\n",
    "print(H, H.shape)"
   ]
  },
  {
   "cell_type": "markdown",
   "metadata": {},
   "source": [
    "#### Measurement Noise Covariance $R$"
   ]
  },
  {
   "cell_type": "code",
   "execution_count": 10,
   "metadata": {},
   "outputs": [
    {
     "name": "stdout",
     "output_type": "stream",
     "text": [
      "(matrix([[100.,   0.],\n",
      "        [  0., 100.]]), (2, 2))\n"
     ]
    }
   ],
   "source": [
    "ra = 10.0**2\n",
    "\n",
    "R = np.matrix([[ra, 0.0],\n",
    "              [0.0, ra]])\n",
    "print(R, R.shape)"
   ]
  },
  {
   "cell_type": "markdown",
   "metadata": {},
   "source": [
    "#### Process Noise Covariance $Q$"
   ]
  },
  {
   "cell_type": "code",
   "execution_count": 11,
   "metadata": {},
   "outputs": [],
   "source": [
    "sv = 8.8\n",
    "\n",
    "G = np.matrix([[0.5*dt**2],\n",
    "               [0.5*dt**2],\n",
    "               [dt],\n",
    "               [dt]])\n",
    "\n",
    "Q = G*G.T*sv**2"
   ]
  },
  {
   "cell_type": "code",
   "execution_count": 12,
   "metadata": {},
   "outputs": [
    {
     "data": {
      "text/latex": [
       "$$\\left[\\begin{matrix}0.25 dt^{4} & 0.25 dt^{4} & 0.5 dt^{3} & 0.5 dt^{3}\\\\0.25 dt^{4} & 0.25 dt^{4} & 0.5 dt^{3} & 0.5 dt^{3}\\\\0.5 dt^{3} & 0.5 dt^{3} & dt^{2} & dt^{2}\\\\0.5 dt^{3} & 0.5 dt^{3} & dt^{2} & dt^{2}\\end{matrix}\\right]$$"
      ],
      "text/plain": [
       "⎡       4         4        3        3⎤\n",
       "⎢0.25⋅dt   0.25⋅dt   0.5⋅dt   0.5⋅dt ⎥\n",
       "⎢                                    ⎥\n",
       "⎢       4         4        3        3⎥\n",
       "⎢0.25⋅dt   0.25⋅dt   0.5⋅dt   0.5⋅dt ⎥\n",
       "⎢                                    ⎥\n",
       "⎢      3         3       2        2  ⎥\n",
       "⎢0.5⋅dt    0.5⋅dt      dt       dt   ⎥\n",
       "⎢                                    ⎥\n",
       "⎢      3         3       2        2  ⎥\n",
       "⎣0.5⋅dt    0.5⋅dt      dt       dt   ⎦"
      ]
     },
     "execution_count": 12,
     "metadata": {},
     "output_type": "execute_result"
    }
   ],
   "source": [
    "from sympy import Symbol, Matrix\n",
    "from sympy.interactive import printing\n",
    "printing.init_printing()\n",
    "dts = Symbol('dt')\n",
    "Qs = Matrix([[0.5*dts**2],[0.5*dts**2],[dts],[dts]])\n",
    "Qs*Qs.T"
   ]
  },
  {
   "cell_type": "markdown",
   "metadata": {},
   "source": [
    "#### Identity Matrix $I$"
   ]
  },
  {
   "cell_type": "code",
   "execution_count": 13,
   "metadata": {},
   "outputs": [
    {
     "name": "stdout",
     "output_type": "stream",
     "text": [
      "(array([[1., 0., 0., 0.],\n",
      "       [0., 1., 0., 0.],\n",
      "       [0., 0., 1., 0.],\n",
      "       [0., 0., 0., 1.]]), (4, 4))\n"
     ]
    }
   ],
   "source": [
    "I = np.eye(4)\n",
    "print(I, I.shape)"
   ]
  },
  {
   "cell_type": "code",
   "execution_count": 21,
   "metadata": {},
   "outputs": [],
   "source": [
    "# Preallocation for Plotting\n",
    "xt = []\n",
    "yt = []\n",
    "dxt= []\n",
    "dyt= []\n",
    "Zx = []\n",
    "Zy = []\n",
    "Px = []\n",
    "Py = []\n",
    "Pdx= []\n",
    "Pdy= []\n",
    "Rdx= []\n",
    "Rdy= []\n",
    "Kx = []\n",
    "Ky = []\n",
    "Kdx= []\n",
    "Kdy= []\n",
    "\n",
    "def savestates(x, Z, P, R, K):\n",
    "    xt.append(float(x[0]))\n",
    "    yt.append(float(x[1]))\n",
    "    dxt.append(float(x[2]))\n",
    "    dyt.append(float(x[3]))\n",
    "    Zx.append(float(Z[0]))\n",
    "    Zy.append(float(Z[1]))\n",
    "    Px.append(float(P[0,0]))\n",
    "    Py.append(float(P[1,1]))\n",
    "    Pdx.append(float(P[2,2]))\n",
    "    Pdy.append(float(P[3,3]))\n",
    "    Rdx.append(float(R[0,0]))\n",
    "    Rdy.append(float(R[1,1]))\n",
    "    Kx.append(float(K[0,0]))\n",
    "    Ky.append(float(K[1,0]))\n",
    "    Kdx.append(float(K[2,0]))\n",
    "    Kdy.append(float(K[3,0]))"
   ]
  },
  {
   "cell_type": "code",
   "execution_count": 23,
   "metadata": {},
   "outputs": [
    {
     "name": "stdout",
     "output_type": "stream",
     "text": [
      "[[1.74411302]]\n"
     ]
    }
   ],
   "source": []
  },
  {
   "cell_type": "markdown",
   "metadata": {},
   "source": [
    "#### Measurements"
   ]
  },
  {
   "cell_type": "code",
   "execution_count": 14,
   "metadata": {},
   "outputs": [
    {
     "name": "stdout",
     "output_type": "stream",
     "text": [
      "(2, 200)\n",
      "Standard Deviation of Acceleration Measurements=0.93\n",
      "You assumed 100.00 in R.\n"
     ]
    }
   ],
   "source": [
    "\n",
    "m = 200 # Measurements\n",
    "vx= 20 # in X\n",
    "vy= 10 # in Y\n",
    "\n",
    "mx = np.array(vx+np.random.randn(m))\n",
    "my = np.array(vy+np.random.randn(m))\n",
    "\n",
    "measurements = np.vstack((mx,my))\n",
    "\n",
    "print(measurements.shape)\n",
    "\n",
    "print('Standard Deviation of Acceleration Measurements=%.2f' % np.std(mx))\n",
    "print('You assumed %.2f in R.' % R[0,0])"
   ]
  },
  {
   "cell_type": "code",
   "execution_count": 25,
   "metadata": {},
   "outputs": [],
   "source": [
    "for n in range(len(measurements[0])):\n",
    "    # Time Update (Prediction)\n",
    "    # ========================\n",
    "    # Project the state ahead\n",
    "    x = A*x\n",
    "    \n",
    "    # Project the error covariance ahead\n",
    "    P = A*P*A.T + Q\n",
    "    \n",
    "    \n",
    "    # Measurement Update (Correction)\n",
    "    # ===============================\n",
    "    # Compute the Kalman Gain\n",
    "    S = H*P*H.T + R\n",
    "    K = (P*H.T) * np.linalg.pinv(S)\n",
    "\n",
    "    \n",
    "    # Update the estimate via z\n",
    "    Z = measurements[:,n].reshape(2,1)\n",
    "    y = Z - (H*x)                            # Innovation or Residual\n",
    "    x = x + (K*y)\n",
    "    \n",
    "    # Update the error covariance\n",
    "    P = (I - (K*H))*P\n",
    "    \n",
    "    \n",
    "    \n",
    "    # Save states (for Plotting)\n",
    "    savestates(x, Z, P, R, K)"
   ]
  },
  {
   "cell_type": "code",
   "execution_count": null,
   "metadata": {},
   "outputs": [],
   "source": []
  }
 ],
 "metadata": {
  "kernelspec": {
   "display_name": "Python 3",
   "language": "python",
   "name": "python3"
  },
  "language_info": {
   "codemirror_mode": {
    "name": "ipython",
    "version": 2
   },
   "file_extension": ".py",
   "mimetype": "text/x-python",
   "name": "python",
   "nbconvert_exporter": "python",
   "pygments_lexer": "ipython2",
   "version": "2.7.16"
  }
 },
 "nbformat": 4,
 "nbformat_minor": 2
}
