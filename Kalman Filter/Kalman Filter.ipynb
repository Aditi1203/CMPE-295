{
 "cells": [
  {
   "cell_type": "code",
   "execution_count": 77,
   "metadata": {},
   "outputs": [],
   "source": [
    "import numpy as np\n",
    "from numpy.linalg import inv"
   ]
  },
  {
   "cell_type": "code",
   "execution_count": 78,
   "metadata": {},
   "outputs": [],
   "source": [
    "x_observations = np.array([4000, 4260, 4550, 4860, 5110])\n",
    "v_observations = np.array([280, 282, 285, 286, 290])"
   ]
  },
  {
   "cell_type": "code",
   "execution_count": 79,
   "metadata": {},
   "outputs": [
    {
     "data": {
      "text/plain": [
       "array([[4000,  280],\n",
       "       [4260,  282],\n",
       "       [4550,  285],\n",
       "       [4860,  286],\n",
       "       [5110,  290]])"
      ]
     },
     "execution_count": 79,
     "metadata": {},
     "output_type": "execute_result"
    }
   ],
   "source": [
    "z = np.c_[x_observations, v_observations]\n",
    "z"
   ]
  },
  {
   "cell_type": "code",
   "execution_count": 80,
   "metadata": {},
   "outputs": [],
   "source": [
    "# Initial Conditions\n",
    "a = 2  # Acceleration\n",
    "v = 280\n",
    "t = 1  # Difference in time\n",
    "\n",
    "# Process / Estimation Errors\n",
    "error_est_x = 20\n",
    "error_est_v = 5\n",
    "\n",
    "# Observation or Measurement Errors\n",
    "error_obs_x = 25  # Uncertainty in the measurement\n",
    "error_obs_v = 6\n"
   ]
  },
  {
   "cell_type": "code",
   "execution_count": 81,
   "metadata": {},
   "outputs": [],
   "source": [
    "def prediction2d(x, v, t, a):\n",
    "    A = np.array([[1, t],\n",
    "                  [0, 1]])\n",
    "    X = np.array([[x],\n",
    "                  [v]])\n",
    "    B = np.array([[0.5 * t ** 2],\n",
    "                  [t]])\n",
    "    X_prime = A.dot(X) + B.dot(a)\n",
    "    return X_prime"
   ]
  },
  {
   "cell_type": "code",
   "execution_count": 82,
   "metadata": {},
   "outputs": [],
   "source": [
    "def covariance2d(sigma1, sigma2):\n",
    "    cov1_2 = sigma1 * sigma2\n",
    "    cov2_1 = sigma2 * sigma1\n",
    "    cov_matrix = np.array([[sigma1 ** 2, cov1_2],\n",
    "                           [cov2_1, sigma2 ** 2]])\n",
    "    return cov_matrix"
   ]
  },
  {
   "cell_type": "code",
   "execution_count": 83,
   "metadata": {},
   "outputs": [],
   "source": [
    "covariance_matrix = covariance2d(error_est_x, error_est_v)"
   ]
  },
  {
   "cell_type": "markdown",
   "metadata": {},
   "source": [
    "### P : Estimation Covariance matrix\n",
    "### A : State Transition Matrix"
   ]
  },
  {
   "cell_type": "markdown",
   "metadata": {},
   "source": [
    "#### P with error terms that correspond to the variance of the x position and x velocity, specific to the estimates."
   ]
  },
  {
   "cell_type": "code",
   "execution_count": 84,
   "metadata": {},
   "outputs": [
    {
     "data": {
      "text/plain": [
       "array([[400,   0],\n",
       "       [  0,  25]])"
      ]
     },
     "execution_count": 84,
     "metadata": {},
     "output_type": "execute_result"
    }
   ],
   "source": [
    "# Initial Estimation Covariance Matrix with zeroing off non-diagnols values\n",
    "P=np.diag(np.diag(covariance_matrix))\n",
    "P"
   ]
  },
  {
   "cell_type": "code",
   "execution_count": 85,
   "metadata": {},
   "outputs": [
    {
     "data": {
      "text/plain": [
       "array([[1, 1],\n",
       "       [0, 1]])"
      ]
     },
     "execution_count": 85,
     "metadata": {},
     "output_type": "execute_result"
    }
   ],
   "source": [
    "A = np.array([[1, t],\n",
    "              [0, 1]])\n",
    "A"
   ]
  },
  {
   "cell_type": "markdown",
   "metadata": {},
   "source": [
    "### Initial State Matrix : It contains the inital value of distance and velocity"
   ]
  },
  {
   "cell_type": "code",
   "execution_count": 86,
   "metadata": {},
   "outputs": [
    {
     "data": {
      "text/plain": [
       "array([[4000],\n",
       "       [ 280]])"
      ]
     },
     "execution_count": 86,
     "metadata": {},
     "output_type": "execute_result"
    }
   ],
   "source": [
    "X = np.array([[z[0][0]],\n",
    "              [v]])\n",
    "X"
   ]
  },
  {
   "cell_type": "code",
   "execution_count": 87,
   "metadata": {},
   "outputs": [
    {
     "data": {
      "text/plain": [
       "2"
      ]
     },
     "execution_count": 87,
     "metadata": {},
     "output_type": "execute_result"
    }
   ],
   "source": [
    "n = len(z[0])\n",
    "n"
   ]
  },
  {
   "cell_type": "code",
   "execution_count": 88,
   "metadata": {},
   "outputs": [
    {
     "name": "stdout",
     "output_type": "stream",
     "text": [
      "[4000  280]\n",
      "[4260  282]\n",
      "[4550  285]\n",
      "[4860  286]\n",
      "[5110  290]\n"
     ]
    }
   ],
   "source": [
    "for data in z[0:]:\n",
    "    print(data)"
   ]
  },
  {
   "cell_type": "code",
   "execution_count": 89,
   "metadata": {},
   "outputs": [
    {
     "data": {
      "text/plain": [
       "(4000, 280)"
      ]
     },
     "execution_count": 89,
     "metadata": {},
     "output_type": "execute_result"
    }
   ],
   "source": [
    "X[0][0], X[1][0]"
   ]
  },
  {
   "cell_type": "code",
   "execution_count": 93,
   "metadata": {},
   "outputs": [
    {
     "data": {
      "text/plain": [
       "array([[1., 0.],\n",
       "       [0., 1.]])"
      ]
     },
     "execution_count": 93,
     "metadata": {},
     "output_type": "execute_result"
    }
   ],
   "source": [
    "H = np.identity(n)\n",
    "H"
   ]
  },
  {
   "cell_type": "markdown",
   "metadata": {},
   "source": [
    "#### K: Kalman Gain\n",
    "#### P: Process Covariance Matrix\n",
    "#### Y: Matrix with measurement data"
   ]
  },
  {
   "cell_type": "code",
   "execution_count": 90,
   "metadata": {},
   "outputs": [
    {
     "name": "stdout",
     "output_type": "stream",
     "text": [
      "[[4267.89711191]\n",
      " [ 283.89530686]]\n",
      "[[4552.90991661]\n",
      " [ 285.69837999]]\n",
      "[[4856.53383383]\n",
      " [ 285.16812012]]\n",
      "[[5115.48736328]\n",
      " [ 291.31696719]]\n"
     ]
    }
   ],
   "source": [
    "for data in z[1:]:\n",
    "    X = prediction2d(X[0][0], X[1][0], t, a)\n",
    "    P = np.diag(np.diag(A.dot(P).dot(A.T)))\n",
    "    H = np.identity(n)\n",
    "    R = covariance2d(error_obs_x, error_obs_v)\n",
    "    S = H.dot(P).dot(H.T) + R\n",
    "    K = P.dot(H).dot(inv(S))\n",
    "#     print(K)\n",
    "    Y = H.dot(data).reshape(n, -1)\n",
    "    X = X + K.dot(Y - H.dot(X))\n",
    "    print(X)\n",
    "    P = (np.identity(len(K)) - K.dot(H)).dot(P)"
   ]
  },
  {
   "cell_type": "code",
   "execution_count": 92,
   "metadata": {},
   "outputs": [
    {
     "name": "stdout",
     "output_type": "stream",
     "text": [
      "('Kalman Filter State Matrix:\\n', array([[5701.95695768],\n",
      "       [ 432.06966984]]))\n"
     ]
    }
   ],
   "source": [
    "\n",
    "for data in z[1:]:\n",
    "    X = prediction2d(X[0][0], X[1][0], t, a)\n",
    "    # To simplify the problem, set off-diagonal terms to 0.\n",
    "    P = np.diag(np.diag(A.dot(P).dot(A.T)))\n",
    "\n",
    "    # Calculating the Kalman Gain\n",
    "    H = np.identity(n)\n",
    "    R = covariance2d(error_obs_x, error_obs_v)\n",
    "    S = H.dot(P).dot(H.T) + R\n",
    "    K = P.dot(H).dot(inv(S))\n",
    "\n",
    "    # Reshape the new data into the measurement space.\n",
    "    Y = H.dot(data).reshape(n, -1)\n",
    "\n",
    "    # Update the State Matrix\n",
    "    # Combination of the predicted state, measured values, covariance matrix and Kalman Gain\n",
    "    X = X + K.dot(Y - H.dot(X))\n",
    "\n",
    "    # Update Process Covariance Matrix\n",
    "    P = (np.identity(len(K)) - K.dot(H)).dot(P)\n",
    "\n",
    "print(\"Kalman Filter State Matrix:\\n\", X)\n",
    " "
   ]
  },
  {
   "cell_type": "code",
   "execution_count": null,
   "metadata": {},
   "outputs": [],
   "source": []
  },
  {
   "cell_type": "code",
   "execution_count": null,
   "metadata": {},
   "outputs": [],
   "source": []
  }
 ],
 "metadata": {
  "kernelspec": {
   "display_name": "Python 3",
   "language": "python",
   "name": "python3"
  },
  "language_info": {
   "codemirror_mode": {
    "name": "ipython",
    "version": 2
   },
   "file_extension": ".py",
   "mimetype": "text/x-python",
   "name": "python",
   "nbconvert_exporter": "python",
   "pygments_lexer": "ipython2",
   "version": "2.7.16"
  }
 },
 "nbformat": 4,
 "nbformat_minor": 2
}
