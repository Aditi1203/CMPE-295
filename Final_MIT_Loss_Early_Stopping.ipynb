{
  "nbformat": 4,
  "nbformat_minor": 0,
  "metadata": {
    "colab": {
      "name": "Copy of MIT_Loss_Early_Stopping.ipynb",
      "provenance": [],
      "collapsed_sections": [],
      "toc_visible": true,
      "machine_shape": "hm",
      "authorship_tag": "ABX9TyOnrCj0gOxfPKXnM99BMoQ7",
      "include_colab_link": true
    },
    "kernelspec": {
      "name": "python3",
      "display_name": "Python 3"
    },
    "accelerator": "GPU"
  },
  "cells": [
    {
      "cell_type": "markdown",
      "metadata": {
        "id": "view-in-github",
        "colab_type": "text"
      },
      "source": [
        "<a href=\"https://colab.research.google.com/github/Aditi1203/CMPE-295/blob/master/Final_MIT_Loss_Early_Stopping.ipynb\" target=\"_parent\"><img src=\"https://colab.research.google.com/assets/colab-badge.svg\" alt=\"Open In Colab\"/></a>"
      ]
    },
    {
      "cell_type": "code",
      "metadata": {
        "id": "pkVtdH4wdPRk",
        "colab_type": "code",
        "outputId": "2e3c4233-3fd4-4bf4-d851-598e49d8c6fa",
        "colab": {
          "base_uri": "https://localhost:8080/",
          "height": 153
        }
      },
      "source": [
        "!git clone https://github.com/Aditi1203/CMPE-295.git"
      ],
      "execution_count": 1,
      "outputs": [
        {
          "output_type": "stream",
          "text": [
            "Cloning into 'CMPE-295'...\n",
            "remote: Enumerating objects: 6, done.\u001b[K\n",
            "remote: Counting objects: 100% (6/6), done.\u001b[K\n",
            "remote: Compressing objects: 100% (6/6), done.\u001b[K\n",
            "remote: Total 1152138 (delta 2), reused 0 (delta 0), pack-reused 1152132\u001b[K\n",
            "Receiving objects: 100% (1152138/1152138), 3.34 GiB | 14.95 MiB/s, done.\n",
            "Resolving deltas: 100% (220402/220402), done.\n",
            "Checking out files: 100% (738053/738053), done.\n"
          ],
          "name": "stdout"
        }
      ]
    },
    {
      "cell_type": "code",
      "metadata": {
        "id": "iPU-ZJmNd1q6",
        "colab_type": "code",
        "outputId": "f8fa1246-99c4-413c-d3dc-033b43e1a0eb",
        "colab": {
          "base_uri": "https://localhost:8080/",
          "height": 34
        }
      },
      "source": [
        "cd CMPE-295/anand_sandbox/"
      ],
      "execution_count": 2,
      "outputs": [
        {
          "output_type": "stream",
          "text": [
            "/content/CMPE-295/anand_sandbox\n"
          ],
          "name": "stdout"
        }
      ]
    },
    {
      "cell_type": "code",
      "metadata": {
        "id": "8DNYA8d0d30G",
        "colab_type": "code",
        "colab": {
          "base_uri": "https://localhost:8080/",
          "height": 34
        },
        "outputId": "09d72d4e-7d8e-4583-cf01-9bc738541e9b"
      },
      "source": [
        "import pandas as pd\n",
        "import numpy as np\n",
        "import cv2\n",
        "import os\n",
        "import imutils\n",
        "import random\n",
        "# from keras.applications import VGG19, VGG16\n",
        "# from keras.applications.vgg19 import preprocess_input\n",
        "# from keras.applications.vgg16 import preprocess_input\n",
        "from itertools import permutations\n",
        "from keras.optimizers import SGD,Adam\n",
        "from PIL import Image\n",
        "import keras\n",
        "from keras import backend as K\n",
        "from keras import Sequential, losses, optimizers, Input, optimizers\n",
        "from keras.layers import Input, Conv2D, Lambda, Dense, Flatten,MaxPooling2D, concatenate\n",
        "from keras.models import Model, Sequential\n",
        "from keras.layers import Flatten, Lambda, Dense, Conv2D, MaxPool2D, Average, Dropout, Activation\n",
        "from keras.utils import to_categorical, plot_model,vis_utils\n",
        "from sklearn.preprocessing import LabelEncoder\n",
        "from sklearn.model_selection import train_test_split\n",
        "from keras.callbacks import TensorBoard, EarlyStopping\n",
        "from keras.preprocessing.image import img_to_array\n",
        "from itertools import chain \n",
        "from skimage import io\n",
        "import imutils\n",
        "import matplotlib.pyplot as plt\n",
        "import matplotlib.image as mpimg\n",
        "import glob\n",
        "import pywt\n",
        "from scipy import signal\n",
        "from scipy.spatial import distance"
      ],
      "execution_count": 3,
      "outputs": [
        {
          "output_type": "stream",
          "text": [
            "Using TensorFlow backend.\n"
          ],
          "name": "stderr"
        }
      ]
    },
    {
      "cell_type": "code",
      "metadata": {
        "id": "-AEt03LMd61k",
        "colab_type": "code",
        "colab": {}
      },
      "source": [
        "def load_data(number_of_items=3):\n",
        "    \"\"\"\n",
        "        number_of_items -> Number of items to return\n",
        "        returns the data in a dictionary of images and labels.\n",
        "    \"\"\"\n",
        "    path = \"scalogram_module/Scalogram\"\n",
        "    path1= \"scalogram_module/Scalogram/Cropped\"\n",
        "    data = [] \n",
        "    curated_data = {\"label\":[], \"scalogram\":[]}\n",
        "    for subject_name in os.listdir(path)[:number_of_items]:\n",
        "        if subject_name == \".DS_Store\":\n",
        "            number_of_items=number_of_items+1\n",
        "            continue\n",
        "        if subject_name  ==\".ipynb_checkpoints\":\n",
        "            number_of_items=number_of_items+1\n",
        "            continue\n",
        "        print (\"Going through subject:\" + subject_name)\n",
        "        base=os.path.basename(path+\"/\"+subject_name)\n",
        "        labelData=os.path.splitext(base)[0]\n",
        "        print(labelData)\n",
        "        i=0\n",
        "        for items in os.listdir(path+\"/\"+subject_name):\n",
        "            if items == \".DS_Store\":\n",
        "                continue\n",
        "            if items.endswith(\".png\"):\n",
        "                try:\n",
        "                    im2 = cv2.imread(path+\"/\"+subject_name+\"/\"+items)\n",
        "                    crop_img = im2[30:20+235, 50:50+342]\n",
        "                    im = cv2.resize(crop_img, (224,224)) # Changing into 80x80X3\n",
        "                    im = cv2.cvtColor(im, cv2.COLOR_BGR2GRAY)\n",
        "                    curated_data['scalogram'].append(im)\n",
        "                    curated_data['label'].append(labelData)\n",
        "                except:\n",
        "                      df = None  \n",
        "\n",
        "    return curated_data"
      ],
      "execution_count": 0,
      "outputs": []
    },
    {
      "cell_type": "markdown",
      "metadata": {
        "id": "-ZexTBV8_V2a",
        "colab_type": "text"
      },
      "source": [
        "## **Data Loading & Pre-processing**"
      ]
    },
    {
      "cell_type": "code",
      "metadata": {
        "id": "bvJtEJdsd7lk",
        "colab_type": "code",
        "outputId": "9c7886d5-811e-4c3c-cf33-91389139d3b6",
        "colab": {
          "base_uri": "https://localhost:8080/",
          "height": 1000
        }
      },
      "source": [
        "data = load_data(number_of_items=50)"
      ],
      "execution_count": 5,
      "outputs": [
        {
          "output_type": "stream",
          "text": [
            "Going through subject:person_207\n",
            "person_207\n",
            "Going through subject:person_111\n",
            "person_111\n",
            "Going through subject:person_228\n",
            "person_228\n",
            "Going through subject:person_223\n",
            "person_223\n",
            "Going through subject:person_213\n",
            "person_213\n",
            "Going through subject:person_214\n",
            "person_214\n",
            "Going through subject:person_109\n",
            "person_109\n",
            "Going through subject:person_212\n",
            "person_212\n",
            "Going through subject:person_208\n",
            "person_208\n",
            "Going through subject:person_202\n",
            "person_202\n",
            "Going through subject:person_219\n",
            "person_219\n",
            "Going through subject:person_230\n",
            "person_230\n",
            "Going through subject:person_100\n",
            "person_100\n",
            "Going through subject:person_106\n",
            "person_106\n",
            "Going through subject:person_102\n",
            "person_102\n",
            "Going through subject:person_123\n",
            "person_123\n",
            "Going through subject:person_118\n",
            "person_118\n",
            "Going through subject:person_103\n",
            "person_103\n",
            "Going through subject:person_222\n",
            "person_222\n",
            "Going through subject:person_232\n",
            "person_232\n",
            "Going through subject:person_221\n",
            "person_221\n",
            "Going through subject:person_209\n",
            "person_209\n",
            "Going through subject:person_201\n",
            "person_201\n",
            "Going through subject:person_220\n",
            "person_220\n",
            "Going through subject:person_205\n",
            "person_205\n",
            "Going through subject:person_124\n",
            "person_124\n",
            "Going through subject:person_200\n",
            "person_200\n",
            "Going through subject:person_117\n",
            "person_117\n",
            "Going through subject:person_104\n",
            "person_104\n",
            "Going through subject:person_113\n",
            "person_113\n",
            "Going through subject:person_107\n",
            "person_107\n",
            "Going through subject:person_122\n",
            "person_122\n",
            "Going through subject:person_210\n",
            "person_210\n",
            "Going through subject:person_233\n",
            "person_233\n",
            "Going through subject:person_114\n",
            "person_114\n",
            "Going through subject:person_116\n",
            "person_116\n",
            "Going through subject:person_101\n",
            "person_101\n",
            "Going through subject:person_121\n",
            "person_121\n",
            "Going through subject:person_234\n",
            "person_234\n",
            "Going through subject:person_105\n",
            "person_105\n",
            "Going through subject:person_231\n",
            "person_231\n",
            "Going through subject:person_115\n",
            "person_115\n",
            "Going through subject:person_217\n",
            "person_217\n",
            "Going through subject:person_119\n",
            "person_119\n",
            "Going through subject:person_203\n",
            "person_203\n",
            "Going through subject:person_215\n",
            "person_215\n",
            "Going through subject:person_112\n",
            "person_112\n",
            "Going through subject:person_108\n",
            "person_108\n"
          ],
          "name": "stdout"
        }
      ]
    },
    {
      "cell_type": "code",
      "metadata": {
        "id": "UOEIBVpgd_Eo",
        "colab_type": "code",
        "outputId": "5948eb25-58ca-42b1-c081-a487e51e09e8",
        "colab": {
          "base_uri": "https://localhost:8080/",
          "height": 51
        }
      },
      "source": [
        "print(data['scalogram'][0].shape)\n",
        "print(len(data['scalogram']))"
      ],
      "execution_count": 6,
      "outputs": [
        {
          "output_type": "stream",
          "text": [
            "(224, 224)\n",
            "50605\n"
          ],
          "name": "stdout"
        }
      ]
    },
    {
      "cell_type": "code",
      "metadata": {
        "id": "bojNPXYid_uI",
        "colab_type": "code",
        "outputId": "e1857236-f86b-42a8-e032-067237ac9938",
        "colab": {
          "base_uri": "https://localhost:8080/",
          "height": 34
        }
      },
      "source": [
        "len(data['label'])"
      ],
      "execution_count": 7,
      "outputs": [
        {
          "output_type": "execute_result",
          "data": {
            "text/plain": [
              "50605"
            ]
          },
          "metadata": {
            "tags": []
          },
          "execution_count": 7
        }
      ]
    },
    {
      "cell_type": "code",
      "metadata": {
        "id": "S6SEMIvXeBma",
        "colab_type": "code",
        "outputId": "01eee2c3-b9d8-4767-9dcf-3124158344e3",
        "colab": {
          "base_uri": "https://localhost:8080/",
          "height": 51
        }
      },
      "source": [
        "data_array=np.array(data['scalogram'])\n",
        "labels=np.array(data['label'])\n",
        "print(\"Data shape:{}\".format(data_array.shape))\n",
        "print(\"Labels shape:{}\".format(labels.shape))"
      ],
      "execution_count": 7,
      "outputs": [
        {
          "output_type": "stream",
          "text": [
            "Data shape:(50605, 224, 224)\n",
            "Labels shape:(50605,)\n"
          ],
          "name": "stdout"
        }
      ]
    },
    {
      "cell_type": "code",
      "metadata": {
        "id": "apyktblzeD6g",
        "colab_type": "code",
        "colab": {}
      },
      "source": [
        "# data_array = data_array / 255.0"
      ],
      "execution_count": 0,
      "outputs": []
    },
    {
      "cell_type": "code",
      "metadata": {
        "id": "vBjeqmf-eGQi",
        "colab_type": "code",
        "outputId": "1bb78030-773e-44c4-c713-b374484958c9",
        "colab": {
          "base_uri": "https://localhost:8080/",
          "height": 34
        }
      },
      "source": [
        "encoder = LabelEncoder()\n",
        "encoder.fit(labels)\n",
        "labels = encoder.transform(labels)\n",
        "print(\"Encoded Labels shape:{} value:{}\".format(labels.shape,labels))"
      ],
      "execution_count": 8,
      "outputs": [
        {
          "output_type": "stream",
          "text": [
            "Encoded Labels shape:(50605,) value:[28 28 28 ...  8  8  8]\n"
          ],
          "name": "stdout"
        }
      ]
    },
    {
      "cell_type": "code",
      "metadata": {
        "id": "WBQFrfsReGYC",
        "colab_type": "code",
        "outputId": "b376b694-c73a-4c00-ca7f-aaaa1d9e7539",
        "colab": {
          "base_uri": "https://localhost:8080/",
          "height": 54
        }
      },
      "source": [
        "unique_labels=set(labels)\n",
        "print(unique_labels)"
      ],
      "execution_count": 9,
      "outputs": [
        {
          "output_type": "stream",
          "text": [
            "{0, 1, 2, 3, 4, 5, 6, 7, 8, 9, 10, 11, 12, 13, 14, 15, 16, 17, 18, 19, 20, 21, 22, 23, 24, 25, 26, 27, 28, 29, 30, 31, 32, 33, 34, 35, 36, 37, 38, 39, 40, 41, 42, 43, 44, 45, 46, 47}\n"
          ],
          "name": "stdout"
        }
      ]
    },
    {
      "cell_type": "code",
      "metadata": {
        "id": "TaEPJZvneGcP",
        "colab_type": "code",
        "colab": {}
      },
      "source": [
        "x_train, x_test, y_train,  y_test=train_test_split(data_array, labels, test_size=0.2, random_state=2)\n"
      ],
      "execution_count": 0,
      "outputs": []
    },
    {
      "cell_type": "code",
      "metadata": {
        "id": "e7LYZ-Te8ZwE",
        "colab_type": "code",
        "outputId": "dbe8f506-38ee-4c73-8ddb-18a235bd06dc",
        "colab": {
          "base_uri": "https://localhost:8080/",
          "height": 102
        }
      },
      "source": [
        "print(\"Shapes:\")\n",
        "print(\"Train Data:{}\".format(x_train.shape))\n",
        "print(\"Train Label:{}\".format(y_train.shape))\n",
        "print(\"Test Data:{}\".format(x_test.shape))\n",
        "print(\"Test Label:{}\".format(y_test.shape))"
      ],
      "execution_count": 11,
      "outputs": [
        {
          "output_type": "stream",
          "text": [
            "Shapes:\n",
            "Train Data:(40484, 224, 224)\n",
            "Train Label:(40484,)\n",
            "Test Data:(10121, 224, 224)\n",
            "Test Label:(10121,)\n"
          ],
          "name": "stdout"
        }
      ]
    },
    {
      "cell_type": "code",
      "metadata": {
        "id": "FbtW2luheMPw",
        "colab_type": "code",
        "outputId": "b5c1e209-b354-4a53-91e8-dc76d1b481fa",
        "colab": {
          "base_uri": "https://localhost:8080/",
          "height": 34
        }
      },
      "source": [
        "x_train_master = np.expand_dims(x_train, 3)\n",
        "x_test_master = np.expand_dims(x_test, 3)\n",
        "print(x_train.shape, x_test.shape)"
      ],
      "execution_count": 12,
      "outputs": [
        {
          "output_type": "stream",
          "text": [
            "(40484, 224, 224) (10121, 224, 224)\n"
          ],
          "name": "stdout"
        }
      ]
    },
    {
      "cell_type": "code",
      "metadata": {
        "id": "_TdtdFjgeMS4",
        "colab_type": "code",
        "outputId": "bce9d32e-918b-4ab3-a446-033d468de5af",
        "colab": {
          "base_uri": "https://localhost:8080/",
          "height": 34
        }
      },
      "source": [
        "y_train_master = y_train.flatten()\n",
        "y_test_master = y_test.flatten()\n",
        "print(y_train_master.shape,y_test_master.shape)"
      ],
      "execution_count": 13,
      "outputs": [
        {
          "output_type": "stream",
          "text": [
            "(40484,) (10121,)\n"
          ],
          "name": "stdout"
        }
      ]
    },
    {
      "cell_type": "code",
      "metadata": {
        "id": "1uN-lHG5eMYD",
        "colab_type": "code",
        "outputId": "ff046707-0125-428b-9a87-dd40d79e0db9",
        "colab": {
          "base_uri": "https://localhost:8080/",
          "height": 34
        }
      },
      "source": [
        "shape=x_train.shape\n",
        "dim_x = shape[1]\n",
        "dim_y = shape[2]\n",
        "print(\"Dimension of Scalogram Image: {}*{}\".format(dim_x,dim_y ))"
      ],
      "execution_count": 14,
      "outputs": [
        {
          "output_type": "stream",
          "text": [
            "Dimension of Scalogram Image: 224*224\n"
          ],
          "name": "stdout"
        }
      ]
    },
    {
      "cell_type": "markdown",
      "metadata": {
        "id": "St88tVAv-Q3Z",
        "colab_type": "text"
      },
      "source": [
        "## **Triplets Generation & Visualization**"
      ]
    },
    {
      "cell_type": "code",
      "metadata": {
        "id": "2qH2-0WoeMWG",
        "colab_type": "code",
        "colab": {}
      },
      "source": [
        "def generate_triplets(dataset, label, sample_per_class=20):\n",
        "    x, y = None, None\n",
        "    for i in set(label):\n",
        "        pos_indices = np.argwhere(label == i)[:,0]\n",
        "        neg_indices = np.argwhere(label != i)[:,0]\n",
        "\n",
        "        # print(\"pos indices: {}, neg_indices: {}\".format(pos_indices.shape, neg_indices.shape))\n",
        "        choice_anchor = np.random.choice(pos_indices.shape[0], sample_per_class, replace=True)\n",
        "        choice_anchor = pos_indices[choice_anchor]\n",
        "\n",
        "        choice_pos = np.random.choice(pos_indices.shape[0], sample_per_class, replace=True)\n",
        "        choice_pos = pos_indices[choice_pos]\n",
        "\n",
        "        choice_neg = np.random.choice(neg_indices.shape[0], sample_per_class, replace=True)\n",
        "        choice_neg = neg_indices[choice_neg]\n",
        "\n",
        "        sub_x_anc = dataset[choice_anchor]\n",
        "\n",
        "        sub_x_pos = dataset[choice_pos]\n",
        "\n",
        "        sub_x_neg = dataset[choice_neg]\n",
        "\n",
        "\n",
        "        if(x is None):\n",
        "            x = [(sub_x_anc), (sub_x_pos), (sub_x_neg)]\n",
        "            y = [label[choice_anchor], label[choice_pos], label[choice_neg]]\n",
        "        else:\n",
        "            x[0] = np.vstack((x[0], (sub_x_anc)))\n",
        "            x[1] = np.vstack((x[1], (sub_x_pos)))\n",
        "            x[2] = np.vstack((x[2], (sub_x_neg)))\n",
        "\n",
        "            y[0] = np.hstack((y[0].flatten(), label[choice_anchor].flatten()))\n",
        "            y[1] = np.hstack((y[1].flatten(), label[choice_pos].flatten()))\n",
        "            y[2] = np.hstack((y[2].flatten(), label[choice_neg].flatten()))\n",
        "\n",
        "    return x, y"
      ],
      "execution_count": 0,
      "outputs": []
    },
    {
      "cell_type": "code",
      "metadata": {
        "id": "iGPcD7t1ekAL",
        "colab_type": "code",
        "colab": {}
      },
      "source": [
        "num=500\n",
        "num_train_per_class=int(num*.80)\n",
        "num_test_per_class=int(num*.20)"
      ],
      "execution_count": 0,
      "outputs": []
    },
    {
      "cell_type": "code",
      "metadata": {
        "id": "L7RpJRJTekIH",
        "colab_type": "code",
        "colab": {}
      },
      "source": [
        "train_x, train_y = generate_triplets(x_train_master, y_train_master, num_train_per_class)"
      ],
      "execution_count": 0,
      "outputs": []
    },
    {
      "cell_type": "code",
      "metadata": {
        "id": "QUzCEb2sekX8",
        "colab_type": "code",
        "colab": {}
      },
      "source": [
        "test_x, test_y = generate_triplets(x_test_master, y_test_master,num_test_per_class)"
      ],
      "execution_count": 0,
      "outputs": []
    },
    {
      "cell_type": "code",
      "metadata": {
        "id": "pSmTbGy3ekGy",
        "colab_type": "code",
        "outputId": "fb7e5d8d-e3e9-49df-9fd6-3ba0928bcc00",
        "colab": {
          "base_uri": "https://localhost:8080/",
          "height": 85
        }
      },
      "source": [
        "print(\"Length of generated triplet for Train Data:{},{}\".format(len(train_x),train_x[0].shape))\n",
        "print(\"Length of generated triplet for Test Data:\", len(test_x),test_x[0].shape)\n",
        "print(\"Length of generated triplet for Train Label:{},{}\".format(len(train_y),train_y[0].shape))\n",
        "print(\"Length of generated triplet for Test Label:\", len(test_y),test_y[0].shape)"
      ],
      "execution_count": 283,
      "outputs": [
        {
          "output_type": "stream",
          "text": [
            "Length of generated triplet for Train Data:3,(19200, 224, 224, 1)\n",
            "Length of generated triplet for Test Data: 3 (4800, 224, 224, 1)\n",
            "Length of generated triplet for Train Label:3,(19200,)\n",
            "Length of generated triplet for Test Label: 3 (4800,)\n"
          ],
          "name": "stdout"
        }
      ]
    },
    {
      "cell_type": "code",
      "metadata": {
        "id": "RkAA0Qk_ej2b",
        "colab_type": "code",
        "colab": {}
      },
      "source": [
        "def visualize_data(data, n):\n",
        "    n = min(len(data[0]), n)\n",
        "    random_choices = np.random.choice(len(data[0]),n, replace=False)\n",
        "    fig, ax = plt.subplots(n, 3,figsize=(10,40))\n",
        "    anc, pos, neg = data\n",
        "    for i,ch in enumerate(random_choices):\n",
        "        ax[i, 0].imshow(np.squeeze(anc[ch] ))\n",
        "        ax[i, 1].imshow(np.squeeze(pos[ch] ))\n",
        "        ax[i, 2].imshow(np.squeeze(neg[ch] ))\n",
        "\n",
        "\n",
        "        ax[i, 0].set_axis_off()\n",
        "        ax[i, 1].set_axis_off()\n",
        "        ax[i, 2].set_axis_off()"
      ],
      "execution_count": 0,
      "outputs": []
    },
    {
      "cell_type": "code",
      "metadata": {
        "id": "LbfwUhniej7J",
        "colab_type": "code",
        "colab": {}
      },
      "source": [
        "visualize_data(train_x, 10)"
      ],
      "execution_count": 0,
      "outputs": []
    },
    {
      "cell_type": "markdown",
      "metadata": {
        "id": "hq6RkvEM-jMt",
        "colab_type": "text"
      },
      "source": [
        "## **Cost Function: Triplet-Loss**"
      ]
    },
    {
      "cell_type": "code",
      "metadata": {
        "id": "2UUZUyl_ekE2",
        "colab_type": "code",
        "colab": {}
      },
      "source": [
        "def triplet_loss(inputs, dist='euclidean', margin='maxplus'):\n",
        "    print(\"loss calculation\")\n",
        "    alpha=0.70\n",
        "    anchor, positive, negative = inputs\n",
        "    positive_distance = K.square(anchor - positive)\n",
        "    negative_distance = K.square(anchor - negative)\n",
        "    if dist == 'euclidean':\n",
        "        positive_distance = K.sqrt(K.sum(positive_distance, axis=-1, keepdims=True))\n",
        "        negative_distance = K.sqrt(K.sum(negative_distance, axis=-1, keepdims=True))\n",
        "    elif dist == 'sqeuclidean':\n",
        "        positive_distance = K.sum(positive_distance, axis=-1, keepdims=True)\n",
        "        negative_distance = K.sum(negative_distance, axis=-1, keepdims=True)\n",
        "    loss = positive_distance - negative_distance\n",
        "    if margin == 'maxplus':\n",
        "        loss = K.maximum(0.0, alpha + loss)\n",
        "    elif margin == 'softplus':\n",
        "        loss = K.log(1 + K.exp(loss))\n",
        "    return K.mean(loss)"
      ],
      "execution_count": 0,
      "outputs": []
    },
    {
      "cell_type": "markdown",
      "metadata": {
        "id": "Kd5kZK6ISEH9",
        "colab_type": "text"
      },
      "source": [
        "## **Models for authentication**"
      ]
    },
    {
      "cell_type": "code",
      "metadata": {
        "id": "k_Ic2-xPej-7",
        "colab_type": "code",
        "colab": {}
      },
      "source": [
        "def our_model(in_dims):\n",
        "   model = Sequential()\n",
        "   model.add(Conv2D(64, kernel_size=5, input_shape=(in_dims[0],in_dims[1],in_dims[2],), activation=\"relu\"))\n",
        "   model.add(MaxPool2D(pool_size=(2, 2)))\n",
        "  #  model.add(Dropout(0.25))\n",
        "   model.add(Conv2D(64, kernel_size=5, activation=\"relu\"))\n",
        "   model.add(MaxPool2D(pool_size=(2, 2)))\n",
        "   model.add(Conv2D(128, kernel_size=5, activation=\"relu\"))\n",
        "   model.add(MaxPool2D(pool_size=(2, 2)))\n",
        "   model.add(Conv2D(128, kernel_size=5, activation=\"relu\"))\n",
        "   model.add(MaxPool2D(pool_size=(2, 2)))\n",
        "   model.add(Dropout(0.30)) \n",
        "   return model"
      ],
      "execution_count": 0,
      "outputs": []
    },
    {
      "cell_type": "code",
      "metadata": {
        "id": "oYKWIWKLej5N",
        "colab_type": "code",
        "colab": {}
      },
      "source": [
        "from keras.models import load_model\n",
        "\n",
        "def create_base_network(in_dims, embedding_dim):\n",
        "\n",
        "    _input = Input(shape=in_dims)\n",
        "    our_model_object=our_model(in_dims)\n",
        "    output_ourModel = our_model_object(_input)\n",
        "\n",
        "    x = Flatten()(output_ourModel)\n",
        "    x = Dense(embedding_dim * 4,activation=\"relu\")(x)\n",
        "    x = Dense(embedding_dim * 2, activation='relu')(x)\n",
        "    x = Dense(embedding_dim)(x)\n",
        "    \n",
        "    return Model(_input, x)"
      ],
      "execution_count": 0,
      "outputs": []
    },
    {
      "cell_type": "code",
      "metadata": {
        "id": "YOOxoPQjej1d",
        "colab_type": "code",
        "colab": {}
      },
      "source": [
        "def network_model(input_shape, triplet_margin=.3, embedding_dim=50):\n",
        "\n",
        "  anchor_input = Input((dim_x,dim_y,1, ), name='anchor_input')\n",
        "  positive_input = Input((dim_x,dim_y,1, ), name='positive_input')\n",
        "  negative_input = Input((dim_x,dim_y,1, ), name='negative_input')\n",
        "\n",
        "  Shared_DNN=create_base_network(input_shape, embedding_dim)\n",
        "  \n",
        "  encoded_anchor = Shared_DNN(anchor_input)\n",
        "  encoded_positive = Shared_DNN(positive_input)\n",
        "  encoded_negative = Shared_DNN(negative_input)\n",
        "\n",
        "  inputs=[anchor_input, positive_input, negative_input]\n",
        "  outputs=[encoded_anchor, encoded_positive, encoded_negative]\n",
        "\n",
        "  triplet=Model(inputs=inputs, outputs=outputs)\n",
        "  triplet.add_loss((triplet_loss(outputs, dist='euclidean', margin='maxplus'))) \n",
        "\n",
        "  return Shared_DNN, triplet\n",
        "\n"
      ],
      "execution_count": 0,
      "outputs": []
    },
    {
      "cell_type": "code",
      "metadata": {
        "id": "xMwp_D0Vejvp",
        "colab_type": "code",
        "outputId": "f12870d2-e421-40c5-ecd7-40ee9ecdc53b",
        "colab": {
          "base_uri": "https://localhost:8080/",
          "height": 34
        }
      },
      "source": [
        "#print(dim_x)\n",
        "Shared_DNN, triplet= network_model((dim_x,dim_y,1), triplet_margin=.3, embedding_dim=150)"
      ],
      "execution_count": 477,
      "outputs": [
        {
          "output_type": "stream",
          "text": [
            "loss calculation\n"
          ],
          "name": "stdout"
        }
      ]
    },
    {
      "cell_type": "code",
      "metadata": {
        "id": "yC73qpFkfAvI",
        "colab_type": "code",
        "outputId": "b96fc7eb-1048-4a79-967c-781edbc422bc",
        "colab": {
          "base_uri": "https://localhost:8080/",
          "height": 377
        }
      },
      "source": [
        "#model.compile(loss=keras.losses.categorical_crossentropy, optimizer=optimizers.RMSprop(),metrics=['accuracy'])\n",
        "triplet.compile(loss=None, optimizer=optimizers.RMSprop(lr=0.0001))\n",
        "triplet.summary()\n",
        "# Adam(0.0001)"
      ],
      "execution_count": 478,
      "outputs": [
        {
          "output_type": "stream",
          "text": [
            "Model: \"model_20\"\n",
            "__________________________________________________________________________________________________\n",
            "Layer (type)                    Output Shape         Param #     Connected to                     \n",
            "==================================================================================================\n",
            "anchor_input (InputLayer)       (None, 224, 224, 1)  0                                            \n",
            "__________________________________________________________________________________________________\n",
            "positive_input (InputLayer)     (None, 224, 224, 1)  0                                            \n",
            "__________________________________________________________________________________________________\n",
            "negative_input (InputLayer)     (None, 224, 224, 1)  0                                            \n",
            "__________________________________________________________________________________________________\n",
            "model_19 (Model)                (None, 150)          8624834     anchor_input[0][0]               \n",
            "                                                                 positive_input[0][0]             \n",
            "                                                                 negative_input[0][0]             \n",
            "==================================================================================================\n",
            "Total params: 8,624,834\n",
            "Trainable params: 8,624,834\n",
            "Non-trainable params: 0\n",
            "__________________________________________________________________________________________________\n"
          ],
          "name": "stdout"
        },
        {
          "output_type": "stream",
          "text": [
            "/usr/local/lib/python3.6/dist-packages/keras/engine/training_utils.py:819: UserWarning: Output model_19 missing from loss dictionary. We assume this was done on purpose. The fit and evaluate APIs will not be expecting any data to be passed to model_19.\n",
            "  'be expecting any data to be passed to {0}.'.format(name))\n"
          ],
          "name": "stderr"
        }
      ]
    },
    {
      "cell_type": "code",
      "metadata": {
        "id": "euzTWPfSk_v1",
        "colab_type": "code",
        "colab": {}
      },
      "source": [
        "tensorboard = TensorBoard()\n",
        "earlystopping = EarlyStopping(patience=3)"
      ],
      "execution_count": 0,
      "outputs": []
    },
    {
      "cell_type": "code",
      "metadata": {
        "id": "6OzuXFtGfFpS",
        "colab_type": "code",
        "outputId": "6cca3d9c-cad4-466f-aac3-bfa8d371a42c",
        "colab": {
          "base_uri": "https://localhost:8080/",
          "height": 306
        }
      },
      "source": [
        "## Training\n",
        "n_epochs=50\n",
        "#my_model.fit(features_train, labels_train, epochs=100, batch_size=16, callbacks=[tensorboard,earlystopping], validation_data=(features_test, labels_test))\n",
        "history = triplet.fit(train_x, shuffle=True, batch_size=64, validation_split=.2, callbacks=[tensorboard,earlystopping], epochs=n_epochs)"
      ],
      "execution_count": 480,
      "outputs": [
        {
          "output_type": "stream",
          "text": [
            "Train on 15360 samples, validate on 3840 samples\n",
            "Epoch 1/50\n",
            "15360/15360 [==============================] - 61s 4ms/step - loss: 0.3388 - val_loss: 0.2002\n",
            "Epoch 2/50\n",
            "15360/15360 [==============================] - 61s 4ms/step - loss: 0.1551 - val_loss: 0.2061\n",
            "Epoch 3/50\n",
            "15360/15360 [==============================] - 61s 4ms/step - loss: 0.1279 - val_loss: 0.1739\n",
            "Epoch 4/50\n",
            "15360/15360 [==============================] - 61s 4ms/step - loss: 0.1100 - val_loss: 0.1858\n",
            "Epoch 5/50\n",
            "15360/15360 [==============================] - 61s 4ms/step - loss: 0.0947 - val_loss: 0.1601\n",
            "Epoch 6/50\n",
            "15360/15360 [==============================] - 61s 4ms/step - loss: 0.0873 - val_loss: 0.1617\n",
            "Epoch 7/50\n",
            "15360/15360 [==============================] - 61s 4ms/step - loss: 0.0809 - val_loss: 0.1754\n",
            "Epoch 8/50\n",
            "15360/15360 [==============================] - 61s 4ms/step - loss: 0.0729 - val_loss: 0.1694\n"
          ],
          "name": "stdout"
        }
      ]
    },
    {
      "cell_type": "code",
      "metadata": {
        "id": "UzA-yqTWLVQN",
        "colab_type": "code",
        "outputId": "4e980b0f-4f2b-4864-97eb-81273a18c073",
        "colab": {
          "base_uri": "https://localhost:8080/",
          "height": 295
        }
      },
      "source": [
        "from matplotlib import pyplot as plt\n",
        "plt.plot(history.history['loss'])\n",
        "plt.plot(history.history['val_loss'])\n",
        "plt.title('model loss')\n",
        "plt.ylabel('loss')\n",
        "plt.xlabel('epoch')\n",
        "plt.legend(['train', 'test'], loc='upper right')\n",
        "plt.show()"
      ],
      "execution_count": 481,
      "outputs": [
        {
          "output_type": "display_data",
          "data": {
            "image/png": "[encoded data removed]",
            "text/plain": [
              "<Figure size 432x288 with 1 Axes>"
            ]
          },
          "metadata": {
            "tags": [],
            "needs_background": "light"
          }
        }
      ]
    },
    {
      "cell_type": "code",
      "metadata": {
        "id": "05SVngtuLkAY",
        "colab_type": "code",
        "colab": {}
      },
      "source": [
        "triplet.save(\"MITTripletLossAditiWithEarlyStop.h5\") #"
      ],
      "execution_count": 0,
      "outputs": []
    },
    {
      "cell_type": "markdown",
      "metadata": {
        "id": "Xivf8rYAL3Jd",
        "colab_type": "text"
      },
      "source": [
        "## **Get the Encoding/Embedding Value for Train data(Anchor, Positive, Negative)**"
      ]
    },
    {
      "cell_type": "code",
      "metadata": {
        "id": "nEaPLmFgMEu2",
        "colab_type": "code",
        "colab": {}
      },
      "source": [
        "train_anchor_embeds=Shared_DNN.predict(train_x[0])"
      ],
      "execution_count": 0,
      "outputs": []
    },
    {
      "cell_type": "code",
      "metadata": {
        "id": "hoVjVFJAMFBO",
        "colab_type": "code",
        "colab": {}
      },
      "source": [
        "train_positive_embeds=Shared_DNN.predict(train_x[1])"
      ],
      "execution_count": 0,
      "outputs": []
    },
    {
      "cell_type": "code",
      "metadata": {
        "id": "N-wNxDNXMFPn",
        "colab_type": "code",
        "colab": {}
      },
      "source": [
        "train_negative_embeds=Shared_DNN.predict(train_x[2])"
      ],
      "execution_count": 0,
      "outputs": []
    },
    {
      "cell_type": "code",
      "metadata": {
        "id": "adnXzRzyME-r",
        "colab_type": "code",
        "outputId": "ba329250-6201-460a-bb84-827ecdaa948e",
        "colab": {
          "base_uri": "https://localhost:8080/",
          "height": 68
        }
      },
      "source": [
        "print(\"Shape of Embeddings for Train(Anchor) data:{}\".format(train_anchor_embeds.shape))\n",
        "print(\"Shape of Embeddings for Train(positive) data:{}\".format(train_positive_embeds.shape))\n",
        "print(\"Shape of Embeddings for Train(negative) data:{}\".format(train_negative_embeds.shape))"
      ],
      "execution_count": 484,
      "outputs": [
        {
          "output_type": "stream",
          "text": [
            "Shape of Embeddings for Train(Anchor) data:(19200, 150)\n",
            "Shape of Embeddings for Train(positive) data:(19200, 150)\n",
            "Shape of Embeddings for Train(negative) data:(19200, 150)\n"
          ],
          "name": "stdout"
        }
      ]
    },
    {
      "cell_type": "markdown",
      "metadata": {
        "id": "Buohn7IcMhnw",
        "colab_type": "text"
      },
      "source": [
        "### **Get value of k templates for each label using trained data**"
      ]
    },
    {
      "cell_type": "code",
      "metadata": {
        "id": "C750M42dMh4s",
        "colab_type": "code",
        "colab": {}
      },
      "source": [
        "# Get the embeddings of the images\n",
        "def get_image_embedding(test_model, input): \n",
        "  train_embeds = test_model.predict(input)\n",
        "  return train_embeds"
      ],
      "execution_count": 0,
      "outputs": []
    },
    {
      "cell_type": "code",
      "metadata": {
        "id": "ZffMVJlZMh-o",
        "colab_type": "code",
        "outputId": "07812c46-2212-494f-835b-080938c186b1",
        "colab": {
          "base_uri": "https://localhost:8080/",
          "height": 34
        }
      },
      "source": [
        "train_embeds=get_image_embedding(Shared_DNN, train_x[0])\n",
        "print(\"Train Embeddings shape:{}\".format(train_embeds.shape))\n",
        "#print(train_embeds[0], train_embeds[1])"
      ],
      "execution_count": 486,
      "outputs": [
        {
          "output_type": "stream",
          "text": [
            "Train Embeddings shape:(19200, 150)\n"
          ],
          "name": "stdout"
        }
      ]
    },
    {
      "cell_type": "code",
      "metadata": {
        "id": "FM9KLVzxMhlU",
        "colab_type": "code",
        "colab": {}
      },
      "source": [
        "train_data_v_stack = np.vstack((train_x[0], train_x[1], train_x[2]))"
      ],
      "execution_count": 0,
      "outputs": []
    },
    {
      "cell_type": "code",
      "metadata": {
        "id": "2sWBquiZMt1G",
        "colab_type": "code",
        "colab": {}
      },
      "source": [
        "train_label_v_stack = np.vstack((train_y[0], train_y[1], train_y[2]))"
      ],
      "execution_count": 0,
      "outputs": []
    },
    {
      "cell_type": "code",
      "metadata": {
        "id": "nYgo8BzEMuFS",
        "colab_type": "code",
        "outputId": "e6d99679-ea4a-45b2-c15a-4fe9e98fd494",
        "colab": {
          "base_uri": "https://localhost:8080/",
          "height": 68
        }
      },
      "source": [
        "print(\"Shape of vertical_stacked train data: {}\".format(train_data_v_stack.shape))\n",
        "print(\"Shape of vertical_stacked train label in form of [[],[],[]]: {}\".format(train_label_v_stack.shape))\n",
        "print(\"Labels of Anchor Image:{}\".format(train_label_v_stack[0]))"
      ],
      "execution_count": 489,
      "outputs": [
        {
          "output_type": "stream",
          "text": [
            "Shape of vertical_stacked train data: (57600, 224, 224, 1)\n",
            "Shape of vertical_stacked train label in form of [[],[],[]]: (3, 19200)\n",
            "Labels of Anchor Image:[ 0  0  0 ... 47 47 47]\n"
          ],
          "name": "stdout"
        }
      ]
    },
    {
      "cell_type": "code",
      "metadata": {
        "id": "kRSyshZgMy5j",
        "colab_type": "code",
        "outputId": "0b2a0141-ecfe-4174-afd5-b53024fbc5c8",
        "colab": {
          "base_uri": "https://localhost:8080/",
          "height": 34
        }
      },
      "source": [
        "print(train_y[1].shape)"
      ],
      "execution_count": 490,
      "outputs": [
        {
          "output_type": "stream",
          "text": [
            "(19200,)\n"
          ],
          "name": "stdout"
        }
      ]
    },
    {
      "cell_type": "markdown",
      "metadata": {
        "id": "SfprTL3vMzKE",
        "colab_type": "text"
      },
      "source": [
        "### **Calculating Threshold using Trained Data**"
      ]
    },
    {
      "cell_type": "code",
      "metadata": {
        "id": "dMA15tpMMzXE",
        "colab_type": "code",
        "outputId": "c8545d0d-3833-4aef-f8ce-52779c36fd20",
        "colab": {
          "base_uri": "https://localhost:8080/",
          "height": 1000
        }
      },
      "source": [
        "map_threshold_calc={}\n",
        "for unique_label in unique_labels:\n",
        "  print(unique_label)\n",
        "  target_label=np.argwhere(train_label_v_stack[1]==unique_label)\n",
        "  # List of list format,So need to change into single list using chain\n",
        "  target_label = list(chain.from_iterable(target_label)) \n",
        "  start_index=target_label[0]\n",
        "  end_index=target_label[-1]\n",
        "  # Data stored of Positive Image value for threshold calculation\n",
        "  data_per_label_threshold=train_positive_embeds[start_index:end_index+1]\n",
        "  map_threshold_calc[unique_label]=data_per_label_threshold\n",
        "  # print(map_threshold_calc[unique_label].shape)"
      ],
      "execution_count": 491,
      "outputs": [
        {
          "output_type": "stream",
          "text": [
            "0\n",
            "(400, 150)\n",
            "1\n",
            "(400, 150)\n",
            "2\n",
            "(400, 150)\n",
            "3\n",
            "(400, 150)\n",
            "4\n",
            "(400, 150)\n",
            "5\n",
            "(400, 150)\n",
            "6\n",
            "(400, 150)\n",
            "7\n",
            "(400, 150)\n",
            "8\n",
            "(400, 150)\n",
            "9\n",
            "(400, 150)\n",
            "10\n",
            "(400, 150)\n",
            "11\n",
            "(400, 150)\n",
            "12\n",
            "(400, 150)\n",
            "13\n",
            "(400, 150)\n",
            "14\n",
            "(400, 150)\n",
            "15\n",
            "(400, 150)\n",
            "16\n",
            "(400, 150)\n",
            "17\n",
            "(400, 150)\n",
            "18\n",
            "(400, 150)\n",
            "19\n",
            "(400, 150)\n",
            "20\n",
            "(400, 150)\n",
            "21\n",
            "(400, 150)\n",
            "22\n",
            "(400, 150)\n",
            "23\n",
            "(400, 150)\n",
            "24\n",
            "(400, 150)\n",
            "25\n",
            "(400, 150)\n",
            "26\n",
            "(400, 150)\n",
            "27\n",
            "(400, 150)\n",
            "28\n",
            "(400, 150)\n",
            "29\n",
            "(400, 150)\n",
            "30\n",
            "(400, 150)\n",
            "31\n",
            "(400, 150)\n",
            "32\n",
            "(400, 150)\n",
            "33\n",
            "(400, 150)\n",
            "34\n",
            "(400, 150)\n",
            "35\n",
            "(400, 150)\n",
            "36\n",
            "(400, 150)\n",
            "37\n",
            "(400, 150)\n",
            "38\n",
            "(400, 150)\n",
            "39\n",
            "(400, 150)\n",
            "40\n",
            "(400, 150)\n",
            "41\n",
            "(400, 150)\n",
            "42\n",
            "(400, 150)\n",
            "43\n",
            "(400, 150)\n",
            "44\n",
            "(400, 150)\n",
            "45\n",
            "(400, 150)\n",
            "46\n",
            "(400, 150)\n",
            "47\n",
            "(400, 150)\n"
          ],
          "name": "stdout"
        }
      ]
    },
    {
      "cell_type": "code",
      "metadata": {
        "id": "B8dxOTs9ND4K",
        "colab_type": "code",
        "colab": {}
      },
      "source": [
        "from scipy.spatial import distance"
      ],
      "execution_count": 0,
      "outputs": []
    },
    {
      "cell_type": "code",
      "metadata": {
        "id": "NFmBvBHqNEIh",
        "colab_type": "code",
        "outputId": "57c8dadf-4a19-4979-9d7c-a6f20f328188",
        "colab": {
          "base_uri": "https://localhost:8080/",
          "height": 1000
        }
      },
      "source": [
        "map_threshold_value={}\n",
        "for key in map_threshold_calc.keys():\n",
        "  data=map_threshold_calc[key]\n",
        "  # print(data)\n",
        "  dists = distance.cdist(data, data, 'euclidean')\n",
        "  print(dists.shape)\n",
        "  average_calc=[]\n",
        "  for dist in dists:\n",
        "    mean=np.mean(dist)\n",
        "    standard_deviation=np.std(dist)\n",
        "    dist_mean=abs(dist-mean)\n",
        "    soln_array=dist_mean<standard_deviation*0.55\n",
        "    soln_array1=dist[soln_array]\n",
        "    maximum=max(soln_array1)\n",
        "    average_calc.append(maximum)\n",
        "  threshold_for_label = sum(average_calc)/len(average_calc)\n",
        "  print(\"Threshold for Label {}:{}\".format(key, threshold_for_label))\n",
        "  map_threshold_value[key]=threshold_for_label"
      ],
      "execution_count": 605,
      "outputs": [
        {
          "output_type": "stream",
          "text": [
            "(400, 400)\n",
            "Threshold for Label 0:0.7991815570442253\n",
            "(400, 400)\n",
            "Threshold for Label 1:0.785807499030897\n",
            "(400, 400)\n",
            "Threshold for Label 2:1.1474813046316055\n",
            "(400, 400)\n",
            "Threshold for Label 3:0.9736081490192006\n",
            "(400, 400)\n",
            "Threshold for Label 4:1.408532676579263\n",
            "(400, 400)\n",
            "Threshold for Label 5:0.4989526214561703\n",
            "(400, 400)\n",
            "Threshold for Label 6:1.2350701090883245\n",
            "(400, 400)\n",
            "Threshold for Label 7:0.7577568521793988\n",
            "(400, 400)\n",
            "Threshold for Label 8:1.1935530918474082\n",
            "(400, 400)\n",
            "Threshold for Label 9:0.5696509366305607\n",
            "(400, 400)\n",
            "Threshold for Label 10:1.27563854343277\n",
            "(400, 400)\n",
            "Threshold for Label 11:0.8653758654316601\n",
            "(400, 400)\n",
            "Threshold for Label 12:1.0755024583017183\n",
            "(400, 400)\n",
            "Threshold for Label 13:1.432493560659668\n",
            "(400, 400)\n",
            "Threshold for Label 14:0.7945451183585465\n",
            "(400, 400)\n",
            "Threshold for Label 15:0.8068630005676763\n",
            "(400, 400)\n",
            "Threshold for Label 16:1.6414761972276763\n",
            "(400, 400)\n",
            "Threshold for Label 17:0.8226252588666533\n",
            "(400, 400)\n",
            "Threshold for Label 18:0.8227078249030655\n",
            "(400, 400)\n",
            "Threshold for Label 19:0.4312555786644181\n",
            "(400, 400)\n",
            "Threshold for Label 20:0.3529119671416444\n",
            "(400, 400)\n",
            "Threshold for Label 21:0.8608991697397183\n",
            "(400, 400)\n",
            "Threshold for Label 22:0.6082173390845641\n",
            "(400, 400)\n",
            "Threshold for Label 23:1.1120793469999373\n",
            "(400, 400)\n",
            "Threshold for Label 24:1.081893100900877\n",
            "(400, 400)\n",
            "Threshold for Label 25:0.7785200052817214\n",
            "(400, 400)\n",
            "Threshold for Label 26:1.6389449814146255\n",
            "(400, 400)\n",
            "Threshold for Label 27:1.0270840989289154\n",
            "(400, 400)\n",
            "Threshold for Label 28:1.097243468603257\n",
            "(400, 400)\n",
            "Threshold for Label 29:1.6040100763890606\n",
            "(400, 400)\n",
            "Threshold for Label 30:1.1868966271433226\n",
            "(400, 400)\n",
            "Threshold for Label 31:0.9724616900820089\n",
            "(400, 400)\n",
            "Threshold for Label 32:0.8623971588720135\n",
            "(400, 400)\n",
            "Threshold for Label 33:0.8927692458437749\n",
            "(400, 400)\n",
            "Threshold for Label 34:0.9470797585671485\n",
            "(400, 400)\n",
            "Threshold for Label 35:0.902792169864135\n",
            "(400, 400)\n",
            "Threshold for Label 36:0.9532895032587788\n",
            "(400, 400)\n",
            "Threshold for Label 37:0.8749165476093439\n",
            "(400, 400)\n",
            "Threshold for Label 38:0.5850743088605205\n",
            "(400, 400)\n",
            "Threshold for Label 39:1.0452247569713249\n",
            "(400, 400)\n",
            "Threshold for Label 40:1.628833214145447\n",
            "(400, 400)\n",
            "Threshold for Label 41:1.1161700342041032\n",
            "(400, 400)\n",
            "Threshold for Label 42:1.6854598480675724\n",
            "(400, 400)\n",
            "Threshold for Label 43:1.3485673580635318\n",
            "(400, 400)\n",
            "Threshold for Label 44:1.8157447681746044\n",
            "(400, 400)\n",
            "Threshold for Label 45:1.7199317855800111\n",
            "(400, 400)\n",
            "Threshold for Label 46:1.4151757861835759\n",
            "(400, 400)\n",
            "Threshold for Label 47:0.9046535570822393\n"
          ],
          "name": "stdout"
        }
      ]
    },
    {
      "cell_type": "markdown",
      "metadata": {
        "id": "l6G22DYrNET2",
        "colab_type": "text"
      },
      "source": [
        "## **Brute-Force Testing**"
      ]
    },
    {
      "cell_type": "code",
      "metadata": {
        "id": "h1ZLv5flNEd0",
        "colab_type": "code",
        "outputId": "ffa32483-7f8d-4f6d-fb93-9f7139fab81a",
        "colab": {
          "base_uri": "https://localhost:8080/",
          "height": 68
        }
      },
      "source": [
        "print(\"What is your claimed identity?\")\n",
        "claimed_label=input()\n",
        "print(claimed_label)"
      ],
      "execution_count": 606,
      "outputs": [
        {
          "output_type": "stream",
          "text": [
            "What is your claimed identity?\n",
            "0\n",
            "0\n"
          ],
          "name": "stdout"
        }
      ]
    },
    {
      "cell_type": "code",
      "metadata": {
        "id": "eruV2xWsNEEN",
        "colab_type": "code",
        "colab": {}
      },
      "source": [
        "def get_k_template_values(label):\n",
        "  label=int(label)\n",
        "  target_label=np.argwhere(train_label_v_stack[0]==label)\n",
        "  # List of list format.So need to change into single list using chain\n",
        "  target_label = list(chain.from_iterable(target_label)) \n",
        "  #print(target_label)\n",
        "\n",
        "  k_template_value=[]\n",
        "  for value in target_label:\n",
        "    k_template_value.append(train_embeds[value])\n",
        "  #print(\"K templates, Value of k:{}, template shape:{}\".format(len(k_template_value), len(k_template_value[0])))\n",
        "  return k_template_value"
      ],
      "execution_count": 0,
      "outputs": []
    },
    {
      "cell_type": "code",
      "metadata": {
        "id": "agzmSzI6NApX",
        "colab_type": "code",
        "colab": {}
      },
      "source": [
        "k_template_value=get_k_template_values(claimed_label)"
      ],
      "execution_count": 0,
      "outputs": []
    },
    {
      "cell_type": "code",
      "metadata": {
        "id": "c9I4vIabNTLt",
        "colab_type": "code",
        "outputId": "b04b0dbb-72a4-46fd-ea6e-2bd881be4f30",
        "colab": {
          "base_uri": "https://localhost:8080/",
          "height": 68
        }
      },
      "source": [
        "test_data_v_stack=np.vstack((test_x[0], test_x[1], test_x[2]))\n",
        "test_label_v_stack=np.vstack((test_y[0], test_y[1], test_y[2]))\n",
        "print(\"Shape of vertical_stacked test data: {}\".format(test_data_v_stack.shape))\n",
        "print(\"Shape of vertical_stacked test label in form of [[],[],[]]: {}\".format(test_label_v_stack.shape))\n",
        "print(\"Labels of Image to test:{}\".format(test_label_v_stack[0]))"
      ],
      "execution_count": 609,
      "outputs": [
        {
          "output_type": "stream",
          "text": [
            "Shape of vertical_stacked test data: (14400, 224, 224, 1)\n",
            "Shape of vertical_stacked test label in form of [[],[],[]]: (3, 4800)\n",
            "Labels of Image to test:[ 0  0  0 ... 47 47 47]\n"
          ],
          "name": "stdout"
        }
      ]
    },
    {
      "cell_type": "code",
      "metadata": {
        "id": "vRF_ex2tNVlS",
        "colab_type": "code",
        "outputId": "f5eba25a-82f8-4766-de24-2eb0582c2c5b",
        "colab": {
          "base_uri": "https://localhost:8080/",
          "height": 105
        }
      },
      "source": [
        "print(\"Select any label!\")\n",
        "print(set(test_label_v_stack[0]))\n",
        "real_identity = input()\n",
        "print(\"Input Value:\", real_identity)\n",
        "\n",
        "\n",
        "# claimed_identity = 2"
      ],
      "execution_count": 610,
      "outputs": [
        {
          "output_type": "stream",
          "text": [
            "Select any label!\n",
            "{0, 1, 2, 3, 4, 5, 6, 7, 8, 9, 10, 11, 12, 13, 14, 15, 16, 17, 18, 19, 20, 21, 22, 23, 24, 25, 26, 27, 28, 29, 30, 31, 32, 33, 34, 35, 36, 37, 38, 39, 40, 41, 42, 43, 44, 45, 46, 47}\n",
            "15\n",
            "Input Value: 15\n"
          ],
          "name": "stdout"
        }
      ]
    },
    {
      "cell_type": "code",
      "metadata": {
        "id": "YD9WACGtNYCW",
        "colab_type": "code",
        "outputId": "6d00e70f-3148-476e-de4d-f28091a05883",
        "colab": {
          "base_uri": "https://localhost:8080/",
          "height": 54
        }
      },
      "source": [
        "# test_label=np.argwhere(test_label_v_stack[0]==2)\n",
        "test_label=np.argwhere(test_label_v_stack[0]==int(real_identity))\n",
        "test_label = list(chain.from_iterable(test_label)) \n",
        "# Multiple values of the same label in test_data, so we will select any random one\n",
        "print(test_label)\n",
        "# print(random_test_label)"
      ],
      "execution_count": 611,
      "outputs": [
        {
          "output_type": "stream",
          "text": [
            "[1500, 1501, 1502, 1503, 1504, 1505, 1506, 1507, 1508, 1509, 1510, 1511, 1512, 1513, 1514, 1515, 1516, 1517, 1518, 1519, 1520, 1521, 1522, 1523, 1524, 1525, 1526, 1527, 1528, 1529, 1530, 1531, 1532, 1533, 1534, 1535, 1536, 1537, 1538, 1539, 1540, 1541, 1542, 1543, 1544, 1545, 1546, 1547, 1548, 1549, 1550, 1551, 1552, 1553, 1554, 1555, 1556, 1557, 1558, 1559, 1560, 1561, 1562, 1563, 1564, 1565, 1566, 1567, 1568, 1569, 1570, 1571, 1572, 1573, 1574, 1575, 1576, 1577, 1578, 1579, 1580, 1581, 1582, 1583, 1584, 1585, 1586, 1587, 1588, 1589, 1590, 1591, 1592, 1593, 1594, 1595, 1596, 1597, 1598, 1599]\n"
          ],
          "name": "stdout"
        }
      ]
    },
    {
      "cell_type": "code",
      "metadata": {
        "id": "yn_JJeSRNb7e",
        "colab_type": "code",
        "outputId": "fb3dd64f-bd7c-46f6-87b6-1e29bd91002a",
        "colab": {
          "base_uri": "https://localhost:8080/",
          "height": 51
        }
      },
      "source": [
        "# test_segment=None\n",
        "random_test_label=test_label[0]\n",
        "random_test_data=(test_data_v_stack[random_test_label]).reshape(1,224,224,1)\n",
        "print(\"Corresponding image shape:\", random_test_data.shape)\n",
        "test_embeds = Shared_DNN.predict(random_test_data)\n",
        "print(\"Shape of test template:{}\".format(test_embeds.shape))\n",
        "test_segment=test_embeds"
      ],
      "execution_count": 612,
      "outputs": [
        {
          "output_type": "stream",
          "text": [
            "Corresponding image shape: (1, 224, 224, 1)\n",
            "Shape of test template:(1, 150)\n"
          ],
          "name": "stdout"
        }
      ]
    },
    {
      "cell_type": "code",
      "metadata": {
        "id": "gt37AEJ_Nd3O",
        "colab_type": "code",
        "colab": {}
      },
      "source": [
        "def similar_score(test_template, stored_templates):\n",
        "  dists = distance.cdist(test_template, stored_templates, 'euclidean')\n",
        "  soln=min(dists[0])\n",
        "  return soln"
      ],
      "execution_count": 0,
      "outputs": []
    },
    {
      "cell_type": "code",
      "metadata": {
        "id": "jQSMQ7y8Ng0y",
        "colab_type": "code",
        "outputId": "30634744-7cbd-48db-af3e-db3070e1de45",
        "colab": {
          "base_uri": "https://localhost:8080/",
          "height": 34
        }
      },
      "source": [
        "score=similar_score(test_segment, k_template_value)\n",
        "print(score)"
      ],
      "execution_count": 614,
      "outputs": [
        {
          "output_type": "stream",
          "text": [
            "1.067217437521771\n"
          ],
          "name": "stdout"
        }
      ]
    },
    {
      "cell_type": "code",
      "metadata": {
        "id": "64PcHWhrNjiZ",
        "colab_type": "code",
        "outputId": "f07fa3ac-1124-4a7e-b913-87aea01bc8c9",
        "colab": {
          "base_uri": "https://localhost:8080/",
          "height": 51
        }
      },
      "source": [
        "threshold=map_threshold_value[int(claimed_label)]\n",
        "print(threshold)\n",
        "if score>threshold:\n",
        "  print(\"You are not authenticated with dissimarity score:{}\".format(score))\n",
        "else:\n",
        "  print(\"Authentication Successful! with dissimarity score:{}\".format(score))\n",
        "    "
      ],
      "execution_count": 615,
      "outputs": [
        {
          "output_type": "stream",
          "text": [
            "0.7991815570442253\n",
            "You are not authenticated with dissimarity score:1.067217437521771\n"
          ],
          "name": "stdout"
        }
      ]
    },
    {
      "cell_type": "markdown",
      "metadata": {
        "id": "O3EV5jfDNnnw",
        "colab_type": "text"
      },
      "source": [
        "### **Authentication Model**"
      ]
    },
    {
      "cell_type": "code",
      "metadata": {
        "id": "FzVJGLfDNswt",
        "colab_type": "code",
        "colab": {}
      },
      "source": [
        "\n",
        "def authentication(test_segment,claimed_label):\n",
        "  k_template_value=get_k_template_values(claimed_label)\n",
        "  test_embeds = Shared_DNN.predict(test_segment)\n",
        "  score=similar_score(test_embeds, k_template_value)\n",
        "  threshold=map_threshold_value[int(claimed_label)]\n",
        "  #print(threshold)\n",
        "  if score>threshold:\n",
        "    #print(\"You are not authenticated with dissimarity score:{}\".format(score))\n",
        "    return 'false'\n",
        "  else:\n",
        "    #print(\"Authentication Successful! with dissimarity score:{}\".format(score))\n",
        "    return 'true'\n",
        "    \n"
      ],
      "execution_count": 0,
      "outputs": []
    },
    {
      "cell_type": "code",
      "metadata": {
        "id": "EgPXobXWNvLR",
        "colab_type": "code",
        "outputId": "990b0c64-9a45-40e5-8acf-a277116fd2ec",
        "colab": {
          "base_uri": "https://localhost:8080/",
          "height": 34
        }
      },
      "source": [
        "test_segment=test_x[0][0].reshape(1,224,224,1)\n",
        "test_segment.shape"
      ],
      "execution_count": 617,
      "outputs": [
        {
          "output_type": "execute_result",
          "data": {
            "text/plain": [
              "(1, 224, 224, 1)"
            ]
          },
          "metadata": {
            "tags": []
          },
          "execution_count": 617
        }
      ]
    },
    {
      "cell_type": "markdown",
      "metadata": {
        "id": "XSU3-E66NxXA",
        "colab_type": "text"
      },
      "source": [
        "### **Model Evaluation**"
      ]
    },
    {
      "cell_type": "code",
      "metadata": {
        "id": "B9S10-LbN5UL",
        "colab_type": "code",
        "colab": {}
      },
      "source": [
        "all_test_embeds=Shared_DNN.predict(test_x[0])"
      ],
      "execution_count": 0,
      "outputs": []
    },
    {
      "cell_type": "code",
      "metadata": {
        "id": "Zxm6qTtwN5hG",
        "colab_type": "code",
        "outputId": "f72abd72-f245-4af7-e0b4-6e6a62524932",
        "colab": {
          "base_uri": "https://localhost:8080/",
          "height": 34
        }
      },
      "source": [
        "test_x[0][0].shape"
      ],
      "execution_count": 619,
      "outputs": [
        {
          "output_type": "execute_result",
          "data": {
            "text/plain": [
              "(224, 224, 1)"
            ]
          },
          "metadata": {
            "tags": []
          },
          "execution_count": 619
        }
      ]
    },
    {
      "cell_type": "code",
      "metadata": {
        "id": "KHkq9UsGN_i4",
        "colab_type": "code",
        "colab": {}
      },
      "source": [
        "t_pos=0\n",
        "f_neg=0\n",
        "def countMetricsTruePositives():\n",
        "  true_positives=0\n",
        "  total=len(all_test_embeds)\n",
        "  for i in range(len(all_test_embeds)):\n",
        "    test_embed=all_test_embeds[i]\n",
        "    claimed_label=test_y[0][i]\n",
        "    test_segment=test_x[0][i].reshape(1,224,224,1)\n",
        "    response=authentication(test_segment,claimed_label)\n",
        "    if response == \"true\":\n",
        "      true_positives=true_positives+1\n",
        "  t_pos=true_positives\n",
        "  print(\"True Positives:\" ,true_positives)\n",
        "  f_neg=total-true_positives\n",
        "  print(\"False Negatives:\" ,f_neg)\n",
        "  return t_pos,f_neg"
      ],
      "execution_count": 0,
      "outputs": []
    },
    {
      "cell_type": "code",
      "metadata": {
        "id": "HCGdVM6cOB7I",
        "colab_type": "code",
        "outputId": "d04cc70c-eda0-4a51-ae4e-0bd1ce526d3f",
        "colab": {
          "base_uri": "https://localhost:8080/",
          "height": 51
        }
      },
      "source": [
        "t_pos,f_neg=countMetricsTruePositives()"
      ],
      "execution_count": 621,
      "outputs": [
        {
          "output_type": "stream",
          "text": [
            "True Positives: 4660\n",
            "False Negatives: 140\n"
          ],
          "name": "stdout"
        }
      ]
    },
    {
      "cell_type": "code",
      "metadata": {
        "id": "CvR_SUZsOEB_",
        "colab_type": "code",
        "outputId": "6cce7680-ad85-40dd-f2f5-4267cec5e154",
        "colab": {
          "base_uri": "https://localhost:8080/",
          "height": 34
        }
      },
      "source": [
        "t_pos"
      ],
      "execution_count": 587,
      "outputs": [
        {
          "output_type": "execute_result",
          "data": {
            "text/plain": [
              "4678"
            ]
          },
          "metadata": {
            "tags": []
          },
          "execution_count": 587
        }
      ]
    },
    {
      "cell_type": "code",
      "metadata": {
        "id": "DggVF0EEs3kK",
        "colab_type": "code",
        "outputId": "a870f312-7acc-437a-e317-8c1d7a319e9d",
        "colab": {
          "base_uri": "https://localhost:8080/",
          "height": 34
        }
      },
      "source": [
        "print(test_y[2][1])"
      ],
      "execution_count": 588,
      "outputs": [
        {
          "output_type": "stream",
          "text": [
            "42\n"
          ],
          "name": "stdout"
        }
      ]
    },
    {
      "cell_type": "code",
      "metadata": {
        "id": "5gwAOGkXrzT9",
        "colab_type": "code",
        "colab": {}
      },
      "source": [
        "t_neg=0\n",
        "f_pos=0\n",
        "def countMetricsTrueNegatives():\n",
        "  true_negatives=0\n",
        "  total=len(all_test_embeds)\n",
        "  for i in range(len(all_test_embeds)):\n",
        "    test_embed=all_test_embeds[i]\n",
        "    claimed_label=test_y[2][i]\n",
        "    test_segment=test_x[0][i].reshape(1,224,224,1)\n",
        "    response=authentication(test_segment,claimed_label)\n",
        "    if response == \"false\":\n",
        "      true_negatives=true_negatives+1\n",
        "  t_neg=true_negatives\n",
        "  print(\"True Negative:\" ,true_negatives)\n",
        "  f_pos=total-true_negatives\n",
        "  print(\"False Positive:\" ,f_pos)\n",
        "  return t_neg,f_pos"
      ],
      "execution_count": 0,
      "outputs": []
    },
    {
      "cell_type": "code",
      "metadata": {
        "id": "JnLfuQNWOHJh",
        "colab_type": "code",
        "outputId": "450dcc7a-4793-4c7c-fbef-81bb622f8120",
        "colab": {
          "base_uri": "https://localhost:8080/",
          "height": 51
        }
      },
      "source": [
        "t_neg,f_pos=countMetricsTrueNegatives()"
      ],
      "execution_count": 623,
      "outputs": [
        {
          "output_type": "stream",
          "text": [
            "True Negative: 4518\n",
            "False Positive: 282\n"
          ],
          "name": "stdout"
        }
      ]
    },
    {
      "cell_type": "code",
      "metadata": {
        "id": "WmdnNVMDOJH-",
        "colab_type": "code",
        "outputId": "2a0c9712-5295-40a6-aee7-fe360831549b",
        "colab": {
          "base_uri": "https://localhost:8080/",
          "height": 34
        }
      },
      "source": [
        "#TP+TN/TP+TN+FN x 100%\n",
        "total_cases=t_pos+f_neg+t_neg+f_pos\n",
        "#print(total_cases)\n",
        "numerator=t_pos+t_neg\n",
        "accuracy=numerator/total_cases\n",
        "accuracy=accuracy*100\n",
        "print(\"Accuracy is: {}%\".format(accuracy))"
      ],
      "execution_count": 624,
      "outputs": [
        {
          "output_type": "stream",
          "text": [
            "Accuracy is: 95.60416666666667%\n"
          ],
          "name": "stdout"
        }
      ]
    },
    {
      "cell_type": "code",
      "metadata": {
        "id": "chPaNMlCxR-V",
        "colab_type": "code",
        "colab": {}
      },
      "source": [
        "def countMetricsTrueNegative():\n",
        "  t_neg=0\n",
        "  f_pos=0\n",
        "  n=int(num_test_per_class)\n",
        "  second_n=n\n",
        "  something=int(len(all_test_embeds)-1-n)\n",
        "  true_negatives=0\n",
        "  total=len(all_test_embeds)\n",
        "  for i in range(len(all_test_embeds)):\n",
        "    test_embed=all_test_embeds[i]\n",
        "    #if i == 0:\n",
        "      #claimed_label=int(test_y[0][-n:-n+1]) #this is correct\n",
        "      #claimed_label=int(test_y[0][-1:])\n",
        "    if(i >= something):\n",
        "      claimed_label=test_y[0][0]\n",
        "    else:\n",
        "      claimed_label=int(test_y[0][n+i:n+i+1])\n",
        "    #print(\"3 : \",i,\" and \",claimed_label)\n",
        "    test_segment=test_x[0][i].reshape(1,224,224,1)\n",
        "    response=authentication(test_segment,claimed_label)\n",
        "    if response == \"false\":\n",
        "      #print(\"Rejected i: \",i,\" label: \",int(test_y[0][n+i:n+i+1]))\n",
        "      true_negatives=true_negatives+1\n",
        "  t_neg=true_negatives\n",
        "  print(\"True Negatives:\" ,t_neg)\n",
        "  f_pos=total-true_negatives\n",
        "  print(\"False Positives:\" ,f_pos)\n",
        "  return t_neg,f_pos"
      ],
      "execution_count": 0,
      "outputs": []
    },
    {
      "cell_type": "code",
      "metadata": {
        "id": "FsBNQH_2xYWx",
        "colab_type": "code",
        "colab": {
          "base_uri": "https://localhost:8080/",
          "height": 51
        },
        "outputId": "61bc063f-3c5a-4fd1-fe75-6baef8849bcc"
      },
      "source": [
        "t_neg1,f_pos1=countMetricsTrueNegative()"
      ],
      "execution_count": 626,
      "outputs": [
        {
          "output_type": "stream",
          "text": [
            "True Negatives: 4625\n",
            "False Positives: 175\n"
          ],
          "name": "stdout"
        }
      ]
    },
    {
      "cell_type": "code",
      "metadata": {
        "id": "hWRGhZuNxhuz",
        "colab_type": "code",
        "colab": {
          "base_uri": "https://localhost:8080/",
          "height": 34
        },
        "outputId": "93bd12ed-cddf-4a10-973e-f5db33958633"
      },
      "source": [
        "#TP+TN/TP+TN+FN x 100%\n",
        "total_cases=t_pos+f_neg+t_neg1+f_pos1\n",
        "#print(total_cases)\n",
        "numerator=t_pos+t_neg1\n",
        "accuracy=numerator/total_cases\n",
        "accuracy=accuracy*100\n",
        "print(\"Accuracy is: {}%\".format(accuracy))"
      ],
      "execution_count": 627,
      "outputs": [
        {
          "output_type": "stream",
          "text": [
            "Accuracy is: 96.71875%\n"
          ],
          "name": "stdout"
        }
      ]
    },
    {
      "cell_type": "code",
      "metadata": {
        "id": "xsM2YjSdyluI",
        "colab_type": "code",
        "colab": {
          "base_uri": "https://localhost:8080/",
          "height": 102
        },
        "outputId": "194a9279-fc03-46be-eef1-bc037381f0d8"
      },
      "source": [
        "print(\"Accuracy is: {}%\".format(accuracy))\n",
        "print(\"True Positives:{}\".format(t_pos))\n",
        "print(\"True Negatives:{}\".format(t_neg1))\n",
        "print(\"False Positive:{}\".format(f_pos1))\n",
        "print(\"False Negative:{}\".format(f_neg))"
      ],
      "execution_count": 628,
      "outputs": [
        {
          "output_type": "stream",
          "text": [
            "Accuracy is: 96.71875%\n",
            "True Positives:4660\n",
            "True Negatives:4625\n",
            "False Positive:175\n",
            "False Negative:140\n"
          ],
          "name": "stdout"
        }
      ]
    },
    {
      "cell_type": "code",
      "metadata": {
        "id": "cykd-kDu4ZEC",
        "colab_type": "code",
        "colab": {
          "base_uri": "https://localhost:8080/",
          "height": 68
        },
        "outputId": "96f63e9d-ce20-46ae-da62-eae1682bef5b"
      },
      "source": [
        "false_acceptance = f_pos1/(f_pos1+t_neg1)\n",
        "false_rejection = f_neg/(t_pos+f_neg)\n",
        "print(\"FAR:{}\".format(false_acceptance))\n",
        "print(\"FRR:{}\".format(false_rejection))\n",
        "print(\"Average of FAR & FRR:{}\".format((float(false_acceptance)+float(false_rejection))*50))"
      ],
      "execution_count": 631,
      "outputs": [
        {
          "output_type": "stream",
          "text": [
            "FAR:0.036458333333333336\n",
            "FRR:0.029166666666666667\n",
            "Average of FAR & FRR:3.28125\n"
          ],
          "name": "stdout"
        }
      ]
    }
  ]
}