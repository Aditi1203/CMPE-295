{
  "nbformat": 4,
  "nbformat_minor": 0,
  "metadata": {
    "colab": {
      "name": "ModelGraphImages.ipynb",
      "provenance": [],
      "collapsed_sections": []
    },
    "kernelspec": {
      "name": "python3",
      "display_name": "Python 3"
    },
    "accelerator": "GPU"
  },
  "cells": [
    {
      "cell_type": "code",
      "metadata": {
        "id": "dPE5PEEaOa5n",
        "colab_type": "code",
        "outputId": "fee5218b-a121-4b41-e9ab-6390710bc9bb",
        "colab": {
          "base_uri": "https://localhost:8080/",
          "height": 134
        }
      },
      "source": [
        "import pandas as pd\n",
        "import numpy as np\n",
        "import cv2\n",
        "import os\n",
        "import imutils\n",
        "from PIL import Image\n",
        "import keras\n",
        "from keras import Sequential, losses, optimizers\n",
        "from keras.layers import Dense, Conv2D, MaxPool2D, Average, Flatten, Dropout, Activation\n",
        "from keras.utils import to_categorical, plot_model,vis_utils\n",
        "from sklearn.preprocessing import LabelEncoder\n",
        "from sklearn.model_selection import train_test_split\n",
        "from keras.callbacks import TensorBoard, EarlyStopping\n",
        "from keras.preprocessing.image import img_to_array\n",
        "from skimage import io\n",
        "import imutils\n",
        "import matplotlib.pyplot as plt\n",
        "import matplotlib.image as mpimg\n",
        "from google.colab import files\n",
        "from google.colab import drive\n",
        "import glob\n",
        "import pywt\n",
        "from scipy import signal\n",
        "import ecg_plot\n",
        "drive.mount('/content/gdrive')"
      ],
      "execution_count": 1,
      "outputs": [
        {
          "output_type": "stream",
          "text": [
            "Using TensorFlow backend.\n"
          ],
          "name": "stderr"
        },
        {
          "output_type": "display_data",
          "data": {
            "text/html": [
              "<p style=\"color: red;\">\n",
              "The default version of TensorFlow in Colab will soon switch to TensorFlow 2.x.<br>\n",
              "We recommend you <a href=\"https://www.tensorflow.org/guide/migrate\" target=\"_blank\">upgrade</a> now \n",
              "or ensure your notebook will continue to use TensorFlow 1.x via the <code>%tensorflow_version 1.x</code> magic:\n",
              "<a href=\"https://colab.research.google.com/notebooks/tensorflow_version.ipynb\" target=\"_blank\">more info</a>.</p>\n"
            ],
            "text/plain": [
              "<IPython.core.display.HTML object>"
            ]
          },
          "metadata": {
            "tags": []
          }
        },
        {
          "output_type": "stream",
          "text": [
            "Drive already mounted at /content/gdrive; to attempt to forcibly remount, call drive.mount(\"/content/gdrive\", force_remount=True).\n"
          ],
          "name": "stdout"
        }
      ]
    },
    {
      "cell_type": "code",
      "metadata": {
        "id": "nmVpDJK_fv-b",
        "colab_type": "code",
        "outputId": "627bedcf-d251-4f5e-acb5-5a71375b3d8f",
        "colab": {
          "base_uri": "https://localhost:8080/",
          "height": 105
        }
      },
      "source": [
        "pip install ecg_plot"
      ],
      "execution_count": 1,
      "outputs": [
        {
          "output_type": "stream",
          "text": [
            "Collecting ecg_plot\n",
            "  Downloading https://files.pythonhosted.org/packages/7b/39/f0cd881facd79572f6356df269fb733b96f339f6f2c23c0213a9d953868f/ecg_plot-0.2.2-py3-none-any.whl\n",
            "Installing collected packages: ecg-plot\n",
            "Successfully installed ecg-plot-0.2.2\n"
          ],
          "name": "stdout"
        }
      ]
    },
    {
      "cell_type": "code",
      "metadata": {
        "id": "esPFb1sJOxBG",
        "colab_type": "code",
        "colab": {}
      },
      "source": [
        "class DataModel:\n",
        "    \"\"\"\n",
        "            DataModel\n",
        "            not used currently in the program.\n",
        "    \"\"\"\n",
        "    def __init__(self):\n",
        "        self.items_labels = None\n",
        "        self.images = []\n",
        "        self.curated_data = {}\n",
        "    def add_image(self, image_array):\n",
        "        self.images.append(image_array)\n",
        "    def add_labels(self, df):\n",
        "        self.item_labels = df\n",
        "    def add_curated_data(self, image, emotion):\n",
        "        self.curated_data['segment'] = image #Array from csv of each segment\n",
        "        self.curated_data['label'] = label #Label\n",
        "        self.curated_data['scalogram'] =scaledImage #scalogram of each segment\n",
        "\n",
        "def load_data(number_of_items=20):\n",
        "    \"\"\"\n",
        "        number_of_items -> Number of items to return\n",
        "        returns the data in a dictionary of images and labels.\n",
        "    \"\"\"\n",
        "    path = \"gdrive/My Drive/CMPE295B/csv_segmented_individual\"\n",
        "    data = [] \n",
        "    curated_data = {\"segments\":[], \"label\":[], \"scalogram\":[]}\n",
        "    for subject_name in os.listdir(path)[:number_of_items]:\n",
        "        # At the start of the iteration build a data model\n",
        "        #data_model = DataModel()\n",
        "        if subject_name == \".DS_Store\":\n",
        "            continue\n",
        "        print (\"Going through subject:\" + subject_name)\n",
        "        base=os.path.basename(path+\"/\"+subject_name)\n",
        "        labelData=os.path.splitext(base)[0]\n",
        "        print(labelData)\n",
        "        i=1\n",
        "        for items in os.listdir(path+\"/\"+subject_name):\n",
        "          #print (items)\n",
        "          print(i)\n",
        "          if items == \".DS_Store\":\n",
        "            continue\n",
        "          else:\n",
        "            try:\n",
        "              if items.endswith(\".csv\"):\n",
        "                i=i+1\n",
        "                #--------Approach 1------------------\n",
        "                df1=np.genfromtxt(path+\"/\"+subject_name+\"/\"+items, delimiter=',')\n",
        "                #print(type(df1))\n",
        "                print(df1.shape)\n",
        "                #-----------------------To show Segment plot. Comment scalogram plt---\n",
        "                plt.plot(df1)\n",
        "                plt.grid(True)\n",
        "                plt.savefig(path+\"/\"+subject_name+\"/\"+\"plotECG.png\")\n",
        "                plt.show() \n",
        "                image1=cv2.imread(path+\"/\"+subject_name+\"/\"+\"plotECG.png\")\n",
        "                image1=cv2.resize(image1,(250,250))\n",
        "                #plt.imshow(image1)\n",
        "                #plt.show()\n",
        "                #print(image1.shape)\n",
        "                #---------------------------------------------------------\n",
        "                \"\"\"df1=np.genfromtxt(path+\"/\"+subject_name+\"/\"+items, delimiter=',')\n",
        "                #print(type(df1))\n",
        "                #-----------------------To show Segment plot. Comment scalogram plt---\n",
        "                #plt.plot(df1)\n",
        "                #plt.show()\"\"\"\n",
        "\n",
        "              #curated_data['segments'].append(df1)\n",
        "              curated_data['scalogram'].append(image1)\n",
        "              curated_data['label'].append(labelData)\n",
        "            \n",
        "            except:\n",
        "              df = None                    \n",
        "        #data.append(data_model) # Save all the data\n",
        "\n",
        "    return curated_data\n"
      ],
      "execution_count": 0,
      "outputs": []
    },
    {
      "cell_type": "code",
      "metadata": {
        "id": "h57Wb7bU1_5L",
        "colab_type": "code",
        "colab": {}
      },
      "source": [
        "data = load_data(number_of_items=12)"
      ],
      "execution_count": 0,
      "outputs": []
    },
    {
      "cell_type": "code",
      "metadata": {
        "id": "2vGPO3r3uNdM",
        "colab_type": "code",
        "outputId": "f1fb7f1e-4aa5-4d6b-b7cc-f57b19658850",
        "colab": {
          "base_uri": "https://localhost:8080/",
          "height": 51
        }
      },
      "source": [
        "print(len(data['scalogram']))\n",
        "print(data['label'].shape)\n",
        "encoder = LabelEncoder()\n",
        "encoder.fit(data['label'])"
      ],
      "execution_count": 0,
      "outputs": [
        {
          "output_type": "stream",
          "text": [
            "6877\n"
          ],
          "name": "stdout"
        },
        {
          "output_type": "execute_result",
          "data": {
            "text/plain": [
              "LabelEncoder()"
            ]
          },
          "metadata": {
            "tags": []
          },
          "execution_count": 6
        }
      ]
    },
    {
      "cell_type": "code",
      "metadata": {
        "id": "DCYsF60Eus1U",
        "colab_type": "code",
        "colab": {}
      },
      "source": [
        "# Label Encoding all the emotion data\n",
        "data['label'] = encoder.transform(data['label'])"
      ],
      "execution_count": 0,
      "outputs": []
    },
    {
      "cell_type": "code",
      "metadata": {
        "id": "Lj8pXVjNuu5s",
        "colab_type": "code",
        "colab": {}
      },
      "source": [
        "all_the_classes = encoder.classes_\n",
        "mapping = {0: 'person100',\n",
        " 1: 'person101',\n",
        " 2: 'person102',\n",
        " 3: 'person103',\n",
        " 4: 'person104',\n",
        " 5: 'person105',\n",
        " 6: 'person106',\n",
        " 7: 'person107',\n",
        " 8: 'person108',\n",
        " 9: 'person109',\n",
        " 10: 'person111',\n",
        " 11: 'person112',\n",
        " 12: 'person113',\n",
        " 13: 'person114',\n",
        " 14: 'person115',\n",
        " 15: 'person116',\n",
        " 16: 'person117',\n",
        " 17: 'person118',}\n",
        "\n",
        "# Get emotion from class number   \n",
        "def get_emotion_from_class(class_number):\n",
        "    \"\"\"\n",
        "        gets the corresponding emotion from the class\n",
        "    \"\"\"\n",
        "    if mapping.get(class_number,None):\n",
        "        return mapping.get(class_number)\n",
        "    else:\n",
        "        return -1 # No such class"
      ],
      "execution_count": 0,
      "outputs": []
    },
    {
      "cell_type": "code",
      "metadata": {
        "id": "pof137S_v21_",
        "colab_type": "code",
        "colab": {}
      },
      "source": [
        "# Extracting features and labels\n",
        "features = np.array(data['scalogram'])\n",
        "labels = data['label']"
      ],
      "execution_count": 0,
      "outputs": []
    },
    {
      "cell_type": "code",
      "metadata": {
        "id": "04n2MPYLv_9m",
        "colab_type": "code",
        "outputId": "fd740f06-ad49-48cc-896c-62cf1c991939",
        "colab": {
          "base_uri": "https://localhost:8080/",
          "height": 51
        }
      },
      "source": [
        "print (\"Shape of features: \", features.shape)\n",
        "print (\"Shape of labels: \", labels.shape)"
      ],
      "execution_count": 0,
      "outputs": [
        {
          "output_type": "stream",
          "text": [
            "Shape of features:  (6877, 250, 250, 3)\n",
            "Shape of labels:  (6877,)\n"
          ],
          "name": "stdout"
        }
      ]
    },
    {
      "cell_type": "code",
      "metadata": {
        "id": "JfiwbhCkwEqX",
        "colab_type": "code",
        "colab": {}
      },
      "source": [
        "labels = to_categorical(labels, num_classes=len(mapping))"
      ],
      "execution_count": 0,
      "outputs": []
    },
    {
      "cell_type": "code",
      "metadata": {
        "id": "y-YG-yREwHRM",
        "colab_type": "code",
        "outputId": "eeb54b5d-0172-42ad-d1a1-16bc61d0d7e4",
        "colab": {
          "base_uri": "https://localhost:8080/",
          "height": 258
        }
      },
      "source": [
        "model = Sequential()\n",
        "model.add(Conv2D(8, kernel_size=5, input_shape=(250,250,3), activation=\"relu\"))\n",
        "model.add(Conv2D(8, kernel_size=5, activation=\"relu\"))\n",
        "model.add(MaxPool2D(2))\n",
        "model.add(Dropout(0.25))\n",
        "#model.add(Conv2D(16, kernel_size=5, activation=\"relu\"))\n",
        "#model.add(Conv2D(16, kernel_size=5, activation=\"relu\"))\n",
        "#model.add(MaxPool2D(2))\n",
        "#model.add(Dropout(0.25))\n",
        "model.add(Flatten())\n",
        "model.add(Dropout(0.25))\n",
        "model.add(Dense(50, activation=\"relu\"))\n",
        "model.add(Dense(50, activation=\"relu\"))\n",
        "model.add(Dropout(0.5))\n",
        "model.add(Dense(50, activation=\"relu\"))\n",
        "model.add(Dense(len(mapping), activation=\"softmax\"))"
      ],
      "execution_count": 0,
      "outputs": [
        {
          "output_type": "stream",
          "text": [
            "WARNING:tensorflow:From /usr/local/lib/python3.6/dist-packages/keras/backend/tensorflow_backend.py:66: The name tf.get_default_graph is deprecated. Please use tf.compat.v1.get_default_graph instead.\n",
            "\n",
            "WARNING:tensorflow:From /usr/local/lib/python3.6/dist-packages/keras/backend/tensorflow_backend.py:541: The name tf.placeholder is deprecated. Please use tf.compat.v1.placeholder instead.\n",
            "\n",
            "WARNING:tensorflow:From /usr/local/lib/python3.6/dist-packages/keras/backend/tensorflow_backend.py:4432: The name tf.random_uniform is deprecated. Please use tf.random.uniform instead.\n",
            "\n",
            "WARNING:tensorflow:From /usr/local/lib/python3.6/dist-packages/keras/backend/tensorflow_backend.py:4267: The name tf.nn.max_pool is deprecated. Please use tf.nn.max_pool2d instead.\n",
            "\n",
            "WARNING:tensorflow:From /usr/local/lib/python3.6/dist-packages/keras/backend/tensorflow_backend.py:148: The name tf.placeholder_with_default is deprecated. Please use tf.compat.v1.placeholder_with_default instead.\n",
            "\n",
            "WARNING:tensorflow:From /usr/local/lib/python3.6/dist-packages/keras/backend/tensorflow_backend.py:3733: calling dropout (from tensorflow.python.ops.nn_ops) with keep_prob is deprecated and will be removed in a future version.\n",
            "Instructions for updating:\n",
            "Please use `rate` instead of `keep_prob`. Rate should be set to `rate = 1 - keep_prob`.\n"
          ],
          "name": "stdout"
        }
      ]
    },
    {
      "cell_type": "code",
      "metadata": {
        "id": "RXnAMZNKwJKu",
        "colab_type": "code",
        "outputId": "34bbcb06-747b-4735-89a4-8a4bfe5b9acb",
        "colab": {
          "base_uri": "https://localhost:8080/",
          "height": 663
        }
      },
      "source": [
        "model.summary()"
      ],
      "execution_count": 0,
      "outputs": [
        {
          "output_type": "stream",
          "text": [
            "Model: \"sequential_1\"\n",
            "_________________________________________________________________\n",
            "Layer (type)                 Output Shape              Param #   \n",
            "=================================================================\n",
            "conv2d_1 (Conv2D)            (None, 246, 246, 8)       608       \n",
            "_________________________________________________________________\n",
            "conv2d_2 (Conv2D)            (None, 242, 242, 8)       1608      \n",
            "_________________________________________________________________\n",
            "max_pooling2d_1 (MaxPooling2 (None, 121, 121, 8)       0         \n",
            "_________________________________________________________________\n",
            "dropout_1 (Dropout)          (None, 121, 121, 8)       0         \n",
            "_________________________________________________________________\n",
            "conv2d_3 (Conv2D)            (None, 117, 117, 16)      3216      \n",
            "_________________________________________________________________\n",
            "conv2d_4 (Conv2D)            (None, 113, 113, 16)      6416      \n",
            "_________________________________________________________________\n",
            "max_pooling2d_2 (MaxPooling2 (None, 56, 56, 16)        0         \n",
            "_________________________________________________________________\n",
            "dropout_2 (Dropout)          (None, 56, 56, 16)        0         \n",
            "_________________________________________________________________\n",
            "flatten_1 (Flatten)          (None, 50176)             0         \n",
            "_________________________________________________________________\n",
            "dropout_3 (Dropout)          (None, 50176)             0         \n",
            "_________________________________________________________________\n",
            "dense_1 (Dense)              (None, 50)                2508850   \n",
            "_________________________________________________________________\n",
            "dense_2 (Dense)              (None, 50)                2550      \n",
            "_________________________________________________________________\n",
            "dropout_4 (Dropout)          (None, 50)                0         \n",
            "_________________________________________________________________\n",
            "dense_3 (Dense)              (None, 50)                2550      \n",
            "_________________________________________________________________\n",
            "dense_4 (Dense)              (None, 18)                918       \n",
            "=================================================================\n",
            "Total params: 2,526,716\n",
            "Trainable params: 2,526,716\n",
            "Non-trainable params: 0\n",
            "_________________________________________________________________\n"
          ],
          "name": "stdout"
        }
      ]
    },
    {
      "cell_type": "code",
      "metadata": {
        "id": "4PzauYMpwPTi",
        "colab_type": "code",
        "outputId": "79e815a2-d894-41f4-eaa3-441f7744af19",
        "colab": {
          "base_uri": "https://localhost:8080/",
          "height": 105
        }
      },
      "source": [
        "\n",
        "model.compile(optimizer=optimizers.adam(lr=0.001), loss=keras.losses.categorical_crossentropy, metrics=['acc'])"
      ],
      "execution_count": 0,
      "outputs": [
        {
          "output_type": "stream",
          "text": [
            "WARNING:tensorflow:From /usr/local/lib/python3.6/dist-packages/keras/optimizers.py:793: The name tf.train.Optimizer is deprecated. Please use tf.compat.v1.train.Optimizer instead.\n",
            "\n",
            "WARNING:tensorflow:From /usr/local/lib/python3.6/dist-packages/keras/backend/tensorflow_backend.py:3576: The name tf.log is deprecated. Please use tf.math.log instead.\n",
            "\n"
          ],
          "name": "stdout"
        }
      ]
    },
    {
      "cell_type": "code",
      "metadata": {
        "id": "kuYn5X5qwVO9",
        "colab_type": "code",
        "outputId": "48f04dff-32bf-468e-b1c5-f9219aefd01c",
        "colab": {
          "base_uri": "https://localhost:8080/",
          "height": 51
        }
      },
      "source": [
        "# Splitting\n",
        "features_train, features_test, labels_train, labels_test = train_test_split(features, labels, shuffle=True, random_state=34)\n",
        "print(labels_train.shape)\n",
        "print(features_train.shape)"
      ],
      "execution_count": 0,
      "outputs": [
        {
          "output_type": "stream",
          "text": [
            "(5157, 18)\n",
            "(5157, 250, 250, 3)\n"
          ],
          "name": "stdout"
        }
      ]
    },
    {
      "cell_type": "code",
      "metadata": {
        "id": "6Ua51GmJwW9U",
        "colab_type": "code",
        "colab": {}
      },
      "source": [
        "tensorboard = TensorBoard()\n",
        "earlystopping = EarlyStopping(patience=3)"
      ],
      "execution_count": 0,
      "outputs": []
    },
    {
      "cell_type": "code",
      "metadata": {
        "id": "UQcUF9E0wdHL",
        "colab_type": "code",
        "colab": {}
      },
      "source": [
        "features_train = features_train.astype(\"float32\")\n",
        "features_test = features_test.astype(\"float32\")"
      ],
      "execution_count": 0,
      "outputs": []
    },
    {
      "cell_type": "code",
      "metadata": {
        "id": "3HfPZtTAwfrS",
        "colab_type": "code",
        "outputId": "8ed34fa2-e88d-4d0a-b627-64eb3dbf6c7b",
        "colab": {
          "base_uri": "https://localhost:8080/",
          "height": 51
        }
      },
      "source": [
        "\n",
        "features_train = features_train / 1/255\n",
        "features_test = features_test / 1/255\n",
        "\n",
        "print(features_train.shape)\n",
        "print(features_test.shape)"
      ],
      "execution_count": 0,
      "outputs": [
        {
          "output_type": "stream",
          "text": [
            "(5157, 250, 250, 3)\n",
            "(1720, 250, 250, 3)\n"
          ],
          "name": "stdout"
        }
      ]
    },
    {
      "cell_type": "code",
      "metadata": {
        "id": "4hMmkIJ4wk0p",
        "colab_type": "code",
        "outputId": "87973e1c-3ff6-417a-c573-45f0f25fecb4",
        "colab": {
          "base_uri": "https://localhost:8080/",
          "height": 51
        }
      },
      "source": [
        "features_train = features_train.reshape(len(features_train), 250, 250, 3)\n",
        "features_test = features_test.reshape(len(features_test), 250, 250, 3)\n",
        "print(features_train.shape)\n",
        "print(features_test.shape)\n",
        "labels_train1=[]"
      ],
      "execution_count": 0,
      "outputs": [
        {
          "output_type": "stream",
          "text": [
            "(5157, 250, 250, 3)\n",
            "(1720, 250, 250, 3)\n"
          ],
          "name": "stdout"
        }
      ]
    },
    {
      "cell_type": "code",
      "metadata": {
        "id": "kUUswDT9wmUI",
        "colab_type": "code",
        "outputId": "4cd43f9f-d4d8-44ec-9965-a3411e20ec9b",
        "colab": {
          "base_uri": "https://localhost:8080/",
          "height": 785
        }
      },
      "source": [
        "# Training\n",
        "history = model.fit(features_train, labels_train, epochs=100, batch_size=32, callbacks=[tensorboard,earlystopping], validation_data=(features_test, labels_test))"
      ],
      "execution_count": 0,
      "outputs": [
        {
          "output_type": "stream",
          "text": [
            "WARNING:tensorflow:From /tensorflow-1.15.0/python3.6/tensorflow_core/python/ops/math_grad.py:1424: where (from tensorflow.python.ops.array_ops) is deprecated and will be removed in a future version.\n",
            "Instructions for updating:\n",
            "Use tf.where in 2.0, which has the same broadcast rule as np.where\n",
            "WARNING:tensorflow:From /usr/local/lib/python3.6/dist-packages/keras/backend/tensorflow_backend.py:1033: The name tf.assign_add is deprecated. Please use tf.compat.v1.assign_add instead.\n",
            "\n",
            "WARNING:tensorflow:From /usr/local/lib/python3.6/dist-packages/keras/backend/tensorflow_backend.py:1020: The name tf.assign is deprecated. Please use tf.compat.v1.assign instead.\n",
            "\n",
            "WARNING:tensorflow:From /usr/local/lib/python3.6/dist-packages/keras/backend/tensorflow_backend.py:3005: The name tf.Session is deprecated. Please use tf.compat.v1.Session instead.\n",
            "\n",
            "Train on 5157 samples, validate on 1720 samples\n",
            "WARNING:tensorflow:From /usr/local/lib/python3.6/dist-packages/keras/backend/tensorflow_backend.py:190: The name tf.get_default_session is deprecated. Please use tf.compat.v1.get_default_session instead.\n",
            "\n",
            "WARNING:tensorflow:From /usr/local/lib/python3.6/dist-packages/keras/backend/tensorflow_backend.py:197: The name tf.ConfigProto is deprecated. Please use tf.compat.v1.ConfigProto instead.\n",
            "\n",
            "WARNING:tensorflow:From /usr/local/lib/python3.6/dist-packages/keras/backend/tensorflow_backend.py:207: The name tf.global_variables is deprecated. Please use tf.compat.v1.global_variables instead.\n",
            "\n",
            "WARNING:tensorflow:From /usr/local/lib/python3.6/dist-packages/keras/backend/tensorflow_backend.py:216: The name tf.is_variable_initialized is deprecated. Please use tf.compat.v1.is_variable_initialized instead.\n",
            "\n",
            "WARNING:tensorflow:From /usr/local/lib/python3.6/dist-packages/keras/backend/tensorflow_backend.py:223: The name tf.variables_initializer is deprecated. Please use tf.compat.v1.variables_initializer instead.\n",
            "\n",
            "WARNING:tensorflow:From /usr/local/lib/python3.6/dist-packages/keras/callbacks.py:1122: The name tf.summary.merge_all is deprecated. Please use tf.compat.v1.summary.merge_all instead.\n",
            "\n",
            "WARNING:tensorflow:From /usr/local/lib/python3.6/dist-packages/keras/callbacks.py:1125: The name tf.summary.FileWriter is deprecated. Please use tf.compat.v1.summary.FileWriter instead.\n",
            "\n",
            "Epoch 1/100\n",
            "5157/5157 [==============================] - 14s 3ms/step - loss: 1.4211 - acc: 0.4590 - val_loss: 0.1102 - val_acc: 0.9674\n",
            "WARNING:tensorflow:From /usr/local/lib/python3.6/dist-packages/keras/callbacks.py:1265: The name tf.Summary is deprecated. Please use tf.compat.v1.Summary instead.\n",
            "\n",
            "Epoch 2/100\n",
            "5157/5157 [==============================] - 7s 1ms/step - loss: 0.1061 - acc: 0.9659 - val_loss: 0.0669 - val_acc: 0.9791\n",
            "Epoch 3/100\n",
            "5157/5157 [==============================] - 7s 1ms/step - loss: 0.0673 - acc: 0.9822 - val_loss: 0.0452 - val_acc: 0.9831\n",
            "Epoch 4/100\n",
            "5157/5157 [==============================] - 7s 1ms/step - loss: 0.0474 - acc: 0.9872 - val_loss: 0.0305 - val_acc: 0.9901\n",
            "Epoch 5/100\n",
            "5157/5157 [==============================] - 7s 1ms/step - loss: 0.0337 - acc: 0.9915 - val_loss: 0.0528 - val_acc: 0.9878\n",
            "Epoch 6/100\n",
            "5157/5157 [==============================] - 7s 1ms/step - loss: 0.0233 - acc: 0.9936 - val_loss: 0.0289 - val_acc: 0.9919\n",
            "Epoch 7/100\n",
            "5157/5157 [==============================] - 7s 1ms/step - loss: 0.0239 - acc: 0.9940 - val_loss: 0.0317 - val_acc: 0.9907\n",
            "Epoch 8/100\n",
            "5157/5157 [==============================] - 7s 1ms/step - loss: 0.0133 - acc: 0.9965 - val_loss: 0.0360 - val_acc: 0.9959\n",
            "Epoch 9/100\n",
            "5157/5157 [==============================] - 7s 1ms/step - loss: 0.0310 - acc: 0.9940 - val_loss: 0.3433 - val_acc: 0.9244\n"
          ],
          "name": "stdout"
        }
      ]
    }
  ]
}